{
 "cells": [
  {
   "cell_type": "code",
   "execution_count": 11,
   "metadata": {},
   "outputs": [
    {
     "data": {
      "text/plain": [
       "<SFTPAttributes: [ size=162915 uid=1012 gid=1014 mode=0o100664 atime=1596797749 mtime=1596797750 ]>"
      ]
     },
     "execution_count": 11,
     "metadata": {},
     "output_type": "execute_result"
    }
   ],
   "source": [
    "# import ftplib\n",
    "# session = ftplib.FTP('15.87.170.227','jordisc','jordisc')\n",
    "# file = open('Untitled.ipynb','rb')                  # file to send\n",
    "# session.storbinary('STOR Untitled.ipynb', file)     # send the file\n",
    "# file.close()                                    # close file and FTP\n",
    "# session.quit()\n",
    "\n",
    "\n",
    "import paramiko\n",
    "s = paramiko.SSHClient()\n",
    "s.set_missing_host_key_policy(paramiko.AutoAddPolicy())\n",
    "s.connect(\"15.87.170.227\",22,username='jordisc',password='jordisc',timeout=4)\n",
    "\n",
    "sftp = s.open_sftp()\n",
    "sftp.put(r\"C:\\Users\\solej\\OneDrive - HP Inc\\Reports\\Salesforce ML\\Machine Learning\\main\\most_occur.xlsx\",\n",
    "         \"/home/jordisc/ml_pipeline/Machine Learning/main/backups_scrape/most_occur2.xlsx\")"
   ]
  },
  {
   "cell_type": "code",
   "execution_count": null,
   "metadata": {},
   "outputs": [],
   "source": []
  }
 ],
 "metadata": {
  "kernelspec": {
   "display_name": "Python 3",
   "language": "python",
   "name": "python3"
  },
  "language_info": {
   "codemirror_mode": {
    "name": "ipython",
    "version": 3
   },
   "file_extension": ".py",
   "mimetype": "text/x-python",
   "name": "python",
   "nbconvert_exporter": "python",
   "pygments_lexer": "ipython3",
   "version": "3.7.4"
  }
 },
 "nbformat": 4,
 "nbformat_minor": 2
}
