{
 "cells": [
  {
   "cell_type": "markdown",
   "metadata": {},
   "source": [
    "# Predicting 3D Sales"
   ]
  },
  {
   "cell_type": "code",
   "execution_count": 1,
   "metadata": {},
   "outputs": [
    {
     "name": "stderr",
     "output_type": "stream",
     "text": [
      "C:\\Users\\solej\\AppData\\Local\\Continuum\\anaconda3\\lib\\site-packages\\sklearn\\utils\\deprecation.py:143: FutureWarning: The sklearn.ensemble.forest module is  deprecated in version 0.22 and will be removed in version 0.24. The corresponding classes / functions should instead be imported from sklearn.ensemble. Anything that cannot be imported from sklearn.ensemble is now part of the private API.\n",
      "  warnings.warn(message, FutureWarning)\n"
     ]
    }
   ],
   "source": [
    "import pandas as pd\n",
    "import numpy as np\n",
    "from sklearn.feature_selection import SelectKBest\n",
    "from sklearn.feature_selection import chi2\n",
    "from matplotlib import pyplot as plt\n",
    "import seaborn as sns\n",
    "from sklearn import metrics\n",
    "from sklearn import preprocessing\n",
    "from xgboost import XGBClassifier, plot_importance\n",
    "from treeinterpreter import treeinterpreter as ti\n",
    "import time\n",
    "date_string = time.strftime(\"%Y-%m-%d-%Hh\")\n",
    "\n",
    "pd.set_option('display.max_rows', 5000)\n",
    "pd.set_option('display.max_columns', 5000)\n",
    "pd.set_option('display.width', 1000)"
   ]
  },
  {
   "cell_type": "code",
   "execution_count": 2,
   "metadata": {},
   "outputs": [],
   "source": [
    "# READ\n",
    "leads_df = pd.read_excel('Results_Verticals_Salesforce2020-08-07-09h.xlsx')\n",
    "verticalization_df = pd.read_excel('Verticals Linkedin.xlsx')"
   ]
  },
  {
   "cell_type": "code",
   "execution_count": 3,
   "metadata": {},
   "outputs": [
    {
     "data": {
      "text/plain": [
       "array(['Closed', 'Market Development', 'Converted', 'Sales Nurture',\n",
       "       'New', 'Contacting', 'Sales Qualified', 'Interest', 'List',\n",
       "       'Qualification'], dtype=object)"
      ]
     },
     "execution_count": 3,
     "metadata": {},
     "output_type": "execute_result"
    }
   ],
   "source": [
    "leads_df['Lead Status'].unique()"
   ]
  },
  {
   "cell_type": "code",
   "execution_count": 4,
   "metadata": {},
   "outputs": [],
   "source": [
    "leads_df['Response Creation Date'] = leads_df['Response Creation Date'].astype('datetime64[ns]')"
   ]
  },
  {
   "cell_type": "code",
   "execution_count": 5,
   "metadata": {},
   "outputs": [],
   "source": [
    "leads_df = leads_df.sort_values(by='Response Creation Date', ascending=False)\n",
    "leads_df.drop_duplicates(subset =\"ResponseId\", keep=\"first\", inplace = True) \n",
    "\n",
    "leads_df = leads_df[leads_df.columns.drop(list(leads_df.filter(regex='Unnamed:')))] # drops all cols with unnamed"
   ]
  },
  {
   "cell_type": "code",
   "execution_count": 6,
   "metadata": {},
   "outputs": [],
   "source": [
    "leads_df['Lead Status'].unique()\n",
    "leads_df[\"Lead Status\"] = leads_df[\"Lead Status\"].replace('Contacting', 'Work In Progress')\n",
    "leads_df[\"Lead Status\"] = leads_df[\"Lead Status\"].replace('Interest', 'Work In Progress')\n",
    "\n",
    "leads_df[\"Lead Status\"] = leads_df[\"Lead Status\"].replace('Converted', 'Qualified')\n",
    "leads_df[\"Lead Status\"] = leads_df[\"Lead Status\"].replace('Qualification', 'Qualified')\n",
    "\n",
    "leads_df[\"Lead Status\"] = leads_df[\"Lead Status\"].replace('Closed', 'Disqualified')\n",
    "leads_df[\"Lead Status\"] = leads_df[\"Lead Status\"].replace('New', 'Unqualified')\n",
    "\n",
    "leads_df[\"Lead Status\"] = leads_df[\"Lead Status\"].replace('Sales Nurture', 'Nurture')\n",
    "leads_df[\"Lead Status\"] = leads_df[\"Lead Status\"].replace('Sales Qualified', 'Nurture')\n",
    "leads_df[\"Lead Status\"] = leads_df[\"Lead Status\"].replace('List', 'Nurture')\n",
    "leads_df[\"Lead Status\"] = leads_df[\"Lead Status\"].replace('Market Development', 'Nurture')"
   ]
  },
  {
   "cell_type": "code",
   "execution_count": 7,
   "metadata": {},
   "outputs": [
    {
     "name": "stdout",
     "output_type": "stream",
     "text": [
      "1853\n",
      "4581\n",
      "41498\n"
     ]
    }
   ],
   "source": [
    "print(len(leads_df[leads_df['Lead Status']=='Qualified']))\n",
    "print(len(leads_df[leads_df['Lead Status']=='Nurture']))\n",
    "print(len(leads_df))\n",
    "# 1838 3709 40178    # SALESFORCE 06/07/20"
   ]
  },
  {
   "cell_type": "code",
   "execution_count": 8,
   "metadata": {},
   "outputs": [
    {
     "name": "stdout",
     "output_type": "stream",
     "text": [
      "41498\n"
     ]
    },
    {
     "data": {
      "text/plain": [
       "array(['Unqualified', 'Good', 'Work In Progress', 'Disqualified'],\n",
       "      dtype=object)"
      ]
     },
     "execution_count": 8,
     "metadata": {},
     "output_type": "execute_result"
    }
   ],
   "source": [
    "leads_df[\"Lead Status\"] = leads_df[\"Lead Status\"].replace('Qualified', 'Good')\n",
    "leads_df[\"Lead Status\"] = leads_df[\"Lead Status\"].replace('Nurture', 'Good')\n",
    "\n",
    "print(len(leads_df))\n",
    "leads_df[\"Lead Status\"].unique()\n",
    "# 34459"
   ]
  },
  {
   "cell_type": "markdown",
   "metadata": {},
   "source": [
    "### Some initial analytics"
   ]
  },
  {
   "cell_type": "code",
   "execution_count": 9,
   "metadata": {
    "scrolled": true
   },
   "outputs": [
    {
     "name": "stdout",
     "output_type": "stream",
     "text": [
      "Initially we have:\n",
      "Leads with comments:  45.87 %\n",
      "Verticalized leads: 72.37 %\n",
      "\n",
      "Leads Disqualified: 71.73 %\n",
      "Leads Good: 15.5 %\n",
      "Number of Good Leads: 6434\n",
      "\n",
      "Total Number of Leads: 41498\n",
      "Number Verticalized Leads: 30032\n"
     ]
    },
    {
     "data": {
      "text/html": [
       "<div>\n",
       "<style scoped>\n",
       "    .dataframe tbody tr th:only-of-type {\n",
       "        vertical-align: middle;\n",
       "    }\n",
       "\n",
       "    .dataframe tbody tr th {\n",
       "        vertical-align: top;\n",
       "    }\n",
       "\n",
       "    .dataframe thead th {\n",
       "        text-align: right;\n",
       "    }\n",
       "</style>\n",
       "<table border=\"1\" class=\"dataframe\">\n",
       "  <thead>\n",
       "    <tr style=\"text-align: right;\">\n",
       "      <th></th>\n",
       "      <th>Company</th>\n",
       "      <th>LkdIn_Web_Name</th>\n",
       "      <th>LkdIn_Industry</th>\n",
       "      <th>LkdIn_Company_size</th>\n",
       "      <th>LkdIn_Headquarters</th>\n",
       "      <th>LkdIn_Specialties</th>\n",
       "      <th>LkdIn_Translation</th>\n",
       "      <th>ResponseId</th>\n",
       "      <th>HP Lead ID</th>\n",
       "      <th>First Name</th>\n",
       "      <th>Middle Name</th>\n",
       "      <th>Last Name</th>\n",
       "      <th>Title</th>\n",
       "      <th>Partner Cleansed Account</th>\n",
       "      <th>Email</th>\n",
       "      <th>Phone</th>\n",
       "      <th>State/Province</th>\n",
       "      <th>Country</th>\n",
       "      <th>Region</th>\n",
       "      <th>Sub Region</th>\n",
       "      <th>Estimated Budget</th>\n",
       "      <th>Primary Campaign</th>\n",
       "      <th>Opportunity Name</th>\n",
       "      <th>Opportunity Sales Stage</th>\n",
       "      <th>Opportunity Closed As Won/Lost</th>\n",
       "      <th>Opportunity ClosedWon</th>\n",
       "      <th>Opportunity Owner</th>\n",
       "      <th>Created Month</th>\n",
       "      <th>Last Modified</th>\n",
       "      <th>Lead Status</th>\n",
       "      <th>Status Reason</th>\n",
       "      <th>Lead Owner</th>\n",
       "      <th>Quantity</th>\n",
       "      <th>Lead Qualifier</th>\n",
       "      <th>Accept Lead</th>\n",
       "      <th>Lead Accepted Date</th>\n",
       "      <th>Lead Record Type</th>\n",
       "      <th>Opportunity CloseDate</th>\n",
       "      <th>Opportunity Created Date</th>\n",
       "      <th>Nurture Reason</th>\n",
       "      <th>Willingness to Buy</th>\n",
       "      <th>Nurture Type</th>\n",
       "      <th>Industry</th>\n",
       "      <th>Sub Industry</th>\n",
       "      <th>Lead Source</th>\n",
       "      <th>Street</th>\n",
       "      <th>Rating</th>\n",
       "      <th>Job Role</th>\n",
       "      <th>Job Function</th>\n",
       "      <th>Response Creation Date</th>\n",
       "      <th>Segment</th>\n",
       "      <th>Sub Segment</th>\n",
       "      <th>Reseller Account</th>\n",
       "      <th>Product List</th>\n",
       "      <th>Products</th>\n",
       "      <th>Prod. Family</th>\n",
       "      <th>Lead Close Reasons</th>\n",
       "      <th>Created By</th>\n",
       "      <th>Activ_Attempted Calls</th>\n",
       "      <th>Activ_Budget Change</th>\n",
       "      <th>Activ_Comments</th>\n",
       "      <th>Activ_Disqualified Lead</th>\n",
       "      <th>Activ_EDM</th>\n",
       "      <th>Activ_Email</th>\n",
       "      <th>Activ_Re-assigned Lead</th>\n",
       "      <th>Activ_Reached Calls</th>\n",
       "      <th>Activ_Status Change</th>\n",
       "      <th>Activ_closed response</th>\n",
       "      <th>Activ_re-opened on additional touch</th>\n",
       "      <th>Activ Touches</th>\n",
       "      <th>Campaign Name</th>\n",
       "      <th>End Date</th>\n",
       "      <th>Campaign Type</th>\n",
       "      <th>Camp Touches</th>\n",
       "      <th>Camp_Content and Production</th>\n",
       "      <th>Camp_Digital Marketing</th>\n",
       "      <th>Camp_Direct Marketing</th>\n",
       "      <th>Camp_Events</th>\n",
       "      <th>Camp_External Relations</th>\n",
       "      <th>Camp_Media</th>\n",
       "      <th>Camp_Media: Paid Print</th>\n",
       "      <th>Camp_Sales and Partner Enablement</th>\n",
       "      <th>Camp_Website / Apps</th>\n",
       "      <th>GlsDr_Company size</th>\n",
       "      <th>GlsDr_Income</th>\n",
       "      <th>GlsDr_Industry</th>\n",
       "    </tr>\n",
       "  </thead>\n",
       "  <tbody>\n",
       "    <tr>\n",
       "      <td>26324</td>\n",
       "      <td>indra sistemas, sociedad anonima</td>\n",
       "      <td>INDRA SISTEMAS, SOCIEDAD ANONIMA</td>\n",
       "      <td>NaN</td>\n",
       "      <td>NaN</td>\n",
       "      <td>NaN</td>\n",
       "      <td>NaN</td>\n",
       "      <td>NaN</td>\n",
       "      <td>3DMCR-R2155588</td>\n",
       "      <td>LEAD-0013628857</td>\n",
       "      <td>Carlos Manuel</td>\n",
       "      <td>NaN</td>\n",
       "      <td>Cordero Deline</td>\n",
       "      <td>NaN</td>\n",
       "      <td>0</td>\n",
       "      <td>ccordero@indra.es</td>\n",
       "      <td>34914805000</td>\n",
       "      <td>NaN</td>\n",
       "      <td>Spain</td>\n",
       "      <td>EMEA</td>\n",
       "      <td>IBERIA</td>\n",
       "      <td>NaN</td>\n",
       "      <td>NaN</td>\n",
       "      <td>NaN</td>\n",
       "      <td>NaN</td>\n",
       "      <td>NaN</td>\n",
       "      <td>NaN</td>\n",
       "      <td>NaN</td>\n",
       "      <td>01/04/2020</td>\n",
       "      <td>12/05/2020</td>\n",
       "      <td>Disqualified</td>\n",
       "      <td>NaN</td>\n",
       "      <td>Quique Palau</td>\n",
       "      <td>NaN</td>\n",
       "      <td>NaN</td>\n",
       "      <td>NaN</td>\n",
       "      <td>NaN</td>\n",
       "      <td>Prospect</td>\n",
       "      <td>NaN</td>\n",
       "      <td>NaN</td>\n",
       "      <td>NaN</td>\n",
       "      <td>NaN</td>\n",
       "      <td>NaN</td>\n",
       "      <td>NaN</td>\n",
       "      <td>NaN</td>\n",
       "      <td>NaN</td>\n",
       "      <td>NaN</td>\n",
       "      <td>NaN</td>\n",
       "      <td>NaN</td>\n",
       "      <td>NaN</td>\n",
       "      <td>2015-05-11</td>\n",
       "      <td>Parts Providers</td>\n",
       "      <td>Engineering Companies</td>\n",
       "      <td>NaN</td>\n",
       "      <td>NaN</td>\n",
       "      <td>NaN</td>\n",
       "      <td>VI - 3D Plastics Production HW</td>\n",
       "      <td>Legacy-Customer Unresponsive</td>\n",
       "      <td>NaN</td>\n",
       "      <td>0</td>\n",
       "      <td>0</td>\n",
       "      <td>0</td>\n",
       "      <td>0</td>\n",
       "      <td>0</td>\n",
       "      <td>0</td>\n",
       "      <td>0</td>\n",
       "      <td>0</td>\n",
       "      <td>0</td>\n",
       "      <td>0</td>\n",
       "      <td>NaN</td>\n",
       "      <td>0</td>\n",
       "      <td>3D Q216 WW EMEA Rapid event</td>\n",
       "      <td>2016-04-30</td>\n",
       "      <td>Digital Marketing</td>\n",
       "      <td>2.0</td>\n",
       "      <td>0.0</td>\n",
       "      <td>1.0</td>\n",
       "      <td>1.0</td>\n",
       "      <td>0.0</td>\n",
       "      <td>0.0</td>\n",
       "      <td>0.0</td>\n",
       "      <td>0.0</td>\n",
       "      <td>0.0</td>\n",
       "      <td>0.0</td>\n",
       "      <td>NaN</td>\n",
       "      <td>NaN</td>\n",
       "      <td>NaN</td>\n",
       "    </tr>\n",
       "    <tr>\n",
       "      <td>63203</td>\n",
       "      <td>twinkind gmbh</td>\n",
       "      <td>TWINKIND GmbH</td>\n",
       "      <td>Consumer Services</td>\n",
       "      <td>11-50 employees</td>\n",
       "      <td>Berlin, Berlin</td>\n",
       "      <td>3D scanning and 3D printing</td>\n",
       "      <td>3D scanning and 3D printing</td>\n",
       "      <td>3DMCR-R2155607</td>\n",
       "      <td>LEAD-0013628959</td>\n",
       "      <td>Martin</td>\n",
       "      <td>NaN</td>\n",
       "      <td>Baumdicker</td>\n",
       "      <td>NaN</td>\n",
       "      <td>0</td>\n",
       "      <td>mb@realize-marketing.com</td>\n",
       "      <td>49030555798170</td>\n",
       "      <td>NaN</td>\n",
       "      <td>Germany</td>\n",
       "      <td>EMEA</td>\n",
       "      <td>DACH</td>\n",
       "      <td>NaN</td>\n",
       "      <td>NaN</td>\n",
       "      <td>NaN</td>\n",
       "      <td>NaN</td>\n",
       "      <td>NaN</td>\n",
       "      <td>NaN</td>\n",
       "      <td>NaN</td>\n",
       "      <td>01/04/2020</td>\n",
       "      <td>12/05/2020</td>\n",
       "      <td>Disqualified</td>\n",
       "      <td>NaN</td>\n",
       "      <td>Maximilian Loth</td>\n",
       "      <td>NaN</td>\n",
       "      <td>NaN</td>\n",
       "      <td>NaN</td>\n",
       "      <td>NaN</td>\n",
       "      <td>Prospect</td>\n",
       "      <td>NaN</td>\n",
       "      <td>NaN</td>\n",
       "      <td>NaN</td>\n",
       "      <td>NaN</td>\n",
       "      <td>NaN</td>\n",
       "      <td>NaN</td>\n",
       "      <td>NaN</td>\n",
       "      <td>NaN</td>\n",
       "      <td>NaN</td>\n",
       "      <td>NaN</td>\n",
       "      <td>NaN</td>\n",
       "      <td>NaN</td>\n",
       "      <td>2015-05-11</td>\n",
       "      <td>NaN</td>\n",
       "      <td>NaN</td>\n",
       "      <td>NaN</td>\n",
       "      <td>NaN</td>\n",
       "      <td>NaN</td>\n",
       "      <td>VI - 3D Plastics Production HW</td>\n",
       "      <td>Legacy-Unknown</td>\n",
       "      <td>NaN</td>\n",
       "      <td>0</td>\n",
       "      <td>0</td>\n",
       "      <td>0</td>\n",
       "      <td>0</td>\n",
       "      <td>0</td>\n",
       "      <td>0</td>\n",
       "      <td>0</td>\n",
       "      <td>0</td>\n",
       "      <td>0</td>\n",
       "      <td>0</td>\n",
       "      <td>NaN</td>\n",
       "      <td>0</td>\n",
       "      <td>HP 3DP technology announcement campaign</td>\n",
       "      <td>2016-01-31</td>\n",
       "      <td>Direct Marketing</td>\n",
       "      <td>1.0</td>\n",
       "      <td>0.0</td>\n",
       "      <td>0.0</td>\n",
       "      <td>1.0</td>\n",
       "      <td>0.0</td>\n",
       "      <td>0.0</td>\n",
       "      <td>0.0</td>\n",
       "      <td>0.0</td>\n",
       "      <td>0.0</td>\n",
       "      <td>0.0</td>\n",
       "      <td>NaN</td>\n",
       "      <td>NaN</td>\n",
       "      <td>NaN</td>\n",
       "    </tr>\n",
       "    <tr>\n",
       "      <td>39404</td>\n",
       "      <td>paul coldwell-university of the arts london</td>\n",
       "      <td>NaN</td>\n",
       "      <td>NaN</td>\n",
       "      <td>NaN</td>\n",
       "      <td>NaN</td>\n",
       "      <td>NaN</td>\n",
       "      <td>NaN</td>\n",
       "      <td>3DMCR-R2133812</td>\n",
       "      <td>LEAD-0013628984</td>\n",
       "      <td>Paul</td>\n",
       "      <td>NaN</td>\n",
       "      <td>Coldwell</td>\n",
       "      <td>Profesor</td>\n",
       "      <td>0</td>\n",
       "      <td>p.coldwell@chelsea.arts.ac.uk</td>\n",
       "      <td>NaN</td>\n",
       "      <td>NaN</td>\n",
       "      <td>United Kingdom</td>\n",
       "      <td>EMEA</td>\n",
       "      <td>UKI</td>\n",
       "      <td>NaN</td>\n",
       "      <td>NaN</td>\n",
       "      <td>NaN</td>\n",
       "      <td>NaN</td>\n",
       "      <td>NaN</td>\n",
       "      <td>NaN</td>\n",
       "      <td>NaN</td>\n",
       "      <td>01/04/2020</td>\n",
       "      <td>30/04/2020</td>\n",
       "      <td>Disqualified</td>\n",
       "      <td>NaN</td>\n",
       "      <td>Rebecca Hewson</td>\n",
       "      <td>NaN</td>\n",
       "      <td>NaN</td>\n",
       "      <td>NaN</td>\n",
       "      <td>NaN</td>\n",
       "      <td>Prospect</td>\n",
       "      <td>NaN</td>\n",
       "      <td>NaN</td>\n",
       "      <td>NaN</td>\n",
       "      <td>NaN</td>\n",
       "      <td>NaN</td>\n",
       "      <td>NaN</td>\n",
       "      <td>NaN</td>\n",
       "      <td>NaN</td>\n",
       "      <td>NaN</td>\n",
       "      <td>NaN</td>\n",
       "      <td>NaN</td>\n",
       "      <td>NaN</td>\n",
       "      <td>2015-05-11</td>\n",
       "      <td>NaN</td>\n",
       "      <td>NaN</td>\n",
       "      <td>NaN</td>\n",
       "      <td>NaN</td>\n",
       "      <td>NaN</td>\n",
       "      <td>VI - 3D Plastics Production HW</td>\n",
       "      <td>Legacy-Unknown</td>\n",
       "      <td>NaN</td>\n",
       "      <td>0</td>\n",
       "      <td>0</td>\n",
       "      <td>0</td>\n",
       "      <td>0</td>\n",
       "      <td>0</td>\n",
       "      <td>0</td>\n",
       "      <td>0</td>\n",
       "      <td>0</td>\n",
       "      <td>0</td>\n",
       "      <td>0</td>\n",
       "      <td>NaN</td>\n",
       "      <td>0</td>\n",
       "      <td>HP 3DP technology announcement campaign</td>\n",
       "      <td>2016-01-31</td>\n",
       "      <td>Direct Marketing</td>\n",
       "      <td>1.0</td>\n",
       "      <td>0.0</td>\n",
       "      <td>0.0</td>\n",
       "      <td>1.0</td>\n",
       "      <td>0.0</td>\n",
       "      <td>0.0</td>\n",
       "      <td>0.0</td>\n",
       "      <td>0.0</td>\n",
       "      <td>0.0</td>\n",
       "      <td>0.0</td>\n",
       "      <td>NaN</td>\n",
       "      <td>NaN</td>\n",
       "      <td>NaN</td>\n",
       "    </tr>\n",
       "    <tr>\n",
       "      <td>15678</td>\n",
       "      <td>direct mail house ag</td>\n",
       "      <td>DIRECT MAIL HOUSE AG</td>\n",
       "      <td>Marketing &amp; Advertising</td>\n",
       "      <td>51-200 employees</td>\n",
       "      <td>St.Gallen, Sankt Gallen</td>\n",
       "      <td>personalisierte Mailings, Digital- und Transak...</td>\n",
       "      <td>personalisierte Mailings, Digital- und Transak...</td>\n",
       "      <td>3DMCR-R2134584</td>\n",
       "      <td>LEAD-0013628816</td>\n",
       "      <td>Alex</td>\n",
       "      <td>NaN</td>\n",
       "      <td>Kohler</td>\n",
       "      <td>NaN</td>\n",
       "      <td>0</td>\n",
       "      <td>alex.kohler@gmail.com</td>\n",
       "      <td>41713130135</td>\n",
       "      <td>NaN</td>\n",
       "      <td>Switzerland</td>\n",
       "      <td>EMEA</td>\n",
       "      <td>DACH</td>\n",
       "      <td>NaN</td>\n",
       "      <td>NaN</td>\n",
       "      <td>NaN</td>\n",
       "      <td>NaN</td>\n",
       "      <td>NaN</td>\n",
       "      <td>NaN</td>\n",
       "      <td>NaN</td>\n",
       "      <td>01/04/2020</td>\n",
       "      <td>12/05/2020</td>\n",
       "      <td>Disqualified</td>\n",
       "      <td>NaN</td>\n",
       "      <td>Maximilian Loth</td>\n",
       "      <td>NaN</td>\n",
       "      <td>NaN</td>\n",
       "      <td>NaN</td>\n",
       "      <td>NaN</td>\n",
       "      <td>Prospect</td>\n",
       "      <td>NaN</td>\n",
       "      <td>NaN</td>\n",
       "      <td>NaN</td>\n",
       "      <td>NaN</td>\n",
       "      <td>NaN</td>\n",
       "      <td>NaN</td>\n",
       "      <td>NaN</td>\n",
       "      <td>NaN</td>\n",
       "      <td>NaN</td>\n",
       "      <td>NaN</td>\n",
       "      <td>NaN</td>\n",
       "      <td>NaN</td>\n",
       "      <td>2015-05-11</td>\n",
       "      <td>NaN</td>\n",
       "      <td>NaN</td>\n",
       "      <td>NaN</td>\n",
       "      <td>NaN</td>\n",
       "      <td>NaN</td>\n",
       "      <td>VI - 3D Plastics Production HW</td>\n",
       "      <td>Legacy-Duplicate Lead/Existing Opportunity</td>\n",
       "      <td>NaN</td>\n",
       "      <td>0</td>\n",
       "      <td>0</td>\n",
       "      <td>0</td>\n",
       "      <td>0</td>\n",
       "      <td>0</td>\n",
       "      <td>0</td>\n",
       "      <td>0</td>\n",
       "      <td>0</td>\n",
       "      <td>0</td>\n",
       "      <td>0</td>\n",
       "      <td>NaN</td>\n",
       "      <td>0</td>\n",
       "      <td>HP 3DP technology announcement campaign</td>\n",
       "      <td>2016-01-31</td>\n",
       "      <td>Direct Marketing</td>\n",
       "      <td>1.0</td>\n",
       "      <td>0.0</td>\n",
       "      <td>0.0</td>\n",
       "      <td>1.0</td>\n",
       "      <td>0.0</td>\n",
       "      <td>0.0</td>\n",
       "      <td>0.0</td>\n",
       "      <td>0.0</td>\n",
       "      <td>0.0</td>\n",
       "      <td>0.0</td>\n",
       "      <td>NaN</td>\n",
       "      <td>NaN</td>\n",
       "      <td>NaN</td>\n",
       "    </tr>\n",
       "    <tr>\n",
       "      <td>36378</td>\n",
       "      <td>nedshipgroup</td>\n",
       "      <td>NaN</td>\n",
       "      <td>NaN</td>\n",
       "      <td>NaN</td>\n",
       "      <td>NaN</td>\n",
       "      <td>NaN</td>\n",
       "      <td>NaN</td>\n",
       "      <td>3DMCR-R2165849</td>\n",
       "      <td>LEAD-0013628983</td>\n",
       "      <td>orhan</td>\n",
       "      <td>NaN</td>\n",
       "      <td>celikkol</td>\n",
       "      <td>NaN</td>\n",
       "      <td>0</td>\n",
       "      <td>orhan@nedshipgroup.com</td>\n",
       "      <td>15334520303</td>\n",
       "      <td>NaN</td>\n",
       "      <td>Turkey</td>\n",
       "      <td>EMEA</td>\n",
       "      <td>MEMA</td>\n",
       "      <td>NaN</td>\n",
       "      <td>NaN</td>\n",
       "      <td>NaN</td>\n",
       "      <td>NaN</td>\n",
       "      <td>NaN</td>\n",
       "      <td>NaN</td>\n",
       "      <td>NaN</td>\n",
       "      <td>01/04/2020</td>\n",
       "      <td>12/05/2020</td>\n",
       "      <td>Disqualified</td>\n",
       "      <td>NaN</td>\n",
       "      <td>Kalle Lepola</td>\n",
       "      <td>NaN</td>\n",
       "      <td>NaN</td>\n",
       "      <td>NaN</td>\n",
       "      <td>NaN</td>\n",
       "      <td>Prospect</td>\n",
       "      <td>NaN</td>\n",
       "      <td>NaN</td>\n",
       "      <td>NaN</td>\n",
       "      <td>NaN</td>\n",
       "      <td>NaN</td>\n",
       "      <td>NaN</td>\n",
       "      <td>NaN</td>\n",
       "      <td>NaN</td>\n",
       "      <td>NaN</td>\n",
       "      <td>NaN</td>\n",
       "      <td>NaN</td>\n",
       "      <td>NaN</td>\n",
       "      <td>2015-05-11</td>\n",
       "      <td>NaN</td>\n",
       "      <td>NaN</td>\n",
       "      <td>NaN</td>\n",
       "      <td>NaN</td>\n",
       "      <td>NaN</td>\n",
       "      <td>VI - 3D Plastics Production HW</td>\n",
       "      <td>Legacy-Customer Unresponsive</td>\n",
       "      <td>NaN</td>\n",
       "      <td>0</td>\n",
       "      <td>0</td>\n",
       "      <td>0</td>\n",
       "      <td>0</td>\n",
       "      <td>0</td>\n",
       "      <td>0</td>\n",
       "      <td>0</td>\n",
       "      <td>0</td>\n",
       "      <td>0</td>\n",
       "      <td>0</td>\n",
       "      <td>NaN</td>\n",
       "      <td>0</td>\n",
       "      <td>HP 3DP technology announcement campaign</td>\n",
       "      <td>2016-01-31</td>\n",
       "      <td>Direct Marketing</td>\n",
       "      <td>1.0</td>\n",
       "      <td>0.0</td>\n",
       "      <td>0.0</td>\n",
       "      <td>1.0</td>\n",
       "      <td>0.0</td>\n",
       "      <td>0.0</td>\n",
       "      <td>0.0</td>\n",
       "      <td>0.0</td>\n",
       "      <td>0.0</td>\n",
       "      <td>0.0</td>\n",
       "      <td>NaN</td>\n",
       "      <td>NaN</td>\n",
       "      <td>NaN</td>\n",
       "    </tr>\n",
       "    <tr>\n",
       "      <td>...</td>\n",
       "      <td>...</td>\n",
       "      <td>...</td>\n",
       "      <td>...</td>\n",
       "      <td>...</td>\n",
       "      <td>...</td>\n",
       "      <td>...</td>\n",
       "      <td>...</td>\n",
       "      <td>...</td>\n",
       "      <td>...</td>\n",
       "      <td>...</td>\n",
       "      <td>...</td>\n",
       "      <td>...</td>\n",
       "      <td>...</td>\n",
       "      <td>...</td>\n",
       "      <td>...</td>\n",
       "      <td>...</td>\n",
       "      <td>...</td>\n",
       "      <td>...</td>\n",
       "      <td>...</td>\n",
       "      <td>...</td>\n",
       "      <td>...</td>\n",
       "      <td>...</td>\n",
       "      <td>...</td>\n",
       "      <td>...</td>\n",
       "      <td>...</td>\n",
       "      <td>...</td>\n",
       "      <td>...</td>\n",
       "      <td>...</td>\n",
       "      <td>...</td>\n",
       "      <td>...</td>\n",
       "      <td>...</td>\n",
       "      <td>...</td>\n",
       "      <td>...</td>\n",
       "      <td>...</td>\n",
       "      <td>...</td>\n",
       "      <td>...</td>\n",
       "      <td>...</td>\n",
       "      <td>...</td>\n",
       "      <td>...</td>\n",
       "      <td>...</td>\n",
       "      <td>...</td>\n",
       "      <td>...</td>\n",
       "      <td>...</td>\n",
       "      <td>...</td>\n",
       "      <td>...</td>\n",
       "      <td>...</td>\n",
       "      <td>...</td>\n",
       "      <td>...</td>\n",
       "      <td>...</td>\n",
       "      <td>...</td>\n",
       "      <td>...</td>\n",
       "      <td>...</td>\n",
       "      <td>...</td>\n",
       "      <td>...</td>\n",
       "      <td>...</td>\n",
       "      <td>...</td>\n",
       "      <td>...</td>\n",
       "      <td>...</td>\n",
       "      <td>...</td>\n",
       "      <td>...</td>\n",
       "      <td>...</td>\n",
       "      <td>...</td>\n",
       "      <td>...</td>\n",
       "      <td>...</td>\n",
       "      <td>...</td>\n",
       "      <td>...</td>\n",
       "      <td>...</td>\n",
       "      <td>...</td>\n",
       "      <td>...</td>\n",
       "      <td>...</td>\n",
       "      <td>...</td>\n",
       "      <td>...</td>\n",
       "      <td>...</td>\n",
       "      <td>...</td>\n",
       "      <td>...</td>\n",
       "      <td>...</td>\n",
       "      <td>...</td>\n",
       "      <td>...</td>\n",
       "      <td>...</td>\n",
       "      <td>...</td>\n",
       "      <td>...</td>\n",
       "      <td>...</td>\n",
       "      <td>...</td>\n",
       "      <td>...</td>\n",
       "      <td>...</td>\n",
       "      <td>...</td>\n",
       "    </tr>\n",
       "    <tr>\n",
       "      <td>69533</td>\n",
       "      <td>tritone</td>\n",
       "      <td>TRITONE INC.(Medical Device Manufacturing)</td>\n",
       "      <td>Medical Device</td>\n",
       "      <td>2-10 employees</td>\n",
       "      <td>Chicago, Illinois</td>\n",
       "      <td>Manufacturing, Distribution, and Contract manu...</td>\n",
       "      <td>Manufacturing, Distribution, and Contract manu...</td>\n",
       "      <td>3DMCR-R2196120</td>\n",
       "      <td>NaN</td>\n",
       "      <td>Guy</td>\n",
       "      <td>NaN</td>\n",
       "      <td>Sv</td>\n",
       "      <td>NaN</td>\n",
       "      <td>0</td>\n",
       "      <td>guys@tritoneam.com</td>\n",
       "      <td>039018975</td>\n",
       "      <td>Rosh A'ayin</td>\n",
       "      <td>Israel</td>\n",
       "      <td>EMEA</td>\n",
       "      <td>CEMA</td>\n",
       "      <td>NaN</td>\n",
       "      <td>NaN</td>\n",
       "      <td>NaN</td>\n",
       "      <td>NaN</td>\n",
       "      <td>NaN</td>\n",
       "      <td>NaN</td>\n",
       "      <td>NaN</td>\n",
       "      <td>01/08/2020</td>\n",
       "      <td>05/08/2020</td>\n",
       "      <td>Work In Progress</td>\n",
       "      <td>NaN</td>\n",
       "      <td>Malgorzata Filipek</td>\n",
       "      <td>NaN</td>\n",
       "      <td>NaN</td>\n",
       "      <td>NaN</td>\n",
       "      <td>NaN</td>\n",
       "      <td>Awareness</td>\n",
       "      <td>NaN</td>\n",
       "      <td>NaN</td>\n",
       "      <td>NaN</td>\n",
       "      <td>NaN</td>\n",
       "      <td>NaN</td>\n",
       "      <td>NaN</td>\n",
       "      <td>NaN</td>\n",
       "      <td>NaN</td>\n",
       "      <td>NaN</td>\n",
       "      <td>NaN</td>\n",
       "      <td>NaN</td>\n",
       "      <td>NaN</td>\n",
       "      <td>2020-12-07</td>\n",
       "      <td>NaN</td>\n",
       "      <td>NaN</td>\n",
       "      <td>NaN</td>\n",
       "      <td>Parts referral</td>\n",
       "      <td>Parts referral</td>\n",
       "      <td>SB - Parts Referral</td>\n",
       "      <td>NaN</td>\n",
       "      <td>NaN</td>\n",
       "      <td>0</td>\n",
       "      <td>0</td>\n",
       "      <td>0</td>\n",
       "      <td>0</td>\n",
       "      <td>0</td>\n",
       "      <td>0</td>\n",
       "      <td>0</td>\n",
       "      <td>0</td>\n",
       "      <td>0</td>\n",
       "      <td>0</td>\n",
       "      <td>NaN</td>\n",
       "      <td>0</td>\n",
       "      <td>3D Q420 AMS ProtoLabs Webinar</td>\n",
       "      <td>2020-10-31</td>\n",
       "      <td>Events</td>\n",
       "      <td>1.0</td>\n",
       "      <td>0.0</td>\n",
       "      <td>0.0</td>\n",
       "      <td>0.0</td>\n",
       "      <td>1.0</td>\n",
       "      <td>0.0</td>\n",
       "      <td>0.0</td>\n",
       "      <td>0.0</td>\n",
       "      <td>0.0</td>\n",
       "      <td>0.0</td>\n",
       "      <td>NaN</td>\n",
       "      <td>NaN</td>\n",
       "      <td>NaN</td>\n",
       "    </tr>\n",
       "    <tr>\n",
       "      <td>69066</td>\n",
       "      <td>elkem silicones france sas</td>\n",
       "      <td>NaN</td>\n",
       "      <td>NaN</td>\n",
       "      <td>NaN</td>\n",
       "      <td>NaN</td>\n",
       "      <td>NaN</td>\n",
       "      <td>NaN</td>\n",
       "      <td>3DMCR-R2192873</td>\n",
       "      <td>NaN</td>\n",
       "      <td>FRANCES</td>\n",
       "      <td>NaN</td>\n",
       "      <td>JEAN-MARC</td>\n",
       "      <td>SCIENTIFIC &amp; TECHNOLOGY COORDINATOR</td>\n",
       "      <td>0</td>\n",
       "      <td>jean-marc.frances@elkem.com</td>\n",
       "      <td>472737615</td>\n",
       "      <td>NaN</td>\n",
       "      <td>France</td>\n",
       "      <td>EMEA</td>\n",
       "      <td>FRANCE</td>\n",
       "      <td>NaN</td>\n",
       "      <td>NaN</td>\n",
       "      <td>NaN</td>\n",
       "      <td>NaN</td>\n",
       "      <td>NaN</td>\n",
       "      <td>NaN</td>\n",
       "      <td>NaN</td>\n",
       "      <td>01/07/2020</td>\n",
       "      <td>23/07/2020</td>\n",
       "      <td>Unqualified</td>\n",
       "      <td>NaN</td>\n",
       "      <td>Thibault Rames</td>\n",
       "      <td>NaN</td>\n",
       "      <td>NaN</td>\n",
       "      <td>NaN</td>\n",
       "      <td>NaN</td>\n",
       "      <td>Prospect</td>\n",
       "      <td>NaN</td>\n",
       "      <td>NaN</td>\n",
       "      <td>NaN</td>\n",
       "      <td>NaN</td>\n",
       "      <td>NaN</td>\n",
       "      <td>NaN</td>\n",
       "      <td>NaN</td>\n",
       "      <td>NaN</td>\n",
       "      <td>21 AVENUE GEORGES POMPIDOU</td>\n",
       "      <td>NaN</td>\n",
       "      <td>NaN</td>\n",
       "      <td>NaN</td>\n",
       "      <td>2020-12-07</td>\n",
       "      <td>NaN</td>\n",
       "      <td>NaN</td>\n",
       "      <td>NaN</td>\n",
       "      <td>5200 Printer</td>\n",
       "      <td>5200 Printer</td>\n",
       "      <td>VI - 3D Plastics Production HW</td>\n",
       "      <td>NaN</td>\n",
       "      <td>NaN</td>\n",
       "      <td>0</td>\n",
       "      <td>0</td>\n",
       "      <td>0</td>\n",
       "      <td>0</td>\n",
       "      <td>0</td>\n",
       "      <td>0</td>\n",
       "      <td>0</td>\n",
       "      <td>0</td>\n",
       "      <td>0</td>\n",
       "      <td>0</td>\n",
       "      <td>NaN</td>\n",
       "      <td>0</td>\n",
       "      <td>3D Q320 WW EMEA France USINE NOUVELLE study leads</td>\n",
       "      <td>2020-07-31</td>\n",
       "      <td>Direct Marketing</td>\n",
       "      <td>1.0</td>\n",
       "      <td>0.0</td>\n",
       "      <td>0.0</td>\n",
       "      <td>1.0</td>\n",
       "      <td>0.0</td>\n",
       "      <td>0.0</td>\n",
       "      <td>0.0</td>\n",
       "      <td>0.0</td>\n",
       "      <td>0.0</td>\n",
       "      <td>0.0</td>\n",
       "      <td>De 1001 a 5000 empleados</td>\n",
       "      <td>NaN</td>\n",
       "      <td>NaN</td>\n",
       "    </tr>\n",
       "    <tr>\n",
       "      <td>49365</td>\n",
       "      <td>smc</td>\n",
       "      <td>SMC</td>\n",
       "      <td>Industrial Automation</td>\n",
       "      <td>10,001+ employees</td>\n",
       "      <td>Noblesville,, IN</td>\n",
       "      <td>Pneumatic, Temperature Control, Electrical, Fi...</td>\n",
       "      <td>Pneumatic, Temperature Control, Electrical, Fi...</td>\n",
       "      <td>3DMCR-R2191799</td>\n",
       "      <td>LEAD-363304</td>\n",
       "      <td>Tom</td>\n",
       "      <td>NaN</td>\n",
       "      <td>Litster</td>\n",
       "      <td>Engineer</td>\n",
       "      <td>0</td>\n",
       "      <td>tlitster@smceu.com</td>\n",
       "      <td>1908555215</td>\n",
       "      <td>Buckinghamshire</td>\n",
       "      <td>United Kingdom</td>\n",
       "      <td>EMEA</td>\n",
       "      <td>UKI</td>\n",
       "      <td>NaN</td>\n",
       "      <td>NaN</td>\n",
       "      <td>NaN</td>\n",
       "      <td>NaN</td>\n",
       "      <td>NaN</td>\n",
       "      <td>NaN</td>\n",
       "      <td>NaN</td>\n",
       "      <td>01/07/2020</td>\n",
       "      <td>21/07/2020</td>\n",
       "      <td>Good</td>\n",
       "      <td>NaN</td>\n",
       "      <td>Shabaaz Yaqub</td>\n",
       "      <td>NaN</td>\n",
       "      <td>NaN</td>\n",
       "      <td>NaN</td>\n",
       "      <td>NaN</td>\n",
       "      <td>Prospect</td>\n",
       "      <td>NaN</td>\n",
       "      <td>NaN</td>\n",
       "      <td>NaN</td>\n",
       "      <td>NaN</td>\n",
       "      <td>NaN</td>\n",
       "      <td>NaN</td>\n",
       "      <td>NaN</td>\n",
       "      <td>NaN</td>\n",
       "      <td>Vincent Avenue, Crownhill</td>\n",
       "      <td>NaN</td>\n",
       "      <td>Influencer</td>\n",
       "      <td>Engineering</td>\n",
       "      <td>2020-12-07</td>\n",
       "      <td>Industrial</td>\n",
       "      <td>Pipes Tubes and Fluid Systems</td>\n",
       "      <td>NaN</td>\n",
       "      <td>5200 Printer</td>\n",
       "      <td>5200 Printer</td>\n",
       "      <td>VI - 3D Plastics Production HW</td>\n",
       "      <td>NaN</td>\n",
       "      <td>Shabaaz Yaqub</td>\n",
       "      <td>1</td>\n",
       "      <td>0</td>\n",
       "      <td>0</td>\n",
       "      <td>0</td>\n",
       "      <td>0</td>\n",
       "      <td>1</td>\n",
       "      <td>0</td>\n",
       "      <td>1</td>\n",
       "      <td>0</td>\n",
       "      <td>0</td>\n",
       "      <td>0.0</td>\n",
       "      <td>4</td>\n",
       "      <td>3D Q320 WW WWHQ HP.com - CWU</td>\n",
       "      <td>2020-07-31</td>\n",
       "      <td>Website / Apps</td>\n",
       "      <td>1.0</td>\n",
       "      <td>0.0</td>\n",
       "      <td>0.0</td>\n",
       "      <td>0.0</td>\n",
       "      <td>0.0</td>\n",
       "      <td>0.0</td>\n",
       "      <td>0.0</td>\n",
       "      <td>0.0</td>\n",
       "      <td>0.0</td>\n",
       "      <td>1.0</td>\n",
       "      <td>De 51 a 200 empleados</td>\n",
       "      <td>De 50 a 100 millones (EUR) por año</td>\n",
       "      <td>Wholesale trade</td>\n",
       "    </tr>\n",
       "    <tr>\n",
       "      <td>53031</td>\n",
       "      <td>thales</td>\n",
       "      <td>Thales</td>\n",
       "      <td>Information Technology &amp; Services</td>\n",
       "      <td>10,001+ employees</td>\n",
       "      <td>NaN</td>\n",
       "      <td>Aerospace, Defence, Security, Space, Transport...</td>\n",
       "      <td>Aerospace, Defence, Security, Space, Transport...</td>\n",
       "      <td>3DMCR-R2192871</td>\n",
       "      <td>NaN</td>\n",
       "      <td>DERBES</td>\n",
       "      <td>NaN</td>\n",
       "      <td>JEAN-CLAUDE</td>\n",
       "      <td>3D PRINTING BUSINESS DEVELOPMENT</td>\n",
       "      <td>0</td>\n",
       "      <td>jean-claude.derbes@thalesgroup.com</td>\n",
       "      <td>492927618</td>\n",
       "      <td>NaN</td>\n",
       "      <td>France</td>\n",
       "      <td>EMEA</td>\n",
       "      <td>FRANCE</td>\n",
       "      <td>NaN</td>\n",
       "      <td>NaN</td>\n",
       "      <td>NaN</td>\n",
       "      <td>NaN</td>\n",
       "      <td>NaN</td>\n",
       "      <td>NaN</td>\n",
       "      <td>NaN</td>\n",
       "      <td>01/07/2020</td>\n",
       "      <td>23/07/2020</td>\n",
       "      <td>Unqualified</td>\n",
       "      <td>NaN</td>\n",
       "      <td>Thibault Rames</td>\n",
       "      <td>NaN</td>\n",
       "      <td>NaN</td>\n",
       "      <td>NaN</td>\n",
       "      <td>NaN</td>\n",
       "      <td>Prospect</td>\n",
       "      <td>NaN</td>\n",
       "      <td>NaN</td>\n",
       "      <td>NaN</td>\n",
       "      <td>NaN</td>\n",
       "      <td>NaN</td>\n",
       "      <td>NaN</td>\n",
       "      <td>NaN</td>\n",
       "      <td>NaN</td>\n",
       "      <td>TOUR CARPE DIEM ESPLANADE NORD, PL DES COROLLES</td>\n",
       "      <td>NaN</td>\n",
       "      <td>NaN</td>\n",
       "      <td>NaN</td>\n",
       "      <td>2020-12-07</td>\n",
       "      <td>NaN</td>\n",
       "      <td>NaN</td>\n",
       "      <td>NaN</td>\n",
       "      <td>5200 Printer</td>\n",
       "      <td>5200 Printer</td>\n",
       "      <td>VI - 3D Plastics Production HW</td>\n",
       "      <td>NaN</td>\n",
       "      <td>NaN</td>\n",
       "      <td>0</td>\n",
       "      <td>0</td>\n",
       "      <td>0</td>\n",
       "      <td>0</td>\n",
       "      <td>0</td>\n",
       "      <td>0</td>\n",
       "      <td>0</td>\n",
       "      <td>0</td>\n",
       "      <td>0</td>\n",
       "      <td>0</td>\n",
       "      <td>NaN</td>\n",
       "      <td>0</td>\n",
       "      <td>3D Q320 WW EMEA France USINE NOUVELLE study leads</td>\n",
       "      <td>2020-07-31</td>\n",
       "      <td>Direct Marketing</td>\n",
       "      <td>1.0</td>\n",
       "      <td>0.0</td>\n",
       "      <td>0.0</td>\n",
       "      <td>1.0</td>\n",
       "      <td>0.0</td>\n",
       "      <td>0.0</td>\n",
       "      <td>0.0</td>\n",
       "      <td>0.0</td>\n",
       "      <td>0.0</td>\n",
       "      <td>0.0</td>\n",
       "      <td>Más de 10 000 empleados</td>\n",
       "      <td>De 5000 a 10 000 millones (EUR) por año</td>\n",
       "      <td>Aerospace and Defense</td>\n",
       "    </tr>\n",
       "    <tr>\n",
       "      <td>69067</td>\n",
       "      <td>les zelles</td>\n",
       "      <td>LES ZELLES</td>\n",
       "      <td>Building Materials</td>\n",
       "      <td>201-500 employees</td>\n",
       "      <td>NaN</td>\n",
       "      <td>Fenêtres, portes et volets and PVC et Aluminium</td>\n",
       "      <td>Windows, doors and shutters and PVC and Aluminum</td>\n",
       "      <td>3DMCR-R2192872</td>\n",
       "      <td>NaN</td>\n",
       "      <td>LIST</td>\n",
       "      <td>NaN</td>\n",
       "      <td>JEAN PHILIPPE</td>\n",
       "      <td>DIRECTEUR STRATÉGIE, DÉVELOPPEMENT ET RISK MAN...</td>\n",
       "      <td>0</td>\n",
       "      <td>jean_philippe.list@leszelles.fr</td>\n",
       "      <td>785354395</td>\n",
       "      <td>NaN</td>\n",
       "      <td>France</td>\n",
       "      <td>EMEA</td>\n",
       "      <td>FRANCE</td>\n",
       "      <td>NaN</td>\n",
       "      <td>NaN</td>\n",
       "      <td>NaN</td>\n",
       "      <td>NaN</td>\n",
       "      <td>NaN</td>\n",
       "      <td>NaN</td>\n",
       "      <td>NaN</td>\n",
       "      <td>01/07/2020</td>\n",
       "      <td>23/07/2020</td>\n",
       "      <td>Unqualified</td>\n",
       "      <td>NaN</td>\n",
       "      <td>Thibault Rames</td>\n",
       "      <td>NaN</td>\n",
       "      <td>NaN</td>\n",
       "      <td>NaN</td>\n",
       "      <td>NaN</td>\n",
       "      <td>Prospect</td>\n",
       "      <td>NaN</td>\n",
       "      <td>NaN</td>\n",
       "      <td>NaN</td>\n",
       "      <td>NaN</td>\n",
       "      <td>NaN</td>\n",
       "      <td>NaN</td>\n",
       "      <td>NaN</td>\n",
       "      <td>NaN</td>\n",
       "      <td>CHE DES ECORCES</td>\n",
       "      <td>NaN</td>\n",
       "      <td>NaN</td>\n",
       "      <td>NaN</td>\n",
       "      <td>2020-12-07</td>\n",
       "      <td>NaN</td>\n",
       "      <td>NaN</td>\n",
       "      <td>NaN</td>\n",
       "      <td>5200 Printer</td>\n",
       "      <td>5200 Printer</td>\n",
       "      <td>VI - 3D Plastics Production HW</td>\n",
       "      <td>NaN</td>\n",
       "      <td>NaN</td>\n",
       "      <td>0</td>\n",
       "      <td>0</td>\n",
       "      <td>0</td>\n",
       "      <td>0</td>\n",
       "      <td>0</td>\n",
       "      <td>0</td>\n",
       "      <td>0</td>\n",
       "      <td>0</td>\n",
       "      <td>0</td>\n",
       "      <td>0</td>\n",
       "      <td>NaN</td>\n",
       "      <td>0</td>\n",
       "      <td>3D Q320 WW EMEA France USINE NOUVELLE study leads</td>\n",
       "      <td>2020-07-31</td>\n",
       "      <td>Direct Marketing</td>\n",
       "      <td>1.0</td>\n",
       "      <td>0.0</td>\n",
       "      <td>0.0</td>\n",
       "      <td>1.0</td>\n",
       "      <td>0.0</td>\n",
       "      <td>0.0</td>\n",
       "      <td>0.0</td>\n",
       "      <td>0.0</td>\n",
       "      <td>0.0</td>\n",
       "      <td>0.0</td>\n",
       "      <td>De 201 a 500 empleados</td>\n",
       "      <td>De 50 a 100 millones (EUR) por año</td>\n",
       "      <td>NaN</td>\n",
       "    </tr>\n",
       "  </tbody>\n",
       "</table>\n",
       "<p>41498 rows × 86 columns</p>\n",
       "</div>"
      ],
      "text/plain": [
       "                                           Company                              LkdIn_Web_Name                     LkdIn_Industry LkdIn_Company_size       LkdIn_Headquarters                                  LkdIn_Specialties                                  LkdIn_Translation      ResponseId       HP Lead ID     First Name Middle Name       Last Name                                              Title  Partner Cleansed Account                               Email           Phone   State/Province         Country Region Sub Region  Estimated Budget Primary Campaign  Opportunity Name  Opportunity Sales Stage  Opportunity Closed As Won/Lost  Opportunity ClosedWon  Opportunity Owner Created Month Last Modified       Lead Status Status Reason          Lead Owner  Quantity  Lead Qualifier  Accept Lead  Lead Accepted Date Lead Record Type  Opportunity CloseDate  Opportunity Created Date Nurture Reason  Willingness to Buy Nurture Type  Industry  Sub Industry  Lead Source  \\\n",
       "26324             indra sistemas, sociedad anonima            INDRA SISTEMAS, SOCIEDAD ANONIMA                                NaN                NaN                      NaN                                                NaN                                                NaN  3DMCR-R2155588  LEAD-0013628857  Carlos Manuel         NaN  Cordero Deline                                                NaN                         0                   ccordero@indra.es     34914805000              NaN           Spain   EMEA     IBERIA               NaN              NaN               NaN                      NaN                             NaN                    NaN                NaN    01/04/2020    12/05/2020      Disqualified           NaN        Quique Palau       NaN             NaN          NaN                 NaN         Prospect                    NaN                       NaN            NaN                 NaN          NaN       NaN           NaN          NaN   \n",
       "63203                                twinkind gmbh                               TWINKIND GmbH                  Consumer Services    11-50 employees           Berlin, Berlin                        3D scanning and 3D printing                        3D scanning and 3D printing  3DMCR-R2155607  LEAD-0013628959         Martin         NaN      Baumdicker                                                NaN                         0            mb@realize-marketing.com  49030555798170              NaN         Germany   EMEA       DACH               NaN              NaN               NaN                      NaN                             NaN                    NaN                NaN    01/04/2020    12/05/2020      Disqualified           NaN     Maximilian Loth       NaN             NaN          NaN                 NaN         Prospect                    NaN                       NaN            NaN                 NaN          NaN       NaN           NaN          NaN   \n",
       "39404  paul coldwell-university of the arts london                                         NaN                                NaN                NaN                      NaN                                                NaN                                                NaN  3DMCR-R2133812  LEAD-0013628984           Paul         NaN        Coldwell                                           Profesor                         0       p.coldwell@chelsea.arts.ac.uk             NaN              NaN  United Kingdom   EMEA        UKI               NaN              NaN               NaN                      NaN                             NaN                    NaN                NaN    01/04/2020    30/04/2020      Disqualified           NaN      Rebecca Hewson       NaN             NaN          NaN                 NaN         Prospect                    NaN                       NaN            NaN                 NaN          NaN       NaN           NaN          NaN   \n",
       "15678                         direct mail house ag                        DIRECT MAIL HOUSE AG            Marketing & Advertising   51-200 employees  St.Gallen, Sankt Gallen  personalisierte Mailings, Digital- und Transak...  personalisierte Mailings, Digital- und Transak...  3DMCR-R2134584  LEAD-0013628816           Alex         NaN          Kohler                                                NaN                         0               alex.kohler@gmail.com     41713130135              NaN     Switzerland   EMEA       DACH               NaN              NaN               NaN                      NaN                             NaN                    NaN                NaN    01/04/2020    12/05/2020      Disqualified           NaN     Maximilian Loth       NaN             NaN          NaN                 NaN         Prospect                    NaN                       NaN            NaN                 NaN          NaN       NaN           NaN          NaN   \n",
       "36378                                 nedshipgroup                                         NaN                                NaN                NaN                      NaN                                                NaN                                                NaN  3DMCR-R2165849  LEAD-0013628983          orhan         NaN        celikkol                                                NaN                         0              orhan@nedshipgroup.com     15334520303              NaN          Turkey   EMEA       MEMA               NaN              NaN               NaN                      NaN                             NaN                    NaN                NaN    01/04/2020    12/05/2020      Disqualified           NaN        Kalle Lepola       NaN             NaN          NaN                 NaN         Prospect                    NaN                       NaN            NaN                 NaN          NaN       NaN           NaN          NaN   \n",
       "...                                            ...                                         ...                                ...                ...                      ...                                                ...                                                ...             ...              ...            ...         ...             ...                                                ...                       ...                                 ...             ...              ...             ...    ...        ...               ...              ...               ...                      ...                             ...                    ...                ...           ...           ...               ...           ...                 ...       ...             ...          ...                 ...              ...                    ...                       ...            ...                 ...          ...       ...           ...          ...   \n",
       "69533                                      tritone  TRITONE INC.(Medical Device Manufacturing)                     Medical Device     2-10 employees        Chicago, Illinois  Manufacturing, Distribution, and Contract manu...  Manufacturing, Distribution, and Contract manu...  3DMCR-R2196120              NaN            Guy         NaN              Sv                                                NaN                         0                  guys@tritoneam.com       039018975      Rosh A'ayin          Israel   EMEA       CEMA               NaN              NaN               NaN                      NaN                             NaN                    NaN                NaN    01/08/2020    05/08/2020  Work In Progress           NaN  Malgorzata Filipek       NaN             NaN          NaN                 NaN        Awareness                    NaN                       NaN            NaN                 NaN          NaN       NaN           NaN          NaN   \n",
       "69066                   elkem silicones france sas                                         NaN                                NaN                NaN                      NaN                                                NaN                                                NaN  3DMCR-R2192873              NaN        FRANCES         NaN       JEAN-MARC                SCIENTIFIC & TECHNOLOGY COORDINATOR                         0         jean-marc.frances@elkem.com       472737615              NaN          France   EMEA     FRANCE               NaN              NaN               NaN                      NaN                             NaN                    NaN                NaN    01/07/2020    23/07/2020       Unqualified           NaN      Thibault Rames       NaN             NaN          NaN                 NaN         Prospect                    NaN                       NaN            NaN                 NaN          NaN       NaN           NaN          NaN   \n",
       "49365                                          smc                                         SMC              Industrial Automation  10,001+ employees         Noblesville,, IN  Pneumatic, Temperature Control, Electrical, Fi...  Pneumatic, Temperature Control, Electrical, Fi...  3DMCR-R2191799      LEAD-363304            Tom         NaN         Litster                                           Engineer                         0                  tlitster@smceu.com      1908555215  Buckinghamshire  United Kingdom   EMEA        UKI               NaN              NaN               NaN                      NaN                             NaN                    NaN                NaN    01/07/2020    21/07/2020              Good           NaN       Shabaaz Yaqub       NaN             NaN          NaN                 NaN         Prospect                    NaN                       NaN            NaN                 NaN          NaN       NaN           NaN          NaN   \n",
       "53031                                       thales                                      Thales  Information Technology & Services  10,001+ employees                      NaN  Aerospace, Defence, Security, Space, Transport...  Aerospace, Defence, Security, Space, Transport...  3DMCR-R2192871              NaN         DERBES         NaN     JEAN-CLAUDE                   3D PRINTING BUSINESS DEVELOPMENT                         0  jean-claude.derbes@thalesgroup.com       492927618              NaN          France   EMEA     FRANCE               NaN              NaN               NaN                      NaN                             NaN                    NaN                NaN    01/07/2020    23/07/2020       Unqualified           NaN      Thibault Rames       NaN             NaN          NaN                 NaN         Prospect                    NaN                       NaN            NaN                 NaN          NaN       NaN           NaN          NaN   \n",
       "69067                                   les zelles                                  LES ZELLES                 Building Materials  201-500 employees                      NaN    Fenêtres, portes et volets and PVC et Aluminium   Windows, doors and shutters and PVC and Aluminum  3DMCR-R2192872              NaN           LIST         NaN   JEAN PHILIPPE  DIRECTEUR STRATÉGIE, DÉVELOPPEMENT ET RISK MAN...                         0     jean_philippe.list@leszelles.fr       785354395              NaN          France   EMEA     FRANCE               NaN              NaN               NaN                      NaN                             NaN                    NaN                NaN    01/07/2020    23/07/2020       Unqualified           NaN      Thibault Rames       NaN             NaN          NaN                 NaN         Prospect                    NaN                       NaN            NaN                 NaN          NaN       NaN           NaN          NaN   \n",
       "\n",
       "                                                Street  Rating    Job Role Job Function Response Creation Date          Segment                    Sub Segment Reseller Account    Product List        Products                    Prod. Family                          Lead Close Reasons     Created By  Activ_Attempted Calls  Activ_Budget Change  Activ_Comments  Activ_Disqualified Lead  Activ_EDM  Activ_Email  Activ_Re-assigned Lead  Activ_Reached Calls  Activ_Status Change  Activ_closed response  Activ_re-opened on additional touch  Activ Touches                                      Campaign Name   End Date      Campaign Type  Camp Touches  Camp_Content and Production  Camp_Digital Marketing  Camp_Direct Marketing  Camp_Events  Camp_External Relations  Camp_Media  Camp_Media: Paid Print  Camp_Sales and Partner Enablement  Camp_Website / Apps        GlsDr_Company size                             GlsDr_Income         GlsDr_Industry  \n",
       "26324                                              NaN     NaN         NaN          NaN             2015-05-11  Parts Providers          Engineering Companies              NaN             NaN             NaN  VI - 3D Plastics Production HW                Legacy-Customer Unresponsive            NaN                      0                    0               0                        0          0            0                       0                    0                    0                      0                                  NaN              0                        3D Q216 WW EMEA Rapid event 2016-04-30  Digital Marketing           2.0                          0.0                     1.0                    1.0          0.0                      0.0         0.0                     0.0                                0.0                  0.0                       NaN                                      NaN                    NaN  \n",
       "63203                                              NaN     NaN         NaN          NaN             2015-05-11              NaN                            NaN              NaN             NaN             NaN  VI - 3D Plastics Production HW                              Legacy-Unknown            NaN                      0                    0               0                        0          0            0                       0                    0                    0                      0                                  NaN              0            HP 3DP technology announcement campaign 2016-01-31   Direct Marketing           1.0                          0.0                     0.0                    1.0          0.0                      0.0         0.0                     0.0                                0.0                  0.0                       NaN                                      NaN                    NaN  \n",
       "39404                                              NaN     NaN         NaN          NaN             2015-05-11              NaN                            NaN              NaN             NaN             NaN  VI - 3D Plastics Production HW                              Legacy-Unknown            NaN                      0                    0               0                        0          0            0                       0                    0                    0                      0                                  NaN              0            HP 3DP technology announcement campaign 2016-01-31   Direct Marketing           1.0                          0.0                     0.0                    1.0          0.0                      0.0         0.0                     0.0                                0.0                  0.0                       NaN                                      NaN                    NaN  \n",
       "15678                                              NaN     NaN         NaN          NaN             2015-05-11              NaN                            NaN              NaN             NaN             NaN  VI - 3D Plastics Production HW  Legacy-Duplicate Lead/Existing Opportunity            NaN                      0                    0               0                        0          0            0                       0                    0                    0                      0                                  NaN              0            HP 3DP technology announcement campaign 2016-01-31   Direct Marketing           1.0                          0.0                     0.0                    1.0          0.0                      0.0         0.0                     0.0                                0.0                  0.0                       NaN                                      NaN                    NaN  \n",
       "36378                                              NaN     NaN         NaN          NaN             2015-05-11              NaN                            NaN              NaN             NaN             NaN  VI - 3D Plastics Production HW                Legacy-Customer Unresponsive            NaN                      0                    0               0                        0          0            0                       0                    0                    0                      0                                  NaN              0            HP 3DP technology announcement campaign 2016-01-31   Direct Marketing           1.0                          0.0                     0.0                    1.0          0.0                      0.0         0.0                     0.0                                0.0                  0.0                       NaN                                      NaN                    NaN  \n",
       "...                                                ...     ...         ...          ...                    ...              ...                            ...              ...             ...             ...                             ...                                         ...            ...                    ...                  ...             ...                      ...        ...          ...                     ...                  ...                  ...                    ...                                  ...            ...                                                ...        ...                ...           ...                          ...                     ...                    ...          ...                      ...         ...                     ...                                ...                  ...                       ...                                      ...                    ...  \n",
       "69533                                              NaN     NaN         NaN          NaN             2020-12-07              NaN                            NaN              NaN  Parts referral  Parts referral             SB - Parts Referral                                         NaN            NaN                      0                    0               0                        0          0            0                       0                    0                    0                      0                                  NaN              0                      3D Q420 AMS ProtoLabs Webinar 2020-10-31             Events           1.0                          0.0                     0.0                    0.0          1.0                      0.0         0.0                     0.0                                0.0                  0.0                       NaN                                      NaN                    NaN  \n",
       "69066                       21 AVENUE GEORGES POMPIDOU     NaN         NaN          NaN             2020-12-07              NaN                            NaN              NaN    5200 Printer    5200 Printer  VI - 3D Plastics Production HW                                         NaN            NaN                      0                    0               0                        0          0            0                       0                    0                    0                      0                                  NaN              0  3D Q320 WW EMEA France USINE NOUVELLE study leads 2020-07-31   Direct Marketing           1.0                          0.0                     0.0                    1.0          0.0                      0.0         0.0                     0.0                                0.0                  0.0  De 1001 a 5000 empleados                                      NaN                    NaN  \n",
       "49365                        Vincent Avenue, Crownhill     NaN  Influencer  Engineering             2020-12-07       Industrial  Pipes Tubes and Fluid Systems              NaN    5200 Printer    5200 Printer  VI - 3D Plastics Production HW                                         NaN  Shabaaz Yaqub                      1                    0               0                        0          0            1                       0                    1                    0                      0                                  0.0              4                       3D Q320 WW WWHQ HP.com - CWU 2020-07-31     Website / Apps           1.0                          0.0                     0.0                    0.0          0.0                      0.0         0.0                     0.0                                0.0                  1.0     De 51 a 200 empleados       De 50 a 100 millones (EUR) por año        Wholesale trade  \n",
       "53031  TOUR CARPE DIEM ESPLANADE NORD, PL DES COROLLES     NaN         NaN          NaN             2020-12-07              NaN                            NaN              NaN    5200 Printer    5200 Printer  VI - 3D Plastics Production HW                                         NaN            NaN                      0                    0               0                        0          0            0                       0                    0                    0                      0                                  NaN              0  3D Q320 WW EMEA France USINE NOUVELLE study leads 2020-07-31   Direct Marketing           1.0                          0.0                     0.0                    1.0          0.0                      0.0         0.0                     0.0                                0.0                  0.0   Más de 10 000 empleados  De 5000 a 10 000 millones (EUR) por año  Aerospace and Defense  \n",
       "69067                                  CHE DES ECORCES     NaN         NaN          NaN             2020-12-07              NaN                            NaN              NaN    5200 Printer    5200 Printer  VI - 3D Plastics Production HW                                         NaN            NaN                      0                    0               0                        0          0            0                       0                    0                    0                      0                                  NaN              0  3D Q320 WW EMEA France USINE NOUVELLE study leads 2020-07-31   Direct Marketing           1.0                          0.0                     0.0                    1.0          0.0                      0.0         0.0                     0.0                                0.0                  0.0    De 201 a 500 empleados       De 50 a 100 millones (EUR) por año                    NaN  \n",
       "\n",
       "[41498 rows x 86 columns]"
      ]
     },
     "execution_count": 9,
     "metadata": {},
     "output_type": "execute_result"
    }
   ],
   "source": [
    "leads_df = leads_df.sort_values(by='Response Creation Date', ascending=True)\n",
    "print(\"Initially we have:\")\n",
    "print(\"Leads with comments: \", round(len(leads_df['LkdIn_Specialties'].dropna())/len(leads_df)*100,2),'%')\n",
    "print('Verticalized leads:', round(len(leads_df['LkdIn_Industry'].dropna())/len(leads_df)*100,2),'%')\n",
    "\n",
    "print('\\nLeads Disqualified:', round(len(leads_df[leads_df['Lead Status']=='Disqualified'])/len(leads_df)*100,2),'%')\n",
    "print('Leads Good:', round(len(leads_df[leads_df['Lead Status']=='Good'])/len(leads_df)*100,2),'%')\n",
    "print('Number of Good Leads:', round(len(leads_df[leads_df['Lead Status']=='Good']),2))\n",
    "\n",
    "print('\\nTotal Number of Leads:', round(len(leads_df),2))\n",
    "print('Number Verticalized Leads:', len(leads_df['LkdIn_Industry'].dropna()))\n",
    "leads_df"
   ]
  },
  {
   "cell_type": "markdown",
   "metadata": {},
   "source": [
    "### Job roles"
   ]
  },
  {
   "cell_type": "code",
   "execution_count": 10,
   "metadata": {},
   "outputs": [
    {
     "name": "stdout",
     "output_type": "stream",
     "text": [
      "7286 16410\n",
      "4 4507\n",
      "13 4426\n"
     ]
    }
   ],
   "source": [
    "print(len(leads_df[\"Title\"].unique()),len(leads_df[\"Title\"].dropna()))\n",
    "print(len(leads_df[\"Job Role\"].unique()),len(leads_df[\"Job Role\"].dropna()))\n",
    "print(len(leads_df[\"Job Function\"].unique()),len(leads_df[\"Job Function\"].dropna()))"
   ]
  },
  {
   "cell_type": "code",
   "execution_count": 11,
   "metadata": {},
   "outputs": [
    {
     "data": {
      "image/png": "[encoded data removed]",
      "text/plain": [
       "<Figure size 1080x504 with 1 Axes>"
      ]
     },
     "metadata": {
      "needs_background": "light"
     },
     "output_type": "display_data"
    }
   ],
   "source": [
    "# leads_df7 = leads_df[leads_df[\"Job Role\"]!=0]\n",
    "plt.figure(figsize=(15,7))\n",
    "ax = sns.countplot(x=\"Job Role\", data=leads_df, hue=\"Lead Status\")\n",
    "ax.set(ylim=(0, 10000))\n",
    "plt.show()"
   ]
  },
  {
   "cell_type": "code",
   "execution_count": 12,
   "metadata": {},
   "outputs": [],
   "source": [
    "# import numpy as np\n",
    "\n",
    "# plt.figure(figsize=(15,10))\n",
    "# df_scatter = leads_df\n",
    "# weeks = []\n",
    "# for x in df_scatter[\"Job Role\"]:\n",
    "#       weeks.append(x+np.random.normal(0,10,1))\n",
    "# df_scatter[\"Job Role\"] = weeks\n",
    "# sns.scatterplot(x=\"Lead Status\", y=\"Job Role\", hue=\"Lead Status\",\n",
    "#                      data=df_scatter)\n",
    "# plt.show()"
   ]
  },
  {
   "cell_type": "markdown",
   "metadata": {},
   "source": [
    "### Companies groupby"
   ]
  },
  {
   "cell_type": "code",
   "execution_count": 13,
   "metadata": {},
   "outputs": [],
   "source": [
    "leads_df['Company'] = leads_df['Company'].str.lower()\n",
    "company_count = leads_df.groupby(['Company']).size().to_frame('count').reset_index()\n",
    "company_count = company_count.rename(columns={\"Company\": \"Company_grouped\", \"count\": \"Count_account\"})\n",
    "leads_df = leads_df.merge(company_count, left_on='Company', right_on='Company_grouped', how='left')\n",
    "leads_df[\"Count_account\"] = pd.to_numeric(leads_df[\"Count_account\"])"
   ]
  },
  {
   "cell_type": "markdown",
   "metadata": {},
   "source": [
    "### Countries to Subregions"
   ]
  },
  {
   "cell_type": "code",
   "execution_count": 14,
   "metadata": {},
   "outputs": [],
   "source": [
    "leads_df['Sub Region'] = np.where(leads_df[\"Country\"]==\"Germany\" ,\"Germany\", leads_df['Sub Region'])\n",
    "leads_df['Sub Region'] = np.where(leads_df[\"Sub Region\"]==\"DACH\" ,\"ACH\", leads_df['Sub Region'])"
   ]
  },
  {
   "cell_type": "markdown",
   "metadata": {},
   "source": [
    "### Phones"
   ]
  },
  {
   "cell_type": "code",
   "execution_count": 15,
   "metadata": {},
   "outputs": [],
   "source": [
    "leads_df[\"Phone\"] = leads_df[\"Phone\"].str.replace(' ', '')\n",
    "leads_df[\"Phone\"] = leads_df[\"Phone\"].str.replace('-', '')\n",
    "leads_df[\"Phone\"] = leads_df[\"Phone\"].str.replace('–', '')\n",
    "leads_df[\"Phone\"] = leads_df[\"Phone\"].str.replace('/', '')\n",
    "leads_df[\"Phone\"] = leads_df[\"Phone\"].str.replace('.', '')\n",
    "leads_df[\"Phone\"] = leads_df[\"Phone\"].str.replace('(', '')\n",
    "leads_df[\"Phone\"] = leads_df[\"Phone\"].str.replace(')', '')\n",
    "leads_df[\"Phone\"] = leads_df[\"Phone\"].str.replace('+', '')\n",
    "leads_df[\"Phone\"] = leads_df[\"Phone\"].str.replace('^00', '')\n",
    "\n",
    "\n",
    "leads_df[\"Phone\"].head(100)\n",
    "leads_df['Phone_desc'] = np.where(((leads_df[\"Phone\"].str.startswith('4915')) | \n",
    "                                      (leads_df[\"Phone\"].str.startswith('4916')) |\n",
    "                                      (leads_df[\"Phone\"].str.startswith('4917')) &\n",
    "                                      (leads_df[\"Sub Region\"]==\"Germany\")),\"Phone\",\n",
    "                                     \n",
    "                                       np.where((((leads_df[\"Phone\"].str.startswith('447')) | \n",
    "                                      (leads_df[\"Phone\"].str.startswith('3538'))) &\n",
    "                                      (leads_df[\"Sub Region\"]==\"UK&I\")),\"Phone\",\n",
    "                                                \n",
    "                                       np.where((((leads_df[\"Phone\"].str.startswith('346')) | \n",
    "                                      (leads_df[\"Phone\"].str.startswith('6')) |\n",
    "                                      (leads_df[\"Phone\"].str.startswith('3519'))) &\n",
    "                                      (leads_df[\"Sub Region\"]==\"IBERIA\")),\"Phone\",\n",
    "                                                \n",
    "                                       np.where((((leads_df[\"Phone\"].str.startswith('337')) | \n",
    "                                      (leads_df[\"Phone\"].str.startswith('336'))) &\n",
    "                                      (leads_df[\"Sub Region\"]==\"France\")),\"Phone\",\n",
    "                                         \n",
    "                                       np.where((((leads_df[\"Phone\"].str.startswith('393')) | \n",
    "                                      (leads_df[\"Phone\"].str.startswith('3567')) |\n",
    "                                      (leads_df[\"Phone\"].str.startswith('3569'))) &\n",
    "                                      (leads_df[\"Sub Region\"]==\"Italy & Malta\")),\"Phone\",\n",
    "                                       \n",
    "                                       np.where((((leads_df[\"Phone\"].str.startswith('467')) | \n",
    "                                      (leads_df[\"Phone\"].str.startswith('474')) |\n",
    "                                      (leads_df[\"Phone\"].str.startswith('475')) |\n",
    "                                      (leads_df[\"Phone\"].str.startswith('479')) |\n",
    "                                      (leads_df[\"Phone\"].str.startswith('453')) |\n",
    "                                      (leads_df[\"Phone\"].str.startswith('454')) |\n",
    "                                      (leads_df[\"Phone\"].str.startswith('455')) |\n",
    "                                      (leads_df[\"Phone\"].str.startswith('456')) |\n",
    "                                      (leads_df[\"Phone\"].str.startswith('457')) |\n",
    "                                      (leads_df[\"Phone\"].str.startswith('458'))) &\n",
    "                                      (leads_df[\"Sub Region\"]==\"NORDICS\")),\"Phone\",\n",
    "                                                \n",
    "                                       np.where((((leads_df[\"Phone\"].str.startswith('436')) | \n",
    "                                      (leads_df[\"Phone\"].str.startswith('417'))) &\n",
    "                                      (leads_df[\"Sub Region\"]==\"ACH\")),\"Phone\",\n",
    "                                         \n",
    "                                       np.where((((leads_df[\"Phone\"].str.startswith('324')) | \n",
    "                                      (leads_df[\"Phone\"].str.startswith('316'))) &\n",
    "                                      (leads_df[\"Sub Region\"]==\"BENELUX\")),\"Phone\",\n",
    "                                                \n",
    "                                       np.where((((leads_df[\"Phone\"].str.startswith('485')) | \n",
    "                                      (leads_df[\"Phone\"].str.startswith('484')) |\n",
    "                                      (leads_df[\"Phone\"].str.startswith('486')) |\n",
    "                                      (leads_df[\"Phone\"].str.startswith('487')) |\n",
    "                                      (leads_df[\"Phone\"].str.startswith('488')) |\n",
    "                                      (leads_df[\"Phone\"].str.startswith('9725')) |\n",
    "                                      (leads_df[\"Phone\"].str.startswith('362')) |\n",
    "                                      (leads_df[\"Phone\"].str.startswith('363')) |\n",
    "                                      (leads_df[\"Phone\"].str.startswith('365')) |\n",
    "                                      (leads_df[\"Phone\"].str.startswith('366'))) &\n",
    "                                      (leads_df[\"Sub Region\"]==\"CEE+IL\")),\"Phone\",\n",
    "                                                \n",
    "                                       np.where(leads_df['Phone'].isnull(),\"No Phone\",\n",
    "                                       \"Landline\"))))))))))"
   ]
  },
  {
   "cell_type": "markdown",
   "metadata": {},
   "source": [
    "### 3D Company?"
   ]
  },
  {
   "cell_type": "code",
   "execution_count": 16,
   "metadata": {},
   "outputs": [],
   "source": [
    "leads_df[\"3D_Company?\"] = leads_df[\"Company\"].astype(str) + leads_df[\"LkdIn_Translation\"].str.lower().astype(str)\n",
    "leads_df[\"3D_Company?\"] = leads_df[\"3D_Company?\"].str.contains('3d', na=False, regex=True)*1"
   ]
  },
  {
   "cell_type": "markdown",
   "metadata": {},
   "source": [
    "## Verticals"
   ]
  },
  {
   "cell_type": "code",
   "execution_count": 17,
   "metadata": {},
   "outputs": [
    {
     "name": "stdout",
     "output_type": "stream",
     "text": [
      "Verticalized leads: 84.26 %\n"
     ]
    }
   ],
   "source": [
    "### VERTICALIZATION\n",
    "leads_df['HP_and_LnkdIn_Glsdr_Verticals'] = leads_df['Segment'].fillna(leads_df['LkdIn_Industry'])\n",
    "leads_df['HP_and_LnkdIn_Glsdr_Verticals'] = leads_df['HP_and_LnkdIn_Glsdr_Verticals'].fillna(leads_df['GlsDr_Industry'])\n",
    "\n",
    "verticalization_df = verticalization_df.rename(columns={\"LinkedIn_Glsdr_HP_Verticals\": \"LnkdIn_Glsdr_HP_Standardized\"})\n",
    "leads_df = leads_df.merge(verticalization_df, left_on='HP_and_LnkdIn_Glsdr_Verticals', \n",
    "                          right_on='LinkedIn_Glsdr_Industry', how='left')\n",
    "\n",
    "print('Verticalized leads:', round(len(leads_df['HP_and_LnkdIn_Glsdr_Verticals'].dropna())/len(leads_df)*100,2),'%')"
   ]
  },
  {
   "cell_type": "markdown",
   "metadata": {},
   "source": [
    "### Join Company Size"
   ]
  },
  {
   "cell_type": "code",
   "execution_count": 18,
   "metadata": {},
   "outputs": [
    {
     "name": "stdout",
     "output_type": "stream",
     "text": [
      "Linkedin Leads with number of employees:  67.71 %\n",
      "Glassdoor Leads with number of employees:  31.4 %\n",
      "Total Leads with number of employees:  72.42 %\n",
      "New Costumers rate:  65.3 %\n"
     ]
    }
   ],
   "source": [
    "leads_df['LnkdIn_and_Glsdr_Employees'] = leads_df['LkdIn_Company_size'].fillna(leads_df['GlsDr_Company size'])\n",
    "\n",
    "leads_df['LnkdIn_and_Glsdr_Employees'].unique()\n",
    "print(\"Linkedin Leads with number of employees: \", round(len(leads_df['LkdIn_Company_size'].dropna())/len(leads_df)*100,2),'%')\n",
    "print(\"Glassdoor Leads with number of employees: \", round(len(leads_df['GlsDr_Company size'].dropna())/len(leads_df)*100,2),'%')\n",
    "print(\"Total Leads with number of employees: \", round(len(leads_df['LnkdIn_and_Glsdr_Employees'].dropna())/len(leads_df)*100,2),'%')\n",
    "print(\"New Costumers rate: \", round(len(leads_df[leads_df['Count_account']==1])/len(leads_df)*100,2),'%')\n"
   ]
  },
  {
   "cell_type": "markdown",
   "metadata": {},
   "source": [
    "### Lead Number"
   ]
  },
  {
   "cell_type": "code",
   "execution_count": 19,
   "metadata": {},
   "outputs": [],
   "source": [
    "leads_df['HP Lead ID'] = leads_df['HP Lead ID'].str.replace('LEAD-', '')\n",
    "leads_df[\"HP Lead ID\"] = pd.to_numeric(leads_df[\"HP Lead ID\"])\n",
    "leads_df['ResponseId'] = leads_df['ResponseId'].str.replace('3DMCR-R', '')\n",
    "leads_df[\"ResponseId\"] = pd.to_numeric(leads_df[\"ResponseId\"])"
   ]
  },
  {
   "cell_type": "markdown",
   "metadata": {},
   "source": [
    "### Have phone or Email?"
   ]
  },
  {
   "cell_type": "code",
   "execution_count": 20,
   "metadata": {},
   "outputs": [],
   "source": [
    "leads_df[\"Phone_or_Email\"] = leads_df[\"Phone\"]\n",
    "leads_df['Phone_or_Email'] = leads_df['Phone_or_Email'].fillna(leads_df['Email'])\n",
    "leads_df['Phone_or_Email'] = np.where(leads_df['Phone_or_Email'].isnull(), 0, 1)"
   ]
  },
  {
   "cell_type": "markdown",
   "metadata": {},
   "source": [
    "### Have LinkedIn or Glassdoor?"
   ]
  },
  {
   "cell_type": "code",
   "execution_count": 21,
   "metadata": {},
   "outputs": [],
   "source": [
    "leads_df[\"Lnkdin_or_Glsdr\"] = leads_df[\"LkdIn_Web_Name\"]\n",
    "leads_df['Lnkdin_or_Glsdr'] = leads_df['Lnkdin_or_Glsdr'].fillna(leads_df['GlsDr_Company size'])\n",
    "leads_df['Lnkdin_or_Glsdr'] = np.where(leads_df['Lnkdin_or_Glsdr'].isnull(), 0, 1)"
   ]
  },
  {
   "cell_type": "markdown",
   "metadata": {},
   "source": [
    "### Income clearning"
   ]
  },
  {
   "cell_type": "code",
   "execution_count": 22,
   "metadata": {},
   "outputs": [
    {
     "data": {
      "text/plain": [
       "array([           0,    500000000,   1000000000,  10000000000,\n",
       "       100000000000,   5000000000,     50000000,      5000000,\n",
       "           25000000,   2000000000,      1000000,    100000000],\n",
       "      dtype=int64)"
      ]
     },
     "execution_count": 22,
     "metadata": {},
     "output_type": "execute_result"
    }
   ],
   "source": [
    "leads_df[\"GlsDr_Income\"] = leads_df[\"GlsDr_Income\"].replace('Desconocido/No aplicable por año', '0')\n",
    "leads_df[\"GlsDr_Income\"] = leads_df[\"GlsDr_Income\"].replace('Desconocido/No aplicable', '0')\n",
    "leads_df[\"GlsDr_Income\"] = leads_df[\"GlsDr_Income\"].replace('De 10 a 25\\xa0millones\\xa0(EUR) por año', '25000000')\n",
    "leads_df[\"GlsDr_Income\"] = leads_df[\"GlsDr_Income\"].replace('De 1000 a 2000\\xa0millones\\xa0(EUR) por año', '2000000000')\n",
    "leads_df[\"GlsDr_Income\"] = leads_df[\"GlsDr_Income\"].replace('De 500 a 1000\\xa0millones\\xa0(EUR) por año', '1000000000')\n",
    "leads_df[\"GlsDr_Income\"] = leads_df[\"GlsDr_Income\"].replace('De 5000 a 10\\xa0000\\xa0millones\\xa0(EUR) por año', '10000000000')\n",
    "leads_df[\"GlsDr_Income\"] = leads_df[\"GlsDr_Income\"].replace('De 50 a 100\\xa0millones\\xa0(EUR) por año', '25000000')\n",
    "leads_df[\"GlsDr_Income\"] = leads_df[\"GlsDr_Income\"].replace('De 100 a 500\\xa0millones\\xa0(EUR) por año', '500000000')\n",
    "leads_df[\"GlsDr_Income\"] = leads_df[\"GlsDr_Income\"].replace('De 1 a 5\\xa0millones\\xa0(EUR) por año', '5000000')\n",
    "leads_df[\"GlsDr_Income\"] = leads_df[\"GlsDr_Income\"].replace('De 25 a 50\\xa0millones\\xa0(EUR) por año', '50000000')\n",
    "leads_df[\"GlsDr_Income\"] = leads_df[\"GlsDr_Income\"].replace('Menos de 1\\xa0millón\\xa0(EUR) por año', '1000000')\n",
    "leads_df[\"GlsDr_Income\"] = leads_df[\"GlsDr_Income\"].replace('De 2000 a 5000\\xa0millones\\xa0(EUR) por año', '5000000000')\n",
    "leads_df[\"GlsDr_Income\"] = leads_df[\"GlsDr_Income\"].replace('Más de 10\\xa0000\\xa0millones\\xa0(EUR) por año', '100000000000')\n",
    "leads_df[\"GlsDr_Income\"] = leads_df[\"GlsDr_Income\"].replace('De 5 a 10\\xa0millones\\xa0(EUR) por año', '100000000')\n",
    "leads_df[\"GlsDr_Income\"].fillna(0, inplace=True)\n",
    "leads_df[\"GlsDr_Income\"] = pd.to_numeric(leads_df[\"GlsDr_Income\"])\n",
    "leads_df[\"GlsDr_Income\"].unique()"
   ]
  },
  {
   "cell_type": "markdown",
   "metadata": {},
   "source": [
    "### Company size"
   ]
  },
  {
   "cell_type": "code",
   "execution_count": 23,
   "metadata": {},
   "outputs": [
    {
     "data": {
      "text/plain": [
       "array([    0,    50,   200,    10,  5000, 15000,  1000,   500, 10000,\n",
       "           1], dtype=int64)"
      ]
     },
     "execution_count": 23,
     "metadata": {},
     "output_type": "execute_result"
    }
   ],
   "source": [
    "leads_df[\"LnkdIn_and_Glsdr_Employees\"] = leads_df[\"LnkdIn_and_Glsdr_Employees\"].str.replace('�',' ')\n",
    "\n",
    "leads_df[\"LnkdIn_and_Glsdr_Employees\"] = leads_df[\"LnkdIn_and_Glsdr_Employees\"].replace('10,001+ employees', '15000')\n",
    "leads_df[\"LnkdIn_and_Glsdr_Employees\"] = leads_df[\"LnkdIn_and_Glsdr_Employees\"].replace('5,001-10,000 employees', '10000')\n",
    "leads_df[\"LnkdIn_and_Glsdr_Employees\"] = leads_df[\"LnkdIn_and_Glsdr_Employees\"].replace('1,001-5,000 employees', '5000')\n",
    "leads_df[\"LnkdIn_and_Glsdr_Employees\"] = leads_df[\"LnkdIn_and_Glsdr_Employees\"].replace('501-1,000 employees', '1000')\n",
    "leads_df[\"LnkdIn_and_Glsdr_Employees\"] = leads_df[\"LnkdIn_and_Glsdr_Employees\"].replace('201-500 employees', '500')\n",
    "leads_df[\"LnkdIn_and_Glsdr_Employees\"] = leads_df[\"LnkdIn_and_Glsdr_Employees\"].replace('51-200 employees', '200')\n",
    "leads_df[\"LnkdIn_and_Glsdr_Employees\"] = leads_df[\"LnkdIn_and_Glsdr_Employees\"].replace('11-50 employees', '50')\n",
    "leads_df[\"LnkdIn_and_Glsdr_Employees\"] = leads_df[\"LnkdIn_and_Glsdr_Employees\"].replace('2-10 employees', '10')\n",
    "leads_df[\"LnkdIn_and_Glsdr_Employees\"] = leads_df[\"LnkdIn_and_Glsdr_Employees\"].replace('0-1 employees', '1')\n",
    "\n",
    "leads_df[\"LnkdIn_and_Glsdr_Employees\"] = leads_df[\"LnkdIn_and_Glsdr_Employees\"].replace('Más de 10\\xa0000\\xa0empleados', '15000')\n",
    "leads_df[\"LnkdIn_and_Glsdr_Employees\"] = leads_df[\"LnkdIn_and_Glsdr_Employees\"].replace('M s de 10 000 empleados', '15000')\n",
    "leads_df[\"LnkdIn_and_Glsdr_Employees\"] = leads_df[\"LnkdIn_and_Glsdr_Employees\"].replace('De 5001 a 10\\xa0000\\xa0empleados', '10000')\n",
    "leads_df[\"LnkdIn_and_Glsdr_Employees\"] = leads_df[\"LnkdIn_and_Glsdr_Employees\"].replace('De 5001 a 10 000 empleados', '10000')\n",
    "leads_df[\"LnkdIn_and_Glsdr_Employees\"] = leads_df[\"LnkdIn_and_Glsdr_Employees\"].replace('De 1001 a 5000\\xa0empleados', '5000')\n",
    "leads_df[\"LnkdIn_and_Glsdr_Employees\"] = leads_df[\"LnkdIn_and_Glsdr_Employees\"].replace('De 1001 a 5000\\xa0empleados', '5000')\n",
    "leads_df[\"LnkdIn_and_Glsdr_Employees\"] = leads_df[\"LnkdIn_and_Glsdr_Employees\"].replace('De 1001 a 5000 empleados', '5000')\n",
    "leads_df[\"LnkdIn_and_Glsdr_Employees\"] = leads_df[\"LnkdIn_and_Glsdr_Employees\"].replace('De 501 a 1000\\xa0empleados', '1000')\n",
    "leads_df[\"LnkdIn_and_Glsdr_Employees\"] = leads_df[\"LnkdIn_and_Glsdr_Employees\"].replace('De 501 a 1000 empleados', '1000')\n",
    "leads_df[\"LnkdIn_and_Glsdr_Employees\"] = leads_df[\"LnkdIn_and_Glsdr_Employees\"].replace('De 201 a 500 empleados', '500')\n",
    "leads_df[\"LnkdIn_and_Glsdr_Employees\"] = leads_df[\"LnkdIn_and_Glsdr_Employees\"].replace('De 201 a 500\\xa0empleados', '500')\n",
    "leads_df[\"LnkdIn_and_Glsdr_Employees\"] = leads_df[\"LnkdIn_and_Glsdr_Employees\"].replace('De 51 a 200 empleados', '200')\n",
    "leads_df[\"LnkdIn_and_Glsdr_Employees\"] = leads_df[\"LnkdIn_and_Glsdr_Employees\"].replace('De 51 a 200 empleados', '200')\n",
    "leads_df[\"LnkdIn_and_Glsdr_Employees\"] = leads_df[\"LnkdIn_and_Glsdr_Employees\"].replace('De 51 a 200\\xa0empleados', '200')\n",
    "leads_df[\"LnkdIn_and_Glsdr_Employees\"] = leads_df[\"LnkdIn_and_Glsdr_Employees\"].replace('De 1 a 50\\xa0empleados', '50')\n",
    "leads_df[\"LnkdIn_and_Glsdr_Employees\"] = leads_df[\"LnkdIn_and_Glsdr_Employees\"].replace('De 1 a 50 empleados', '50')\n",
    "leads_df[\"LnkdIn_and_Glsdr_Employees\"] = leads_df[\"LnkdIn_and_Glsdr_Employees\"].replace('Desconocido', '0')\n",
    "\n",
    "leads_df[\"LnkdIn_and_Glsdr_Employees\"].fillna(0, inplace=True)\n",
    "\n",
    "leads_df[\"LnkdIn_and_Glsdr_Employees\"] = pd.to_numeric(leads_df[\"LnkdIn_and_Glsdr_Employees\"])\n",
    "\n",
    "leads_df[\"LnkdIn_and_Glsdr_Employees\"].unique()\n"
   ]
  },
  {
   "cell_type": "markdown",
   "metadata": {},
   "source": [
    "### Words and their appearences"
   ]
  },
  {
   "cell_type": "code",
   "execution_count": 24,
   "metadata": {},
   "outputs": [],
   "source": [
    "leads_df['LkdIn_Translation'] = leads_df['LkdIn_Translation'].str.lower()\n",
    "leads_df['LkdIn_Translation'] = leads_df['LkdIn_Translation'].str.replace('-', '')\n",
    "leads_df['LkdIn_Translation'] = leads_df['LkdIn_Translation'].str.replace('/', ',')\n",
    "leads_df['LkdIn_Translation'] = leads_df['LkdIn_Translation'].str.replace(' and ', ',')\n",
    "\n",
    "leads_df[\"LkdIn_Translation\"] = leads_df[\"LkdIn_Translation\"].str.split(\",\", n = 5, expand = True) "
   ]
  },
  {
   "cell_type": "code",
   "execution_count": 25,
   "metadata": {
    "scrolled": true
   },
   "outputs": [
    {
     "data": {
      "text/plain": [
       "[('automotive', 314),\n",
       " ('engineering', 297),\n",
       " ('3d printing', 253),\n",
       " ('design', 229),\n",
       " ('aerospace', 160),\n",
       " ('research', 152),\n",
       " ('education', 134),\n",
       " ('additive manufacturing', 126),\n",
       " ('architecture', 122),\n",
       " ('higher education', 80),\n",
       " ('manufacturing', 76),\n",
       " ('automotive seating', 71),\n",
       " ('innovation', 70),\n",
       " ('construction', 66),\n",
       " ('industrial automation', 65),\n",
       " ('consulting', 60),\n",
       " ('marketing', 59),\n",
       " ('robotics', 58),\n",
       " ('automation', 56),\n",
       " ('scientific research', 48),\n",
       " ('product design', 47),\n",
       " ('mechanical engineering', 46),\n",
       " ('cost management', 45),\n",
       " ('technology', 44),\n",
       " ('plastics', 44),\n",
       " ('journalism', 43),\n",
       " ('chemicals', 42),\n",
       " ('power management', 42),\n",
       " ('university', 42),\n",
       " ('medical devices', 41),\n",
       " ('energy', 40),\n",
       " ('product development', 40),\n",
       " ('transportation', 40),\n",
       " ('healthcare', 38),\n",
       " ('rapid prototyping', 38),\n",
       " ('packaging', 36),\n",
       " ('abb ability', 36),\n",
       " ('manufacturing automation', 36),\n",
       " ('auto manufacturer', 34),\n",
       " ('comfort', 34),\n",
       " ('graphic design', 34),\n",
       " ('mobility solutions', 33),\n",
       " ('information technology', 33),\n",
       " ('carbonlow energies', 32),\n",
       " ('chemistry', 31),\n",
       " ('advertising', 31),\n",
       " ('automotive engineering', 31),\n",
       " ('training', 31),\n",
       " ('machining', 30),\n",
       " ('cad', 30),\n",
       " ('industrial design', 30),\n",
       " ('retail', 29),\n",
       " ('manufacture', 29),\n",
       " ('project management', 28),\n",
       " ('recruitment', 28),\n",
       " ('packaging machinery', 28),\n",
       " ('telecommunications', 27),\n",
       " ('transport', 27),\n",
       " ('orthopedics', 26),\n",
       " ('beauty', 26),\n",
       " ('outsourcing', 26),\n",
       " ('development', 26),\n",
       " ('technology transfer', 26),\n",
       " ('sales', 26),\n",
       " ('electronics', 26),\n",
       " ('software development', 25),\n",
       " ('software', 25),\n",
       " ('r & d', 25),\n",
       " ('logistics', 25),\n",
       " ('ecommerce', 24),\n",
       " ('industry', 24),\n",
       " ('oil', 24),\n",
       " ('infrastructure', 24),\n",
       " ('injection moulding', 24),\n",
       " ('health', 23),\n",
       " ('sports', 23),\n",
       " ('wiring systems', 23),\n",
       " ('prototyping', 22),\n",
       " ('advanced manufacturing engineering', 22),\n",
       " ('prosthetics', 22),\n",
       " ('it', 22),\n",
       " ('printing', 22),\n",
       " ('rail vehicles', 22),\n",
       " ('advertisement', 22),\n",
       " ('metal', 20),\n",
       " ('applied research', 20),\n",
       " ('production', 20),\n",
       " ('electrical', 20),\n",
       " ('sealing systems', 20),\n",
       " ('injection molding', 20),\n",
       " ('autonomous vehicles', 20),\n",
       " ('civil engineering', 19),\n",
       " ('high performance materials', 19),\n",
       " ('hot stamping', 19),\n",
       " ('elektromobilität', 18),\n",
       " ('renewable energy', 18),\n",
       " ('incentive travel', 18),\n",
       " ('medical device', 18),\n",
       " ('elearning', 18),\n",
       " ('management consulting', 18)]"
      ]
     },
     "execution_count": 25,
     "metadata": {},
     "output_type": "execute_result"
    }
   ],
   "source": [
    "from collections import Counter \n",
    "import re\n",
    "\n",
    "corpus = leads_df[\"LkdIn_Translation\"].dropna().tolist()\n",
    "corpus = [item.strip() for item in corpus]\n",
    "\n",
    "def highest_occurrence_words(corpus):  \n",
    "    Counters = Counter(corpus) \n",
    "    most_occur = Counters.most_common()\n",
    "    return(most_occur)\n",
    "\n",
    "most_occur = highest_occurrence_words(corpus)\n",
    "most_occur[:100]"
   ]
  },
  {
   "cell_type": "code",
   "execution_count": 26,
   "metadata": {},
   "outputs": [],
   "source": [
    "# pd.DataFrame(most_occur).to_excel('most_occur.xlsx')"
   ]
  },
  {
   "cell_type": "code",
   "execution_count": 27,
   "metadata": {},
   "outputs": [],
   "source": [
    "for word in most_occur[:75]:\n",
    "    leads_df.loc[leads_df['LkdIn_Translation'].str.contains(word[0], na=False), 'LkdIn_Translation'] = word[0]"
   ]
  },
  {
   "cell_type": "code",
   "execution_count": 28,
   "metadata": {},
   "outputs": [
    {
     "data": {
      "text/plain": [
       "array([nan, '3d scanning', 'personalisierte mailings', ...,\n",
       "       'content strategy', 'headhunter', 'football club'], dtype=object)"
      ]
     },
     "execution_count": 28,
     "metadata": {},
     "output_type": "execute_result"
    }
   ],
   "source": [
    "leads_df['LkdIn_Translation'].unique()"
   ]
  },
  {
   "cell_type": "code",
   "execution_count": 29,
   "metadata": {},
   "outputs": [
    {
     "data": {
      "image/png": "[encoded data removed]",
      "text/plain": [
       "<Figure size 1080x720 with 1 Axes>"
      ]
     },
     "metadata": {},
     "output_type": "display_data"
    }
   ],
   "source": [
    "#create count plot for room types\n",
    "%matplotlib inline\n",
    "sns.set(style=\"darkgrid\")\n",
    "plt.figure(figsize=(15,10))\n",
    "ax = sns.countplot(y='LkdIn_Translation',  data=leads_df, order = leads_df[\"LkdIn_Translation\"].value_counts().iloc[:20].index)\n",
    "plt.show()"
   ]
  },
  {
   "cell_type": "markdown",
   "metadata": {},
   "source": [
    "### Generate Fiscal Years"
   ]
  },
  {
   "cell_type": "code",
   "execution_count": 30,
   "metadata": {},
   "outputs": [],
   "source": [
    "leads_df['Month'] = leads_df['Response Creation Date'].dt.month\n",
    "leads_df['Year'] = leads_df['Response Creation Date'].dt.year\n",
    "\n",
    "leads_df[\"Quarter\"] = np.where(leads_df[\"Month\"]==1,1,\"\")\n",
    "leads_df[\"Quarter\"] = np.where(np.logical_and(leads_df[\"Month\"]>=2, leads_df[\"Month\"]<=4), 2,\n",
    "                              np.where(np.logical_and(leads_df[\"Month\"]>=5, leads_df[\"Month\"]<=7), 3,\n",
    "                                np.where(np.logical_and(leads_df[\"Month\"]>=8, leads_df[\"Month\"]<=10), 4, 1)\n",
    "                                      ))\n",
    "leads_df[\"Fiscal_Year\"] = np.where(np.logical_and(leads_df[\"Month\"]>=1, leads_df[\"Month\"]<=10), \n",
    "                                   leads_df['Year'], leads_df['Year']+1)\n",
    "\n",
    "leads_df['FY Correct'] = pd.to_numeric(leads_df[\"Fiscal_Year\"].map(str)+leads_df[\"Quarter\"].map(str))"
   ]
  },
  {
   "cell_type": "markdown",
   "metadata": {},
   "source": [
    "### Lead Status"
   ]
  },
  {
   "cell_type": "code",
   "execution_count": 31,
   "metadata": {},
   "outputs": [
    {
     "data": {
      "text/plain": [
       "array([0, 2, 1], dtype=int64)"
      ]
     },
     "execution_count": 31,
     "metadata": {},
     "output_type": "execute_result"
    }
   ],
   "source": [
    "leads_df[\"Lead Status\"] = leads_df[\"Lead Status\"].replace('Disqualified', '0')\n",
    "leads_df[\"Lead Status\"] = leads_df[\"Lead Status\"].replace('Good', '1')\n",
    "leads_df[\"Lead Status\"] = leads_df[\"Lead Status\"].replace('Unqualified', '2')\n",
    "leads_df[\"Lead Status\"] = leads_df[\"Lead Status\"].replace('Work In Progress', '2')\n",
    "\n",
    "leads_df[\"Lead Status\"] = pd.to_numeric(leads_df[\"Lead Status\"])\n",
    "leads_df.fillna(0, inplace=True)\n",
    "leads_df[\"Lead Status\"].unique()"
   ]
  },
  {
   "cell_type": "markdown",
   "metadata": {},
   "source": [
    "### Split dataset"
   ]
  },
  {
   "cell_type": "code",
   "execution_count": 32,
   "metadata": {},
   "outputs": [],
   "source": [
    "leads_df['Response Creation Date'] = leads_df['Response Creation Date'].map(str)\n",
    "leads_df['Phone'] = leads_df['Phone'].map(str)\n",
    "\n",
    "leads_df = leads_df.sort_values(by='Response Creation Date', ascending=True) # Used for the hashing\n",
    "\n",
    "y = leads_df['Lead Status']\n",
    "X = leads_df.drop(['Opportunity Name','Opportunity Sales Stage', 'Opportunity Closed As Won/Lost', 'HP Lead ID',\n",
    "                   'Opportunity ClosedWon', 'Opportunity Owner', 'Created Month', 'Last Modified', 'LinkedIn_Glsdr_Industry',\n",
    "                   'Lead Status', 'Status Reason', 'Quantity', 'Lead Qualifier', 'Accept Lead', 'Activ_Disqualified Lead',\n",
    "                   'Opportunity CloseDate', 'Opportunity Created Date', 'Nurture Reason','Willingness to Buy',\n",
    "                   'Nurture Type', 'Lead Source', 'Rating', 'First Name', 'Middle Name', 'Last Name', 'Activ_closed response',\n",
    "                   'Estimated Budget','Primary Campaign','Lead Accepted Date', 'Industry', 'Sub Industry', 'LkdIn_Industry',\n",
    "                   'LkdIn_Company_size','GlsDr_Company size', 'GlsDr_Industry', 'Company_grouped', 'Activ_Re-assigned Lead',\n",
    "                   'Job Role','Activ_Budget Change','Activ_Comments','Activ_Status Change','Job Function', 'Lead Close Reasons']\n",
    "                  , axis=1)\n",
    "\n",
    "#                    'Activ_Attempted Calls','Activ_Budget Change','Activ_Comments','Activ_EDM','Activ_Email','Activ_Reached Calls','Activ_Status Change','Activ Touches'"
   ]
  },
  {
   "cell_type": "code",
   "execution_count": 33,
   "metadata": {},
   "outputs": [
    {
     "data": {
      "text/html": [
       "<div>\n",
       "<style scoped>\n",
       "    .dataframe tbody tr th:only-of-type {\n",
       "        vertical-align: middle;\n",
       "    }\n",
       "\n",
       "    .dataframe tbody tr th {\n",
       "        vertical-align: top;\n",
       "    }\n",
       "\n",
       "    .dataframe thead th {\n",
       "        text-align: right;\n",
       "    }\n",
       "</style>\n",
       "<table border=\"1\" class=\"dataframe\">\n",
       "  <thead>\n",
       "    <tr style=\"text-align: right;\">\n",
       "      <th></th>\n",
       "      <th>Company</th>\n",
       "      <th>LkdIn_Web_Name</th>\n",
       "      <th>LkdIn_Headquarters</th>\n",
       "      <th>LkdIn_Specialties</th>\n",
       "      <th>LkdIn_Translation</th>\n",
       "      <th>Title</th>\n",
       "      <th>Email</th>\n",
       "      <th>Phone</th>\n",
       "      <th>State/Province</th>\n",
       "      <th>Country</th>\n",
       "      <th>Region</th>\n",
       "      <th>Sub Region</th>\n",
       "      <th>Lead Owner</th>\n",
       "      <th>Lead Record Type</th>\n",
       "      <th>Street</th>\n",
       "      <th>Response Creation Date</th>\n",
       "      <th>Segment</th>\n",
       "      <th>Sub Segment</th>\n",
       "      <th>Reseller Account</th>\n",
       "      <th>Product List</th>\n",
       "      <th>Products</th>\n",
       "      <th>Prod. Family</th>\n",
       "      <th>Created By</th>\n",
       "      <th>Campaign Name</th>\n",
       "      <th>End Date</th>\n",
       "      <th>Campaign Type</th>\n",
       "      <th>Phone_desc</th>\n",
       "      <th>HP_and_LnkdIn_Glsdr_Verticals</th>\n",
       "      <th>LnkdIn_Glsdr_HP_Standardized</th>\n",
       "    </tr>\n",
       "  </thead>\n",
       "  <tbody>\n",
       "    <tr>\n",
       "      <td>0</td>\n",
       "      <td>indra sistemas, sociedad anonima</td>\n",
       "      <td>INDRA SISTEMAS, SOCIEDAD ANONIMA</td>\n",
       "      <td>0</td>\n",
       "      <td>0</td>\n",
       "      <td>0</td>\n",
       "      <td>0</td>\n",
       "      <td>ccordero@indra.es</td>\n",
       "      <td>34914805000</td>\n",
       "      <td>0</td>\n",
       "      <td>Spain</td>\n",
       "      <td>EMEA</td>\n",
       "      <td>IBERIA</td>\n",
       "      <td>Quique Palau</td>\n",
       "      <td>Prospect</td>\n",
       "      <td>0</td>\n",
       "      <td>2015-05-11 00:00:00</td>\n",
       "      <td>Parts Providers</td>\n",
       "      <td>Engineering Companies</td>\n",
       "      <td>0</td>\n",
       "      <td>0</td>\n",
       "      <td>0</td>\n",
       "      <td>VI - 3D Plastics Production HW</td>\n",
       "      <td>0</td>\n",
       "      <td>3D Q216 WW EMEA Rapid event</td>\n",
       "      <td>2016-04-30 00:00:00</td>\n",
       "      <td>Digital Marketing</td>\n",
       "      <td>Landline</td>\n",
       "      <td>Parts Providers</td>\n",
       "      <td>3D_Parts_Provider</td>\n",
       "    </tr>\n",
       "    <tr>\n",
       "      <td>68</td>\n",
       "      <td>institute for research in biomedicine</td>\n",
       "      <td>IRB | Institute for Research in Biomedicine</td>\n",
       "      <td>0</td>\n",
       "      <td>immunology, vaccine science, protein folding, ...</td>\n",
       "      <td>immunology</td>\n",
       "      <td>0</td>\n",
       "      <td>eduard.batlle@irbbarcelona.org</td>\n",
       "      <td>34934037111</td>\n",
       "      <td>0</td>\n",
       "      <td>Spain</td>\n",
       "      <td>EMEA</td>\n",
       "      <td>IBERIA</td>\n",
       "      <td>Javier Guma</td>\n",
       "      <td>Prospect</td>\n",
       "      <td>0</td>\n",
       "      <td>2015-05-11 00:00:00</td>\n",
       "      <td>Healthcare</td>\n",
       "      <td>Prosthetics and Orthotics</td>\n",
       "      <td>0</td>\n",
       "      <td>0</td>\n",
       "      <td>0</td>\n",
       "      <td>VI - 3D Plastics Production HW</td>\n",
       "      <td>0</td>\n",
       "      <td>3D Q216 WW EMEA Rapid event</td>\n",
       "      <td>2016-04-30 00:00:00</td>\n",
       "      <td>Digital Marketing</td>\n",
       "      <td>Landline</td>\n",
       "      <td>Healthcare</td>\n",
       "      <td>3D_Healthcare</td>\n",
       "    </tr>\n",
       "    <tr>\n",
       "      <td>67</td>\n",
       "      <td>ing corporation, spol. s r.o.</td>\n",
       "      <td>BIOPREPARÁTY, spol. s r.o.</td>\n",
       "      <td>0</td>\n",
       "      <td>Plant protection, Fungi-static preparations in...</td>\n",
       "      <td>plant protection</td>\n",
       "      <td>CEO</td>\n",
       "      <td>jiri@ingcorporation.cz</td>\n",
       "      <td>420777701511</td>\n",
       "      <td>0</td>\n",
       "      <td>Czech Republic</td>\n",
       "      <td>EMEA</td>\n",
       "      <td>CEMA</td>\n",
       "      <td>Kalle Lepola</td>\n",
       "      <td>Prospect</td>\n",
       "      <td>0</td>\n",
       "      <td>2015-05-11 00:00:00</td>\n",
       "      <td>0</td>\n",
       "      <td>0</td>\n",
       "      <td>0</td>\n",
       "      <td>0</td>\n",
       "      <td>0</td>\n",
       "      <td>VI - 3D Plastics Production HW</td>\n",
       "      <td>0</td>\n",
       "      <td>HP 3DP technology announcement campaign</td>\n",
       "      <td>2016-01-31 00:00:00</td>\n",
       "      <td>Direct Marketing</td>\n",
       "      <td>Landline</td>\n",
       "      <td>Biotechnology</td>\n",
       "      <td>3D_Healthcare</td>\n",
       "    </tr>\n",
       "    <tr>\n",
       "      <td>65</td>\n",
       "      <td>rega swiss air-ambulance ltd</td>\n",
       "      <td>0</td>\n",
       "      <td>0</td>\n",
       "      <td>0</td>\n",
       "      <td>0</td>\n",
       "      <td>0</td>\n",
       "      <td>marcel.kalt@rega.ch</td>\n",
       "      <td>41446543292</td>\n",
       "      <td>0</td>\n",
       "      <td>Switzerland</td>\n",
       "      <td>EMEA</td>\n",
       "      <td>ACH</td>\n",
       "      <td>Maximilian Loth</td>\n",
       "      <td>Prospect</td>\n",
       "      <td>0</td>\n",
       "      <td>2015-05-11 00:00:00</td>\n",
       "      <td>0</td>\n",
       "      <td>0</td>\n",
       "      <td>0</td>\n",
       "      <td>0</td>\n",
       "      <td>0</td>\n",
       "      <td>VI - 3D Plastics Production HW</td>\n",
       "      <td>0</td>\n",
       "      <td>HP 3DP technology announcement campaign</td>\n",
       "      <td>2016-01-31 00:00:00</td>\n",
       "      <td>Direct Marketing</td>\n",
       "      <td>Landline</td>\n",
       "      <td>0</td>\n",
       "      <td>0</td>\n",
       "    </tr>\n",
       "    <tr>\n",
       "      <td>64</td>\n",
       "      <td>fazefactory-litopoliglotta</td>\n",
       "      <td>0</td>\n",
       "      <td>0</td>\n",
       "      <td>0</td>\n",
       "      <td>0</td>\n",
       "      <td>0</td>\n",
       "      <td>info@fazefactory.com</td>\n",
       "      <td>3928956143</td>\n",
       "      <td>0</td>\n",
       "      <td>Italy</td>\n",
       "      <td>EMEA</td>\n",
       "      <td>ITALY</td>\n",
       "      <td>Vittorio Albertazzi</td>\n",
       "      <td>Prospect</td>\n",
       "      <td>0</td>\n",
       "      <td>2015-05-11 00:00:00</td>\n",
       "      <td>0</td>\n",
       "      <td>0</td>\n",
       "      <td>0</td>\n",
       "      <td>0</td>\n",
       "      <td>0</td>\n",
       "      <td>VI - 3D Plastics Production HW</td>\n",
       "      <td>0</td>\n",
       "      <td>HP 3DP technology announcement campaign</td>\n",
       "      <td>2016-01-31 00:00:00</td>\n",
       "      <td>Direct Marketing</td>\n",
       "      <td>Landline</td>\n",
       "      <td>0</td>\n",
       "      <td>0</td>\n",
       "    </tr>\n",
       "    <tr>\n",
       "      <td>...</td>\n",
       "      <td>...</td>\n",
       "      <td>...</td>\n",
       "      <td>...</td>\n",
       "      <td>...</td>\n",
       "      <td>...</td>\n",
       "      <td>...</td>\n",
       "      <td>...</td>\n",
       "      <td>...</td>\n",
       "      <td>...</td>\n",
       "      <td>...</td>\n",
       "      <td>...</td>\n",
       "      <td>...</td>\n",
       "      <td>...</td>\n",
       "      <td>...</td>\n",
       "      <td>...</td>\n",
       "      <td>...</td>\n",
       "      <td>...</td>\n",
       "      <td>...</td>\n",
       "      <td>...</td>\n",
       "      <td>...</td>\n",
       "      <td>...</td>\n",
       "      <td>...</td>\n",
       "      <td>...</td>\n",
       "      <td>...</td>\n",
       "      <td>...</td>\n",
       "      <td>...</td>\n",
       "      <td>...</td>\n",
       "      <td>...</td>\n",
       "      <td>...</td>\n",
       "    </tr>\n",
       "    <tr>\n",
       "      <td>41495</td>\n",
       "      <td>smc</td>\n",
       "      <td>SMC</td>\n",
       "      <td>Noblesville,, IN</td>\n",
       "      <td>Pneumatic, Temperature Control, Electrical, Fi...</td>\n",
       "      <td>pneumatic</td>\n",
       "      <td>Engineer</td>\n",
       "      <td>tlitster@smceu.com</td>\n",
       "      <td>1908555215</td>\n",
       "      <td>Buckinghamshire</td>\n",
       "      <td>United Kingdom</td>\n",
       "      <td>EMEA</td>\n",
       "      <td>UKI</td>\n",
       "      <td>Shabaaz Yaqub</td>\n",
       "      <td>Prospect</td>\n",
       "      <td>Vincent Avenue, Crownhill</td>\n",
       "      <td>2020-12-07 00:00:00</td>\n",
       "      <td>Industrial</td>\n",
       "      <td>Pipes Tubes and Fluid Systems</td>\n",
       "      <td>0</td>\n",
       "      <td>5200 Printer</td>\n",
       "      <td>5200 Printer</td>\n",
       "      <td>VI - 3D Plastics Production HW</td>\n",
       "      <td>Shabaaz Yaqub</td>\n",
       "      <td>3D Q320 WW WWHQ HP.com - CWU</td>\n",
       "      <td>2020-07-31 00:00:00</td>\n",
       "      <td>Website / Apps</td>\n",
       "      <td>Landline</td>\n",
       "      <td>Industrial</td>\n",
       "      <td>3D_Industrial</td>\n",
       "    </tr>\n",
       "    <tr>\n",
       "      <td>41496</td>\n",
       "      <td>thales</td>\n",
       "      <td>Thales</td>\n",
       "      <td>0</td>\n",
       "      <td>Aerospace, Defence, Security, Space, Transport...</td>\n",
       "      <td>aerospace</td>\n",
       "      <td>3D PRINTING BUSINESS DEVELOPMENT</td>\n",
       "      <td>jean-claude.derbes@thalesgroup.com</td>\n",
       "      <td>492927618</td>\n",
       "      <td>0</td>\n",
       "      <td>France</td>\n",
       "      <td>EMEA</td>\n",
       "      <td>FRANCE</td>\n",
       "      <td>Thibault Rames</td>\n",
       "      <td>Prospect</td>\n",
       "      <td>TOUR CARPE DIEM ESPLANADE NORD, PL DES COROLLES</td>\n",
       "      <td>2020-12-07 00:00:00</td>\n",
       "      <td>0</td>\n",
       "      <td>0</td>\n",
       "      <td>0</td>\n",
       "      <td>5200 Printer</td>\n",
       "      <td>5200 Printer</td>\n",
       "      <td>VI - 3D Plastics Production HW</td>\n",
       "      <td>0</td>\n",
       "      <td>3D Q320 WW EMEA France USINE NOUVELLE study leads</td>\n",
       "      <td>2020-07-31 00:00:00</td>\n",
       "      <td>Direct Marketing</td>\n",
       "      <td>Landline</td>\n",
       "      <td>Information Technology &amp; Services</td>\n",
       "      <td>N3D_Information_Technology_Services</td>\n",
       "    </tr>\n",
       "    <tr>\n",
       "      <td>41493</td>\n",
       "      <td>tritone</td>\n",
       "      <td>TRITONE INC.(Medical Device Manufacturing)</td>\n",
       "      <td>Chicago, Illinois</td>\n",
       "      <td>Manufacturing, Distribution, and Contract manu...</td>\n",
       "      <td>manufacturing</td>\n",
       "      <td>0</td>\n",
       "      <td>guys@tritoneam.com</td>\n",
       "      <td>039018975</td>\n",
       "      <td>Rosh A'ayin</td>\n",
       "      <td>Israel</td>\n",
       "      <td>EMEA</td>\n",
       "      <td>CEMA</td>\n",
       "      <td>Malgorzata Filipek</td>\n",
       "      <td>Awareness</td>\n",
       "      <td>0</td>\n",
       "      <td>2020-12-07 00:00:00</td>\n",
       "      <td>0</td>\n",
       "      <td>0</td>\n",
       "      <td>0</td>\n",
       "      <td>Parts referral</td>\n",
       "      <td>Parts referral</td>\n",
       "      <td>SB - Parts Referral</td>\n",
       "      <td>0</td>\n",
       "      <td>3D Q420 AMS ProtoLabs Webinar</td>\n",
       "      <td>2020-10-31 00:00:00</td>\n",
       "      <td>Events</td>\n",
       "      <td>Landline</td>\n",
       "      <td>Medical Device</td>\n",
       "      <td>3D_Healthcare</td>\n",
       "    </tr>\n",
       "    <tr>\n",
       "      <td>41494</td>\n",
       "      <td>elkem silicones france sas</td>\n",
       "      <td>0</td>\n",
       "      <td>0</td>\n",
       "      <td>0</td>\n",
       "      <td>0</td>\n",
       "      <td>SCIENTIFIC &amp; TECHNOLOGY COORDINATOR</td>\n",
       "      <td>jean-marc.frances@elkem.com</td>\n",
       "      <td>472737615</td>\n",
       "      <td>0</td>\n",
       "      <td>France</td>\n",
       "      <td>EMEA</td>\n",
       "      <td>FRANCE</td>\n",
       "      <td>Thibault Rames</td>\n",
       "      <td>Prospect</td>\n",
       "      <td>21 AVENUE GEORGES POMPIDOU</td>\n",
       "      <td>2020-12-07 00:00:00</td>\n",
       "      <td>0</td>\n",
       "      <td>0</td>\n",
       "      <td>0</td>\n",
       "      <td>5200 Printer</td>\n",
       "      <td>5200 Printer</td>\n",
       "      <td>VI - 3D Plastics Production HW</td>\n",
       "      <td>0</td>\n",
       "      <td>3D Q320 WW EMEA France USINE NOUVELLE study leads</td>\n",
       "      <td>2020-07-31 00:00:00</td>\n",
       "      <td>Direct Marketing</td>\n",
       "      <td>Landline</td>\n",
       "      <td>0</td>\n",
       "      <td>0</td>\n",
       "    </tr>\n",
       "    <tr>\n",
       "      <td>41497</td>\n",
       "      <td>les zelles</td>\n",
       "      <td>LES ZELLES</td>\n",
       "      <td>0</td>\n",
       "      <td>Fenêtres, portes et volets and PVC et Aluminium</td>\n",
       "      <td>windows</td>\n",
       "      <td>DIRECTEUR STRATÉGIE, DÉVELOPPEMENT ET RISK MAN...</td>\n",
       "      <td>jean_philippe.list@leszelles.fr</td>\n",
       "      <td>785354395</td>\n",
       "      <td>0</td>\n",
       "      <td>France</td>\n",
       "      <td>EMEA</td>\n",
       "      <td>FRANCE</td>\n",
       "      <td>Thibault Rames</td>\n",
       "      <td>Prospect</td>\n",
       "      <td>CHE DES ECORCES</td>\n",
       "      <td>2020-12-07 00:00:00</td>\n",
       "      <td>0</td>\n",
       "      <td>0</td>\n",
       "      <td>0</td>\n",
       "      <td>5200 Printer</td>\n",
       "      <td>5200 Printer</td>\n",
       "      <td>VI - 3D Plastics Production HW</td>\n",
       "      <td>0</td>\n",
       "      <td>3D Q320 WW EMEA France USINE NOUVELLE study leads</td>\n",
       "      <td>2020-07-31 00:00:00</td>\n",
       "      <td>Direct Marketing</td>\n",
       "      <td>Landline</td>\n",
       "      <td>Building Materials</td>\n",
       "      <td>3D_Industrial</td>\n",
       "    </tr>\n",
       "  </tbody>\n",
       "</table>\n",
       "<p>41498 rows × 29 columns</p>\n",
       "</div>"
      ],
      "text/plain": [
       "                                     Company                               LkdIn_Web_Name LkdIn_Headquarters                                  LkdIn_Specialties LkdIn_Translation                                              Title                               Email         Phone   State/Province         Country Region Sub Region           Lead Owner Lead Record Type                                           Street Response Creation Date          Segment                    Sub Segment Reseller Account    Product List        Products                    Prod. Family     Created By                                      Campaign Name             End Date      Campaign Type Phone_desc      HP_and_LnkdIn_Glsdr_Verticals         LnkdIn_Glsdr_HP_Standardized\n",
       "0           indra sistemas, sociedad anonima             INDRA SISTEMAS, SOCIEDAD ANONIMA                  0                                                  0                 0                                                  0                   ccordero@indra.es   34914805000                0           Spain   EMEA     IBERIA         Quique Palau         Prospect                                                0    2015-05-11 00:00:00  Parts Providers          Engineering Companies                0               0               0  VI - 3D Plastics Production HW              0                        3D Q216 WW EMEA Rapid event  2016-04-30 00:00:00  Digital Marketing   Landline                    Parts Providers                    3D_Parts_Provider\n",
       "68     institute for research in biomedicine  IRB | Institute for Research in Biomedicine                  0  immunology, vaccine science, protein folding, ...        immunology                                                  0      eduard.batlle@irbbarcelona.org   34934037111                0           Spain   EMEA     IBERIA          Javier Guma         Prospect                                                0    2015-05-11 00:00:00       Healthcare      Prosthetics and Orthotics                0               0               0  VI - 3D Plastics Production HW              0                        3D Q216 WW EMEA Rapid event  2016-04-30 00:00:00  Digital Marketing   Landline                         Healthcare                        3D_Healthcare\n",
       "67             ing corporation, spol. s r.o.                   BIOPREPARÁTY, spol. s r.o.                  0  Plant protection, Fungi-static preparations in...  plant protection                                                CEO              jiri@ingcorporation.cz  420777701511                0  Czech Republic   EMEA       CEMA         Kalle Lepola         Prospect                                                0    2015-05-11 00:00:00                0                              0                0               0               0  VI - 3D Plastics Production HW              0            HP 3DP technology announcement campaign  2016-01-31 00:00:00   Direct Marketing   Landline                      Biotechnology                        3D_Healthcare\n",
       "65              rega swiss air-ambulance ltd                                            0                  0                                                  0                 0                                                  0                 marcel.kalt@rega.ch   41446543292                0     Switzerland   EMEA        ACH      Maximilian Loth         Prospect                                                0    2015-05-11 00:00:00                0                              0                0               0               0  VI - 3D Plastics Production HW              0            HP 3DP technology announcement campaign  2016-01-31 00:00:00   Direct Marketing   Landline                                  0                                    0\n",
       "64                fazefactory-litopoliglotta                                            0                  0                                                  0                 0                                                  0                info@fazefactory.com    3928956143                0           Italy   EMEA      ITALY  Vittorio Albertazzi         Prospect                                                0    2015-05-11 00:00:00                0                              0                0               0               0  VI - 3D Plastics Production HW              0            HP 3DP technology announcement campaign  2016-01-31 00:00:00   Direct Marketing   Landline                                  0                                    0\n",
       "...                                      ...                                          ...                ...                                                ...               ...                                                ...                                 ...           ...              ...             ...    ...        ...                  ...              ...                                              ...                    ...              ...                            ...              ...             ...             ...                             ...            ...                                                ...                  ...                ...        ...                                ...                                  ...\n",
       "41495                                    smc                                          SMC   Noblesville,, IN  Pneumatic, Temperature Control, Electrical, Fi...         pneumatic                                           Engineer                  tlitster@smceu.com    1908555215  Buckinghamshire  United Kingdom   EMEA        UKI        Shabaaz Yaqub         Prospect                        Vincent Avenue, Crownhill    2020-12-07 00:00:00       Industrial  Pipes Tubes and Fluid Systems                0    5200 Printer    5200 Printer  VI - 3D Plastics Production HW  Shabaaz Yaqub                       3D Q320 WW WWHQ HP.com - CWU  2020-07-31 00:00:00     Website / Apps   Landline                         Industrial                        3D_Industrial\n",
       "41496                                 thales                                       Thales                  0  Aerospace, Defence, Security, Space, Transport...         aerospace                   3D PRINTING BUSINESS DEVELOPMENT  jean-claude.derbes@thalesgroup.com     492927618                0          France   EMEA     FRANCE       Thibault Rames         Prospect  TOUR CARPE DIEM ESPLANADE NORD, PL DES COROLLES    2020-12-07 00:00:00                0                              0                0    5200 Printer    5200 Printer  VI - 3D Plastics Production HW              0  3D Q320 WW EMEA France USINE NOUVELLE study leads  2020-07-31 00:00:00   Direct Marketing   Landline  Information Technology & Services  N3D_Information_Technology_Services\n",
       "41493                                tritone   TRITONE INC.(Medical Device Manufacturing)  Chicago, Illinois  Manufacturing, Distribution, and Contract manu...     manufacturing                                                  0                  guys@tritoneam.com     039018975      Rosh A'ayin          Israel   EMEA       CEMA   Malgorzata Filipek        Awareness                                                0    2020-12-07 00:00:00                0                              0                0  Parts referral  Parts referral             SB - Parts Referral              0                      3D Q420 AMS ProtoLabs Webinar  2020-10-31 00:00:00             Events   Landline                     Medical Device                        3D_Healthcare\n",
       "41494             elkem silicones france sas                                            0                  0                                                  0                 0                SCIENTIFIC & TECHNOLOGY COORDINATOR         jean-marc.frances@elkem.com     472737615                0          France   EMEA     FRANCE       Thibault Rames         Prospect                       21 AVENUE GEORGES POMPIDOU    2020-12-07 00:00:00                0                              0                0    5200 Printer    5200 Printer  VI - 3D Plastics Production HW              0  3D Q320 WW EMEA France USINE NOUVELLE study leads  2020-07-31 00:00:00   Direct Marketing   Landline                                  0                                    0\n",
       "41497                             les zelles                                   LES ZELLES                  0    Fenêtres, portes et volets and PVC et Aluminium           windows  DIRECTEUR STRATÉGIE, DÉVELOPPEMENT ET RISK MAN...     jean_philippe.list@leszelles.fr     785354395                0          France   EMEA     FRANCE       Thibault Rames         Prospect                                  CHE DES ECORCES    2020-12-07 00:00:00                0                              0                0    5200 Printer    5200 Printer  VI - 3D Plastics Production HW              0  3D Q320 WW EMEA France USINE NOUVELLE study leads  2020-07-31 00:00:00   Direct Marketing   Landline                 Building Materials                        3D_Industrial\n",
       "\n",
       "[41498 rows x 29 columns]"
      ]
     },
     "execution_count": 33,
     "metadata": {},
     "output_type": "execute_result"
    }
   ],
   "source": [
    "leads_obj = X.select_dtypes(include='object')\n",
    "leads_num = X.select_dtypes(exclude='object')\n",
    "leads_obj"
   ]
  },
  {
   "cell_type": "markdown",
   "metadata": {},
   "source": [
    "# Result"
   ]
  },
  {
   "cell_type": "markdown",
   "metadata": {},
   "source": [
    "### Exploration"
   ]
  },
  {
   "cell_type": "code",
   "execution_count": 34,
   "metadata": {},
   "outputs": [],
   "source": [
    "# # for visualizing correlations\n",
    "# f, ax = plt.subplots(figsize=(20, 10))\n",
    "# corr = X.corr()\n",
    "# hm = sns.heatmap(round(corr,2), annot=True, ax=ax, cmap=\"Reds\",fmt='.2f',\n",
    "#             linewidths=.05)\n",
    "# f.subplots_adjust(top=0.93)\n",
    "# t= f.suptitle('Lead Attributes Correlation Heatmap', fontsize=24)"
   ]
  },
  {
   "cell_type": "code",
   "execution_count": null,
   "metadata": {},
   "outputs": [],
   "source": []
  },
  {
   "cell_type": "markdown",
   "metadata": {},
   "source": [
    "## Hashing"
   ]
  },
  {
   "cell_type": "code",
   "execution_count": 35,
   "metadata": {},
   "outputs": [
    {
     "name": "stderr",
     "output_type": "stream",
     "text": [
      "C:\\Users\\solej\\AppData\\Local\\Continuum\\anaconda3\\lib\\site-packages\\ipykernel_launcher.py:1: SettingWithCopyWarning: \n",
      "A value is trying to be set on a copy of a slice from a DataFrame.\n",
      "Try using .loc[row_indexer,col_indexer] = value instead\n",
      "\n",
      "See the caveats in the documentation: http://pandas.pydata.org/pandas-docs/stable/user_guide/indexing.html#returning-a-view-versus-a-copy\n",
      "  \"\"\"Entry point for launching an IPython kernel.\n",
      "C:\\Users\\solej\\AppData\\Local\\Continuum\\anaconda3\\lib\\site-packages\\ipykernel_launcher.py:5: SettingWithCopyWarning: \n",
      "A value is trying to be set on a copy of a slice from a DataFrame.\n",
      "Try using .loc[row_indexer,col_indexer] = value instead\n",
      "\n",
      "See the caveats in the documentation: http://pandas.pydata.org/pandas-docs/stable/user_guide/indexing.html#returning-a-view-versus-a-copy\n",
      "  \"\"\"\n",
      "C:\\Users\\solej\\AppData\\Local\\Continuum\\anaconda3\\lib\\site-packages\\ipykernel_launcher.py:8: SettingWithCopyWarning: \n",
      "A value is trying to be set on a copy of a slice from a DataFrame.\n",
      "Try using .loc[row_indexer,col_indexer] = value instead\n",
      "\n",
      "See the caveats in the documentation: http://pandas.pydata.org/pandas-docs/stable/user_guide/indexing.html#returning-a-view-versus-a-copy\n",
      "  \n"
     ]
    }
   ],
   "source": [
    "leads_obj['LkdIn_Web_Name'] = leads_obj['LkdIn_Web_Name'].map(str)\n",
    "    \n",
    "\n",
    "for i in leads_obj.columns:\n",
    "    leads_obj[i] = leads_obj[i].map(str)\n",
    "    le = preprocessing.LabelEncoder()\n",
    "    le.fit(leads_obj[i])\n",
    "    leads_obj[i] = le.transform(leads_obj[i])\n",
    "    "
   ]
  },
  {
   "cell_type": "code",
   "execution_count": 36,
   "metadata": {},
   "outputs": [],
   "source": [
    "X_data = pd.concat([leads_obj,leads_num], axis=1, sort=False)"
   ]
  },
  {
   "cell_type": "code",
   "execution_count": 37,
   "metadata": {},
   "outputs": [
    {
     "data": {
      "text/plain": [
       "array([0, 1, 2], dtype=int64)"
      ]
     },
     "execution_count": 37,
     "metadata": {},
     "output_type": "execute_result"
    }
   ],
   "source": [
    "y.unique()"
   ]
  },
  {
   "cell_type": "code",
   "execution_count": null,
   "metadata": {},
   "outputs": [],
   "source": []
  },
  {
   "cell_type": "code",
   "execution_count": 38,
   "metadata": {},
   "outputs": [],
   "source": [
    "# from sklearn.decomposition import PCA \n",
    "# from sklearn.cluster import DBSCAN \n",
    "# from sklearn.preprocessing import StandardScaler \n",
    "# from sklearn.preprocessing import normalize \n",
    "# from numpy import *\n",
    "\n",
    "# # Scaling the data to bring all the attributes to a comparable level \n",
    "# scaler = StandardScaler() \n",
    "# X_scaled = scaler.fit_transform(X_data) \n",
    "  \n",
    "# # Normalizing the data so that  \n",
    "# # the data approximately follows a Gaussian distribution \n",
    "# X_normalized = normalize(X_scaled) \n",
    "  \n",
    "# # Converting the numpy array into a pandas DataFrame \n",
    "# X_normalized = pd.DataFrame(X_normalized) \n",
    "\n",
    "# pca = PCA(n_components = 2) \n",
    "# X_principal = pca.fit_transform(X_normalized) \n",
    "# X_principal = pd.DataFrame(X_principal) \n",
    "# X_principal.columns = ['P1', 'P2'] \n",
    "# print(X_principal.head()) \n",
    "\n",
    "# # Numpy array of all the cluster labels assigned to each data point \n",
    "# db_default = DBSCAN(eps = 0.035, min_samples = 50).fit(X_principal) \n",
    "# labels = db_default.labels_ \n",
    "\n",
    "# print(\"db_default\", db_default)\n",
    "# print(\"labels\", unique(labels))\n",
    "\n",
    "# # Building the label to colour mapping \n",
    "# colours = {} \n",
    "# colours[0] = 'r'\n",
    "# colours[1] = 'g'\n",
    "# colours[2] = 'b'\n",
    "# colours[-1] = 'k'\n",
    "  \n",
    "# # Building the colour vector for each data point \n",
    "# cvec = [colours[label] for label in labels] \n",
    "  \n",
    "# # For the construction of the legend of the plot \n",
    "# r = plt.scatter(X_principal['P1'], X_principal['P2'], color ='r'); \n",
    "# g = plt.scatter(X_principal['P1'], X_principal['P2'], color ='g'); \n",
    "# b = plt.scatter(X_principal['P1'], X_principal['P2'], color ='b'); \n",
    "# k = plt.scatter(X_principal['P1'], X_principal['P2'], color ='k'); \n",
    "  \n",
    "# # Plotting P1 on the X-Axis and P2 on the Y-Axis  \n",
    "# # according to the colour vector defined \n",
    "# plt.figure(figsize =(9, 9)) \n",
    "# plt.scatter(X_principal['P1'], X_principal['P2'], c = cvec) \n",
    "  \n",
    "# # Building the legend \n",
    "# plt.legend((r, g, b, k), ('Label 0', 'Label 1', 'Label 2', 'Label -1')) \n",
    "  \n",
    "# plt.show() "
   ]
  },
  {
   "cell_type": "code",
   "execution_count": 39,
   "metadata": {},
   "outputs": [],
   "source": [
    "# dbscan_data = pd.DataFrame(labels,columns=[\"DBSCAN\"])\n",
    "# dbscan_data"
   ]
  },
  {
   "cell_type": "code",
   "execution_count": 40,
   "metadata": {},
   "outputs": [],
   "source": [
    "# X_data = pd.concat([X_data,dbscan_data], axis=1, sort=False)\n",
    "# X_data"
   ]
  },
  {
   "cell_type": "code",
   "execution_count": null,
   "metadata": {},
   "outputs": [],
   "source": []
  },
  {
   "cell_type": "code",
   "execution_count": 41,
   "metadata": {},
   "outputs": [
    {
     "data": {
      "text/plain": [
       "(5297,)"
      ]
     },
     "execution_count": 41,
     "metadata": {},
     "output_type": "execute_result"
    }
   ],
   "source": [
    "selected_y_train = np.where(y < 2)[0]\n",
    "selected_y_predict = np.where(y == 2)[0]\n",
    "selected_y_predict.shape"
   ]
  },
  {
   "cell_type": "code",
   "execution_count": 42,
   "metadata": {},
   "outputs": [
    {
     "name": "stdout",
     "output_type": "stream",
     "text": [
      "X_data_predict (5297, 58)\n",
      "X_data_train (36201, 58)\n"
     ]
    }
   ],
   "source": [
    "X_data_predict = X_data.iloc[selected_y_predict]\n",
    "print(\"X_data_predict\",X_data_predict.shape)\n",
    "y = y.iloc[selected_y_train]\n",
    "X_data_train = X_data.iloc[selected_y_train]\n",
    "print(\"X_data_train\", X_data_train.shape)"
   ]
  },
  {
   "cell_type": "code",
   "execution_count": 43,
   "metadata": {},
   "outputs": [
    {
     "name": "stdout",
     "output_type": "stream",
     "text": [
      "(25340, 58)\n",
      "(7276, 58)\n",
      "(3585, 58)\n"
     ]
    }
   ],
   "source": [
    "from sklearn.model_selection import train_test_split\n",
    "\n",
    "X_train, X_test, y_train, y_test = train_test_split(X_data_train, y, test_size=0.3, random_state=42) # 70% training and 30% test\n",
    "\n",
    "X_test, X_val, y_test, y_val = train_test_split(X_test, y_test, test_size=0.33, random_state=42) # 66% test and 33% validation\n",
    "\n",
    "print(X_train.shape)\n",
    "print(X_test.shape)\n",
    "print(X_val.shape)"
   ]
  },
  {
   "cell_type": "code",
   "execution_count": 44,
   "metadata": {},
   "outputs": [],
   "source": [
    "def feature_ranking(scaled_features_df,importances,std):\n",
    "    # Print the feature ranking\n",
    "    print(\"Feature ranking:\")\n",
    "    labels = []\n",
    "    indices = np.argsort(importances)[::-1]\n",
    "\n",
    "    for f in range(scaled_features_df.shape[1]):\n",
    "        print('{num}. Feature {ind} ({imp}) - {name}'\n",
    "              .format(num=f + 1, ind = indices[f], imp = np.round_(importances[indices[f]],5), \n",
    "                      name = scaled_features_df.columns[indices[f]]))\n",
    "        labels.append(scaled_features_df.columns[indices[f]])\n",
    "\n",
    "    # Plot the feature importances of the forest\n",
    "    plt.figure(figsize=(15,8))\n",
    "    ax = plt.gca()\n",
    "    plt.title(\"Feature importances\")\n",
    "    plt.bar(range(scaled_features_df.shape[1]), importances[indices],\n",
    "           color=\"r\", yerr=std[indices], align=\"center\")\n",
    "    plt.xticks(range(X.shape[1]), indices)\n",
    "    plt.xlim([-1, scaled_features_df.shape[1]])\n",
    "    ax.set_xticklabels(labels, rotation=90)\n",
    "    plt.show()\n",
    "\n",
    "def feature_importances_custom(model): \n",
    "    print(\"Using Model:\" , model)\n",
    "    importances = model.feature_importances_\n",
    "    std = np.std([tree.feature_importances_ for tree in model.estimators_],\n",
    "                 axis=0)\n",
    "    feature_ranking(X_train,importances,std)"
   ]
  },
  {
   "cell_type": "markdown",
   "metadata": {},
   "source": [
    "# Scorer"
   ]
  },
  {
   "cell_type": "code",
   "execution_count": 45,
   "metadata": {},
   "outputs": [],
   "source": [
    "from sklearn.metrics import accuracy_score\n",
    "from sklearn.metrics import make_scorer\n",
    "scoring = {'AUC': 'roc_auc','accuracy': make_scorer(accuracy_score)}"
   ]
  },
  {
   "cell_type": "markdown",
   "metadata": {},
   "source": [
    "## Balanced Random Forest"
   ]
  },
  {
   "cell_type": "code",
   "execution_count": 46,
   "metadata": {},
   "outputs": [],
   "source": [
    "# ## Import the random forest model.\n",
    "from sklearn.ensemble import RandomForestClassifier\n",
    "\n",
    "# ## This line instantiates the model. \n",
    "# rf = RandomForestClassifier(n_estimators=2000) \n",
    "\n",
    "# ## Fit the model on your training data.\n",
    "# rf.fit(X_train, y_train)"
   ]
  },
  {
   "cell_type": "code",
   "execution_count": 47,
   "metadata": {},
   "outputs": [
    {
     "name": "stdout",
     "output_type": "stream",
     "text": [
      "Fitting 5 folds for each of 6 candidates, totalling 30 fits\n"
     ]
    },
    {
     "name": "stderr",
     "output_type": "stream",
     "text": [
      "[Parallel(n_jobs=-1)]: Using backend LokyBackend with 12 concurrent workers.\n",
      "[Parallel(n_jobs=-1)]: Done  30 out of  30 | elapsed:  5.2min finished\n"
     ]
    },
    {
     "data": {
      "text/plain": [
       "GridSearchCV(cv=5, estimator=BalancedRandomForestClassifier(), n_jobs=-1,\n",
       "             param_grid={'max_depth': [5, 27, 50],\n",
       "                         'n_estimators': [1000, 2000]},\n",
       "             refit='AUC',\n",
       "             scoring={'AUC': 'roc_auc',\n",
       "                      'accuracy': make_scorer(accuracy_score)},\n",
       "             verbose=1)"
      ]
     },
     "execution_count": 47,
     "metadata": {},
     "output_type": "execute_result"
    }
   ],
   "source": [
    "from sklearn.model_selection import GridSearchCV\n",
    "from sklearn.ensemble import RandomForestClassifier\n",
    "# import imblearn\n",
    "from imblearn.ensemble import BalancedRandomForestClassifier\n",
    "\n",
    "# Create the parameter grid based on the results of random search \n",
    "param_grid = {\n",
    "#     'bootstrap': [True],\n",
    "    'max_depth': [int(x) for x in np.linspace(5, 50, num = 3)],\n",
    "#     'max_features': [2, 3],\n",
    "#     'min_samples_leaf': [3, 4, 5],\n",
    "#     'min_samples_split': [8, 10, 12, 16],\n",
    "    'n_estimators': [1000, 2000]\n",
    "    }\n",
    "# Create a based model\n",
    "rf = BalancedRandomForestClassifier()\n",
    "# Instantiate the grid search model\n",
    "grid_search_brf = GridSearchCV(estimator = rf, param_grid = param_grid, \n",
    "                          cv = 5, n_jobs = -1, verbose = 1, scoring=scoring, refit='AUC')\n",
    "# Fit the grid search to the data\n",
    "grid_search_brf.fit(X_train, y_train)"
   ]
  },
  {
   "cell_type": "code",
   "execution_count": 48,
   "metadata": {},
   "outputs": [
    {
     "data": {
      "text/plain": [
       "BalancedRandomForestClassifier(max_depth=50, n_estimators=2000)"
      ]
     },
     "execution_count": 48,
     "metadata": {},
     "output_type": "execute_result"
    }
   ],
   "source": [
    "grid_search_brf.best_estimator_"
   ]
  },
  {
   "cell_type": "code",
   "execution_count": 156,
   "metadata": {},
   "outputs": [
    {
     "name": "stdout",
     "output_type": "stream",
     "text": [
      "Accuracy train: 0.93516\n",
      "Accuracy test: 0.88414\n",
      "AUC: 0.956787\n",
      "F1 Score: 0.739574\n",
      "\n",
      "Accuracy if all bad leads: 0.82435\n",
      "Accuracy improved: 0.05979\n",
      "\n",
      "\n",
      "Using Model: BalancedRandomForestClassifier(max_depth=50, n_estimators=2000)\n",
      "Feature ranking:\n",
      "1. Feature 17 (0.10396) - Sub Segment\n",
      "2. Feature 16 (0.09415) - Segment\n",
      "3. Feature 27 (0.05337) - HP_and_LnkdIn_Glsdr_Verticals\n",
      "4. Feature 12 (0.04516) - Lead Owner\n",
      "5. Feature 15 (0.04365) - Response Creation Date\n",
      "6. Feature 34 (0.0436) - Activ_Reached Calls\n",
      "7. Feature 7 (0.03872) - Phone\n",
      "8. Feature 29 (0.036) - ResponseId\n",
      "9. Feature 23 (0.03232) - Campaign Name\n",
      "10. Feature 24 (0.03078) - End Date\n",
      "11. Feature 57 (0.02509) - FY Correct\n",
      "12. Feature 6 (0.02492) - Email\n",
      "13. Feature 0 (0.02415) - Company\n",
      "14. Feature 14 (0.02119) - Street\n",
      "15. Feature 11 (0.02067) - Sub Region\n",
      "16. Feature 9 (0.0206) - Country\n",
      "17. Feature 28 (0.02027) - LnkdIn_Glsdr_HP_Standardized\n",
      "18. Feature 1 (0.01943) - LkdIn_Web_Name\n",
      "19. Feature 22 (0.01807) - Created By\n",
      "20. Feature 5 (0.01752) - Title\n",
      "21. Feature 53 (0.01659) - Month\n",
      "22. Feature 36 (0.0161) - Activ Touches\n",
      "23. Feature 19 (0.01549) - Product List\n",
      "24. Feature 20 (0.01436) - Products\n",
      "25. Feature 2 (0.01391) - LkdIn_Headquarters\n",
      "26. Feature 18 (0.01369) - Reseller Account\n",
      "27. Feature 25 (0.01333) - Campaign Type\n",
      "28. Feature 50 (0.01239) - LnkdIn_and_Glsdr_Employees\n",
      "29. Feature 4 (0.01239) - LkdIn_Translation\n",
      "30. Feature 3 (0.01238) - LkdIn_Specialties\n",
      "31. Feature 54 (0.01218) - Year\n",
      "32. Feature 56 (0.00989) - Fiscal_Year\n",
      "33. Feature 48 (0.00973) - Count_account\n",
      "34. Feature 13 (0.00909) - Lead Record Type\n",
      "35. Feature 55 (0.00859) - Quarter\n",
      "36. Feature 26 (0.00852) - Phone_desc\n",
      "37. Feature 46 (0.00797) - Camp_Website / Apps\n",
      "38. Feature 8 (0.00765) - State/Province\n",
      "39. Feature 37 (0.00705) - Camp Touches\n",
      "40. Feature 41 (0.00665) - Camp_Events\n",
      "41. Feature 40 (0.00634) - Camp_Direct Marketing\n",
      "42. Feature 47 (0.00574) - GlsDr_Income\n",
      "43. Feature 33 (0.005) - Activ_Email\n",
      "44. Feature 21 (0.00493) - Prod. Family\n",
      "45. Feature 51 (0.00406) - Phone_or_Email\n",
      "46. Feature 52 (0.00267) - Lnkdin_or_Glsdr\n",
      "47. Feature 32 (0.00208) - Activ_EDM\n",
      "48. Feature 31 (0.00203) - Activ_Attempted Calls\n",
      "49. Feature 49 (0.00178) - 3D_Company?\n",
      "50. Feature 39 (0.00174) - Camp_Digital Marketing\n",
      "51. Feature 45 (0.00079) - Camp_Sales and Partner Enablement\n",
      "52. Feature 43 (0.00073) - Camp_Media\n",
      "53. Feature 35 (0.0004) - Activ_re-opened on additional touch\n",
      "54. Feature 44 (9e-05) - Camp_Media: Paid Print\n",
      "55. Feature 38 (4e-05) - Camp_Content and Production\n",
      "56. Feature 42 (1e-05) - Camp_External Relations\n",
      "57. Feature 30 (1e-05) - Partner Cleansed Account\n",
      "58. Feature 10 (0.0) - Region\n"
     ]
    },
    {
     "data": {
      "image/png": "[encoded data removed]",
      "text/plain": [
       "<Figure size 1080x576 with 1 Axes>"
      ]
     },
     "metadata": {},
     "output_type": "display_data"
    }
   ],
   "source": [
    "### PREDICT\n",
    "y_pred_train_gs = grid_search_brf.predict(X_train)\n",
    "pred_proba_gs = grid_search_brf.predict_proba(X_test)[:, 1]\n",
    "y_pred_gs = grid_search_brf.predict(X_test)\n",
    "best_grid = grid_search_brf.best_estimator_\n",
    "\n",
    "print(\"Accuracy train:\",round(metrics.accuracy_score(y_pred_train_gs, y_train),5))\n",
    "print(\"Accuracy test:\",round(metrics.accuracy_score(y_test, y_pred_gs),5))\n",
    "print(\"AUC: %f\" % metrics.roc_auc_score(y_test, pred_proba_gs))\n",
    "print(\"F1 Score: %f\" % metrics.f1_score(y_test, y_pred_gs))\n",
    "\n",
    "\n",
    "acc_brfCV = metrics.accuracy_score(y_test, y_pred_gs)\n",
    "auc_brfCV = metrics.roc_auc_score(y_test, pred_proba_gs)\n",
    "\n",
    "print(\"\\nAccuracy if all bad leads:\",round(1-y_train.sum()/len(y_train),5))\n",
    "print(\"Accuracy improved:\",round((metrics.accuracy_score(y_test, y_pred_gs)-(1-y_train.sum()/len(y_train))),5))\n",
    "print(\"\\n\")\n",
    "\n",
    "feature_importances_custom(best_grid)"
   ]
  },
  {
   "cell_type": "code",
   "execution_count": 157,
   "metadata": {},
   "outputs": [
    {
     "data": {
      "image/png": "[encoded data removed]",
      "text/plain": [
       "<Figure size 576x432 with 2 Axes>"
      ]
     },
     "metadata": {},
     "output_type": "display_data"
    },
    {
     "name": "stdout",
     "output_type": "stream",
     "text": [
      "[[5236  692]\n",
      " [ 151 1197]]\n",
      "Conditional Positives: 1348\n"
     ]
    },
    {
     "data": {
      "text/plain": [
       "array([[1197,  692],\n",
       "       [ 151, 5236]], dtype=int64)"
      ]
     },
     "execution_count": 157,
     "metadata": {},
     "output_type": "execute_result"
    }
   ],
   "source": [
    "from sklearn.metrics import confusion_matrix\n",
    "plt.figure(figsize=(8,6))\n",
    "cm_brf = confusion_matrix(y_test, y_pred_gs)\n",
    "cm_brf[:,[0, 1]] = cm_brf[:,[1, 0]]\n",
    "cm_brf[[0, 1],:] = cm_brf[[1, 0],:]\n",
    "a = cm_brf[0][1]\n",
    "cm_brf[0][1] = cm_brf[1][0]\n",
    "cm_brf[1][0]= a\n",
    "sns.heatmap(cm_rf.astype('float') / cm_rf.sum(axis=0) [np.newaxis,:], annot=True, cmap=plt.cm.Blues, \n",
    "            xticklabels=[\"Good\",\"Bad\"], yticklabels=[\"Good\",\"Bad\"])\n",
    "plt.title(\"Normalized confusion matrix Balanced RF test set\", fontsize=18)\n",
    "plt.ylabel(\"Predicted label\")\n",
    "plt.xlabel(\"True label\")\n",
    "plt.show()\n",
    "\n",
    "from sklearn.metrics import confusion_matrix\n",
    "print(confusion_matrix(y_test, y_pred_gs))\n",
    "print(\"Conditional Positives:\", y_test.sum())\n",
    "cm_brf"
   ]
  },
  {
   "cell_type": "markdown",
   "metadata": {},
   "source": [
    "## Random Forest with GridSearch and CV"
   ]
  },
  {
   "cell_type": "code",
   "execution_count": 87,
   "metadata": {},
   "outputs": [],
   "source": [
    "from sklearn.model_selection import GridSearchCV\n",
    "from sklearn.ensemble import RandomForestClassifier\n",
    "# import imblearn\n",
    "from imblearn.ensemble import BalancedRandomForestClassifier\n",
    "\n",
    "# Create the parameter grid based on the results of random search \n",
    "param_grid = {\n",
    "#     'bootstrap': [True],\n",
    "    'max_depth': [int(x) for x in np.linspace(5, 50, num = 3)],\n",
    "#     'max_features': [2, 3],\n",
    "#     'min_samples_leaf': [3, 4, 5],\n",
    "#     'min_samples_split': [8, 10, 12, 16],\n",
    "    'n_estimators': [1000, 2000]\n",
    "    }\n",
    "# Create a based model\n",
    "rf = RandomForestClassifier()\n",
    "# rf = BalancedRandomForestClassifier()\n",
    "# Instantiate the grid search model\n",
    "grid_search_rf = GridSearchCV(estimator = rf, param_grid = param_grid, \n",
    "                          cv = 5, n_jobs = -1, verbose = 1, scoring=scoring, refit='AUC')"
   ]
  },
  {
   "cell_type": "code",
   "execution_count": 88,
   "metadata": {
    "scrolled": false
   },
   "outputs": [
    {
     "name": "stdout",
     "output_type": "stream",
     "text": [
      "Fitting 5 folds for each of 6 candidates, totalling 30 fits\n"
     ]
    },
    {
     "name": "stderr",
     "output_type": "stream",
     "text": [
      "[Parallel(n_jobs=-1)]: Using backend LokyBackend with 12 concurrent workers.\n",
      "[Parallel(n_jobs=-1)]: Done  30 out of  30 | elapsed:  7.3min finished\n"
     ]
    },
    {
     "data": {
      "text/plain": [
       "GridSearchCV(cv=5, estimator=RandomForestClassifier(), n_jobs=-1,\n",
       "             param_grid={'max_depth': [5, 27, 50],\n",
       "                         'n_estimators': [1000, 2000]},\n",
       "             refit='AUC',\n",
       "             scoring={'AUC': 'roc_auc',\n",
       "                      'accuracy': make_scorer(accuracy_score)},\n",
       "             verbose=1)"
      ]
     },
     "execution_count": 88,
     "metadata": {},
     "output_type": "execute_result"
    }
   ],
   "source": [
    "# Fit the grid search to the data\n",
    "grid_search_rf.fit(X_train, y_train)"
   ]
  },
  {
   "cell_type": "code",
   "execution_count": 89,
   "metadata": {},
   "outputs": [
    {
     "data": {
      "text/plain": [
       "RandomForestClassifier(max_depth=50, n_estimators=2000)"
      ]
     },
     "execution_count": 89,
     "metadata": {},
     "output_type": "execute_result"
    }
   ],
   "source": [
    "grid_search_rf.best_estimator_"
   ]
  },
  {
   "cell_type": "code",
   "execution_count": 160,
   "metadata": {},
   "outputs": [
    {
     "name": "stdout",
     "output_type": "stream",
     "text": [
      "Accuracy train: 1.0\n",
      "Accuracy test: 0.92207\n",
      "AUC: 0.961829\n",
      "F1 Score: 0.759236\n",
      "\n",
      "Accuracy if all bad leads: 0.82435\n",
      "Accuracy improved: 0.09772\n",
      "\n",
      "\n",
      "Using Model: RandomForestClassifier(max_depth=50, n_estimators=2000)\n",
      "Feature ranking:\n",
      "1. Feature 17 (0.10581) - Sub Segment\n",
      "2. Feature 16 (0.10197) - Segment\n",
      "3. Feature 27 (0.05834) - HP_and_LnkdIn_Glsdr_Verticals\n",
      "4. Feature 29 (0.04464) - ResponseId\n",
      "5. Feature 34 (0.04364) - Activ_Reached Calls\n",
      "6. Feature 7 (0.04314) - Phone\n",
      "7. Feature 15 (0.04177) - Response Creation Date\n",
      "8. Feature 12 (0.03607) - Lead Owner\n",
      "9. Feature 23 (0.02996) - Campaign Name\n",
      "10. Feature 24 (0.02747) - End Date\n",
      "11. Feature 6 (0.02628) - Email\n",
      "12. Feature 0 (0.02529) - Company\n",
      "13. Feature 57 (0.02166) - FY Correct\n",
      "14. Feature 14 (0.02115) - Street\n",
      "15. Feature 1 (0.02033) - LkdIn_Web_Name\n",
      "16. Feature 9 (0.01873) - Country\n",
      "17. Feature 11 (0.01857) - Sub Region\n",
      "18. Feature 53 (0.01728) - Month\n",
      "19. Feature 5 (0.01703) - Title\n",
      "20. Feature 22 (0.01671) - Created By\n",
      "21. Feature 28 (0.01666) - LnkdIn_Glsdr_HP_Standardized\n",
      "22. Feature 36 (0.01583) - Activ Touches\n",
      "23. Feature 19 (0.0147) - Product List\n",
      "24. Feature 2 (0.01452) - LkdIn_Headquarters\n",
      "25. Feature 20 (0.01405) - Products\n",
      "26. Feature 3 (0.0137) - LkdIn_Specialties\n",
      "27. Feature 4 (0.01366) - LkdIn_Translation\n",
      "28. Feature 18 (0.01334) - Reseller Account\n",
      "29. Feature 50 (0.01312) - LnkdIn_and_Glsdr_Employees\n",
      "30. Feature 25 (0.01275) - Campaign Type\n",
      "31. Feature 13 (0.01206) - Lead Record Type\n",
      "32. Feature 54 (0.00995) - Year\n",
      "33. Feature 46 (0.00906) - Camp_Website / Apps\n",
      "34. Feature 48 (0.00864) - Count_account\n",
      "35. Feature 55 (0.0086) - Quarter\n",
      "36. Feature 56 (0.00833) - Fiscal_Year\n",
      "37. Feature 26 (0.00808) - Phone_desc\n",
      "38. Feature 8 (0.008) - State/Province\n",
      "39. Feature 37 (0.00722) - Camp Touches\n",
      "40. Feature 47 (0.00594) - GlsDr_Income\n",
      "41. Feature 33 (0.00576) - Activ_Email\n",
      "42. Feature 40 (0.00509) - Camp_Direct Marketing\n",
      "43. Feature 21 (0.00507) - Prod. Family\n",
      "44. Feature 41 (0.00488) - Camp_Events\n",
      "45. Feature 52 (0.0032) - Lnkdin_or_Glsdr\n",
      "46. Feature 51 (0.0026) - Phone_or_Email\n",
      "47. Feature 31 (0.00218) - Activ_Attempted Calls\n",
      "48. Feature 49 (0.00177) - 3D_Company?\n",
      "49. Feature 32 (0.00154) - Activ_EDM\n",
      "50. Feature 39 (0.00153) - Camp_Digital Marketing\n",
      "51. Feature 43 (0.00092) - Camp_Media\n",
      "52. Feature 45 (0.00079) - Camp_Sales and Partner Enablement\n",
      "53. Feature 35 (0.0005) - Activ_re-opened on additional touch\n",
      "54. Feature 42 (6e-05) - Camp_External Relations\n",
      "55. Feature 44 (4e-05) - Camp_Media: Paid Print\n",
      "56. Feature 38 (2e-05) - Camp_Content and Production\n",
      "57. Feature 30 (1e-05) - Partner Cleansed Account\n",
      "58. Feature 10 (0.0) - Region\n"
     ]
    },
    {
     "data": {
      "image/png": "[encoded data removed]",
      "text/plain": [
       "<Figure size 1080x576 with 1 Axes>"
      ]
     },
     "metadata": {},
     "output_type": "display_data"
    }
   ],
   "source": [
    "### PREDICT\n",
    "y_pred_train_gs = grid_search_rf.predict(X_train)\n",
    "pred_proba_gs = grid_search_rf.predict_proba(X_test)[:, 1]\n",
    "y_pred_gs = grid_search_rf.predict(X_test)\n",
    "best_grid = grid_search_rf.best_estimator_\n",
    "\n",
    "print(\"Accuracy train:\",round(metrics.accuracy_score(y_pred_train_gs, y_train),5))\n",
    "print(\"Accuracy test:\",round(metrics.accuracy_score(y_test, y_pred_gs),5))\n",
    "print(\"AUC: %f\" % metrics.roc_auc_score(y_test, pred_proba_gs))\n",
    "print(\"F1 Score: %f\" % metrics.f1_score(y_test, y_pred_gs))\n",
    "\n",
    "\n",
    "acc_rfCV = metrics.accuracy_score(y_test, y_pred_gs)\n",
    "auc_rfCV = metrics.roc_auc_score(y_test, pred_proba_gs)\n",
    "\n",
    "print(\"\\nAccuracy if all bad leads:\",round(1-y_train.sum()/len(y_train),5))\n",
    "print(\"Accuracy improved:\",round((metrics.accuracy_score(y_test, y_pred_gs)-(1-y_train.sum()/len(y_train))),5))\n",
    "print(\"\\n\")\n",
    "\n",
    "feature_importances_custom(best_grid)"
   ]
  },
  {
   "cell_type": "code",
   "execution_count": 161,
   "metadata": {},
   "outputs": [
    {
     "data": {
      "image/png": "[encoded data removed]",
      "text/plain": [
       "<Figure size 576x432 with 2 Axes>"
      ]
     },
     "metadata": {},
     "output_type": "display_data"
    },
    {
     "name": "stdout",
     "output_type": "stream",
     "text": [
      "[[5815  113]\n",
      " [ 454  894]]\n",
      "Conditional Positives: 1348\n"
     ]
    },
    {
     "data": {
      "text/plain": [
       "array([[ 894,  113],\n",
       "       [ 454, 5815]], dtype=int64)"
      ]
     },
     "execution_count": 161,
     "metadata": {},
     "output_type": "execute_result"
    }
   ],
   "source": [
    "from sklearn.metrics import confusion_matrix\n",
    "plt.figure(figsize=(8,6))\n",
    "cm_rf = confusion_matrix(y_test, y_pred_gs)\n",
    "cm_rf[:,[0, 1]] = cm_rf[:,[1, 0]]\n",
    "cm_rf[[0, 1],:] = cm_rf[[1, 0],:]\n",
    "a = cm_rf[0][1]\n",
    "cm_rf[0][1] = cm_rf[1][0]\n",
    "cm_rf[1][0]= a\n",
    "sns.heatmap(cm_rf.astype('float') / cm_rf.sum(axis=0) [np.newaxis,:], annot=True, cmap=plt.cm.Blues, \n",
    "            xticklabels=[\"Good\",\"Bad\"], yticklabels=[\"Good\",\"Bad\"])\n",
    "plt.title(\"Normalized confusion matrix RF test set\", fontsize=18)\n",
    "plt.ylabel(\"Predicted label\")\n",
    "plt.xlabel(\"True label\")\n",
    "plt.show()\n",
    "\n",
    "from sklearn.metrics import confusion_matrix\n",
    "print(confusion_matrix(y_test, y_pred_gs))\n",
    "print(\"Conditional Positives:\", y_test.sum())\n",
    "cm_rf"
   ]
  },
  {
   "cell_type": "markdown",
   "metadata": {},
   "source": [
    "## XGBoost without CrossValidation"
   ]
  },
  {
   "cell_type": "code",
   "execution_count": 92,
   "metadata": {},
   "outputs": [],
   "source": [
    "# FOR EXPLAINABILITY\n",
    "X_train_matrix = X_train.values\n",
    "y_train_matrix = y_train.values\n",
    "X_test_matrix  = X_test.values\n",
    "y_test_matrix  = y_test.values"
   ]
  },
  {
   "cell_type": "code",
   "execution_count": 93,
   "metadata": {},
   "outputs": [
    {
     "data": {
      "text/plain": [
       "4.6931026735565045"
      ]
     },
     "execution_count": 93,
     "metadata": {},
     "output_type": "execute_result"
    }
   ],
   "source": [
    "(len(y_train)-sum(y_train))/sum(y_train)"
   ]
  },
  {
   "cell_type": "code",
   "execution_count": 94,
   "metadata": {
    "scrolled": false
   },
   "outputs": [],
   "source": [
    "# from xgboost import XGBClassifier\n",
    "# import xgboost as xgb\n",
    "\n",
    "# xgboost = XGBClassifier(scale_pos_weight=4) \n",
    "\n",
    "# 'Start Training'\n",
    "# xgboost.fit(X_train_matrix, y_train_matrix, eval_metric='logloss')\n",
    "\n",
    "# 'Start Predicting'\n",
    "# predictions = xgboost.predict(X_test_matrix)\n",
    "# pred_proba = xgboost.predict_proba(X_test_matrix)[:, 1]\n",
    "\n",
    "# acc_xgb = metrics.accuracy_score(y_test, predictions)\n",
    "# auc_xgb = metrics.roc_auc_score(y_test, pred_proba)\n",
    "\n",
    "# print(\"Accuracy : %.5g\" % metrics.accuracy_score(y_test, predictions))\n",
    "# print(\"AUC: %f\" % metrics.roc_auc_score(y_test, pred_proba))\n",
    "# print(\"F1 Score: %f\" % metrics.f1_score(y_test, predictions))\n",
    "\n",
    "# feat_imp = xgboost.feature_importances_\n",
    "# feat = X_train.columns.tolist()\n",
    "# # clf.best_estimator_.booster().get_fscore()\n",
    "# res_df = pd.DataFrame({'Features': feat, 'Importance': feat_imp}).sort_values(by='Importance', ascending=False)\n",
    "# res_df.plot('Features', 'Importance', kind='bar', title='Feature Importances',figsize=(10,5))\n",
    "# plt.ylabel('Feature Importance Score')\n",
    "# plt.show()\n",
    "# print(res_df)\n",
    "# print(res_df[\"Features\"].tolist())\n"
   ]
  },
  {
   "cell_type": "code",
   "execution_count": 95,
   "metadata": {},
   "outputs": [],
   "source": [
    "# plt.figure(figsize=(8,6))\n",
    "\n",
    "# cm = confusion_matrix(y_test, predictions)\n",
    "# sns.heatmap(cm.astype('float') / cm.sum(axis=1)[:, np.newaxis], annot=True, cmap=plt.cm.Blues, \n",
    "#             xticklabels=[\"Bad\",\"Good\"], yticklabels=[\"Bad\",\"Good\"])\n",
    "# plt.title(\"Normalized confusion matrix XGBoost\", fontsize=18)\n",
    "# plt.show()"
   ]
  },
  {
   "cell_type": "markdown",
   "metadata": {},
   "source": [
    "## XGBoost with GridSearch and CV"
   ]
  },
  {
   "cell_type": "code",
   "execution_count": 96,
   "metadata": {
    "scrolled": false
   },
   "outputs": [
    {
     "name": "stdout",
     "output_type": "stream",
     "text": [
      "Fitting 5 folds for each of 12 candidates, totalling 60 fits\n"
     ]
    },
    {
     "name": "stderr",
     "output_type": "stream",
     "text": [
      "[Parallel(n_jobs=10)]: Using backend LokyBackend with 10 concurrent workers.\n",
      "C:\\Users\\solej\\AppData\\Local\\Continuum\\anaconda3\\lib\\site-packages\\joblib\\externals\\loky\\process_executor.py:706: UserWarning: A worker stopped while some jobs were given to the executor. This can be caused by a too short worker timeout or by a memory leak.\n",
      "  \"timeout or by a memory leak.\", UserWarning\n",
      "[Parallel(n_jobs=10)]: Done  30 tasks      | elapsed:  4.6min\n",
      "[Parallel(n_jobs=10)]: Done  60 out of  60 | elapsed: 10.1min finished\n"
     ]
    },
    {
     "data": {
      "text/plain": [
       "GridSearchCV(cv=5, estimator=XGBClassifier(), n_jobs=10,\n",
       "             param_grid={'learning_rate': [0.05, 0.1, 0.2],\n",
       "                         'n_estimators': [1000, 2000],\n",
       "                         'objective': ['binary:logistic'],\n",
       "                         'scale_pos_weight': [2, 5]},\n",
       "             refit='AUC',\n",
       "             scoring={'AUC': 'roc_auc',\n",
       "                      'accuracy': make_scorer(accuracy_score)},\n",
       "             verbose=True)"
      ]
     },
     "execution_count": 96,
     "metadata": {},
     "output_type": "execute_result"
    }
   ],
   "source": [
    "# A parameter grid for XGBoost\n",
    "xgb_param = {  \n",
    "        'objective':['binary:logistic'],\n",
    "        'learning_rate': [0.05, 0.1, 0.2],\n",
    "#         'max_depth': [5, 10],\n",
    "#         'min_child_weight': [1, 5, 10],\n",
    "#         'subsample': [0.6, 0.8, 1.0],\n",
    "        'n_estimators': [1000, 2000],\n",
    "        'scale_pos_weight':[2,5]\n",
    "        }\n",
    "\n",
    "xgb_grid_xgb = GridSearchCV(XGBClassifier(), xgb_param, cv=5,\n",
    "                    n_jobs = 10, scoring=scoring, refit='AUC', verbose=True)\n",
    "xgb_grid_xgb.fit(X_train_matrix, y_train_matrix)\n"
   ]
  },
  {
   "cell_type": "code",
   "execution_count": 97,
   "metadata": {},
   "outputs": [
    {
     "data": {
      "text/plain": [
       "XGBClassifier(learning_rate=0.2, n_estimators=2000, scale_pos_weight=5)"
      ]
     },
     "execution_count": 97,
     "metadata": {},
     "output_type": "execute_result"
    }
   ],
   "source": [
    "xgb_grid_xgb.best_estimator_"
   ]
  },
  {
   "cell_type": "code",
   "execution_count": 98,
   "metadata": {},
   "outputs": [
    {
     "name": "stdout",
     "output_type": "stream",
     "text": [
      "Accuracy : 0.93664\n",
      "AUC: 0.970280\n",
      "F1 Score: 0.831567\n",
      "\n",
      "Accuracy if all bad leads: 0.82435\n",
      "Accuracy improved: 0.11229\n",
      "\n",
      "\n"
     ]
    }
   ],
   "source": [
    "\"Start Predicting\"\n",
    "predictions_CV = xgb_grid_xgb.predict(X_test_matrix)\n",
    "pred_proba_CV = xgb_grid_xgb.predict_proba(X_test_matrix)[:, 1]\n",
    "\n",
    "acc_xgbCV = metrics.accuracy_score(y_test, predictions_CV)\n",
    "auc_xgbCV = metrics.roc_auc_score(y_test, pred_proba_CV)\n",
    "\n",
    "print(\"Accuracy : %.5g\" % metrics.accuracy_score(y_test, predictions_CV))\n",
    "print(\"AUC: %f\" % metrics.roc_auc_score(y_test, pred_proba_CV))\n",
    "print(\"F1 Score: %f\" % metrics.f1_score(y_test, predictions_CV))\n",
    "\n",
    "print(\"\\nAccuracy if all bad leads:\",round(1-y_train.sum()/len(y_train),5))\n",
    "print(\"Accuracy improved:\",round((metrics.accuracy_score(y_test, predictions_CV)-(1-y_train.sum()/len(y_train))),5))\n",
    "print(\"\\n\")"
   ]
  },
  {
   "cell_type": "code",
   "execution_count": 123,
   "metadata": {
    "scrolled": false
   },
   "outputs": [
    {
     "name": "stdout",
     "output_type": "stream",
     "text": [
      "Accuracy train: 0.99507\n",
      "Accuracy test: 0.93664\n"
     ]
    },
    {
     "data": {
      "image/png": "[encoded data removed]",
      "text/plain": [
       "<Figure size 720x360 with 1 Axes>"
      ]
     },
     "metadata": {},
     "output_type": "display_data"
    },
    {
     "name": "stdout",
     "output_type": "stream",
     "text": [
      "                               Features  Importance\n",
      "17                          Sub Segment    0.115888\n",
      "46                  Camp_Website / Apps    0.111465\n",
      "16                              Segment    0.098066\n",
      "34                  Activ_Reached Calls    0.095377\n",
      "51                       Phone_or_Email    0.062532\n",
      "41                          Camp_Events    0.046957\n",
      "13                     Lead Record Type    0.043354\n",
      "12                           Lead Owner    0.025422\n",
      "40                Camp_Direct Marketing    0.023487\n",
      "9                               Country    0.021357\n",
      "20                             Products    0.019034\n",
      "24                             End Date    0.015714\n",
      "19                         Product List    0.015618\n",
      "32                            Activ_EDM    0.015567\n",
      "22                           Created By    0.015358\n",
      "45    Camp_Sales and Partner Enablement    0.014865\n",
      "11                           Sub Region    0.014309\n",
      "15               Response Creation Date    0.014252\n",
      "26                           Phone_desc    0.013804\n",
      "33                          Activ_Email    0.012567\n",
      "18                     Reseller Account    0.011920\n",
      "7                                 Phone    0.011198\n",
      "21                         Prod. Family    0.011176\n",
      "25                        Campaign Type    0.011101\n",
      "37                         Camp Touches    0.010296\n",
      "28         LnkdIn_Glsdr_HP_Standardized    0.009740\n",
      "23                        Campaign Name    0.009193\n",
      "29                           ResponseId    0.009116\n",
      "47                         GlsDr_Income    0.008207\n",
      "55                              Quarter    0.007616\n",
      "53                                Month    0.007551\n",
      "39               Camp_Digital Marketing    0.007250\n",
      "43                           Camp_Media    0.007103\n",
      "48                        Count_account    0.006966\n",
      "36                        Activ Touches    0.006731\n",
      "35  Activ_re-opened on additional touch    0.006296\n",
      "27        HP_and_LnkdIn_Glsdr_Verticals    0.006087\n",
      "14                               Street    0.005803\n",
      "5                                 Title    0.004939\n",
      "6                                 Email    0.004742\n",
      "2                    LkdIn_Headquarters    0.004154\n",
      "50           LnkdIn_and_Glsdr_Employees    0.004035\n",
      "3                     LkdIn_Specialties    0.004011\n",
      "1                        LkdIn_Web_Name    0.003989\n",
      "4                     LkdIn_Translation    0.003978\n",
      "8                        State/Province    0.003971\n",
      "44               Camp_Media: Paid Print    0.003926\n",
      "0                               Company    0.003832\n",
      "31                Activ_Attempted Calls    0.003803\n",
      "49                          3D_Company?    0.002304\n",
      "42              Camp_External Relations    0.001697\n",
      "52                      Lnkdin_or_Glsdr    0.001328\n",
      "38          Camp_Content and Production    0.000947\n",
      "30             Partner Cleansed Account    0.000000\n",
      "54                                 Year    0.000000\n",
      "10                               Region    0.000000\n",
      "56                          Fiscal_Year    0.000000\n",
      "57                           FY Correct    0.000000\n",
      "['Sub Segment', 'Camp_Website / Apps', 'Segment', 'Activ_Reached Calls', 'Phone_or_Email', 'Camp_Events', 'Lead Record Type', 'Lead Owner', 'Camp_Direct Marketing', 'Country', 'Products', 'End Date', 'Product List', 'Activ_EDM', 'Created By', 'Camp_Sales and Partner Enablement', 'Sub Region', 'Response Creation Date', 'Phone_desc', 'Activ_Email', 'Reseller Account', 'Phone', 'Prod. Family', 'Campaign Type', 'Camp Touches', 'LnkdIn_Glsdr_HP_Standardized', 'Campaign Name', 'ResponseId', 'GlsDr_Income', 'Quarter', 'Month', 'Camp_Digital Marketing', 'Camp_Media', 'Count_account', 'Activ Touches', 'Activ_re-opened on additional touch', 'HP_and_LnkdIn_Glsdr_Verticals', 'Street', 'Title', 'Email', 'LkdIn_Headquarters', 'LnkdIn_and_Glsdr_Employees', 'LkdIn_Specialties', 'LkdIn_Web_Name', 'LkdIn_Translation', 'State/Province', 'Camp_Media: Paid Print', 'Company', 'Activ_Attempted Calls', '3D_Company?', 'Camp_External Relations', 'Lnkdin_or_Glsdr', 'Camp_Content and Production', 'Partner Cleansed Account', 'Year', 'Region', 'Fiscal_Year', 'FY Correct']\n"
     ]
    }
   ],
   "source": [
    "### PREDICT\n",
    "predictions_CV_train = xgb_grid_xgb.predict(X_train_matrix)\n",
    "best_grid = xgb_grid_xgb.best_estimator_\n",
    "\n",
    "print(\"Accuracy train:\",round(metrics.accuracy_score(predictions_CV_train, y_train),5))\n",
    "print(\"Accuracy test:\",round(metrics.accuracy_score(y_test, predictions_CV),5))\n",
    "\n",
    "\n",
    "### FEATURE IMPORTANCE\n",
    "feat_imp = best_grid.feature_importances_\n",
    "feat = X_train.columns.tolist()\n",
    "res_df = pd.DataFrame({'Features': feat, 'Importance': feat_imp}).sort_values(by='Importance', ascending=False)\n",
    "res_df.plot('Features', 'Importance', kind='bar', title='Feature Importances',figsize=(10,5))\n",
    "plt.ylabel('Feature Importance Score')\n",
    "plt.show()\n",
    "print(res_df)\n",
    "print(res_df[\"Features\"].tolist())\n"
   ]
  },
  {
   "cell_type": "code",
   "execution_count": 162,
   "metadata": {},
   "outputs": [
    {
     "data": {
      "image/png": "[encoded data removed]",
      "text/plain": [
       "<Figure size 576x432 with 2 Axes>"
      ]
     },
     "metadata": {},
     "output_type": "display_data"
    },
    {
     "name": "stdout",
     "output_type": "stream",
     "text": [
      "[[5677  251]\n",
      " [ 210 1138]]\n",
      "Conditional Positives: 1348\n"
     ]
    },
    {
     "data": {
      "text/plain": [
       "array([[1138,  251],\n",
       "       [ 210, 5677]], dtype=int64)"
      ]
     },
     "execution_count": 162,
     "metadata": {},
     "output_type": "execute_result"
    }
   ],
   "source": [
    "plt.figure(figsize=(8,6))\n",
    "\n",
    "cm_xgb = confusion_matrix(y_test, predictions_CV)\n",
    "cm_xgb[:,[0, 1]] = cm_xgb[:,[1, 0]]\n",
    "cm_xgb[[0, 1],:] = cm_xgb[[1, 0],:]\n",
    "a = cm_xgb[0][1]\n",
    "cm_xgb[0][1] = cm_xgb[1][0]\n",
    "cm_xgb[1][0]= a\n",
    "sns.heatmap(cm_xgb.astype('float') / cm_xgb.sum(axis=0) [np.newaxis,:], annot=True, cmap=plt.cm.Blues, \n",
    "            xticklabels=[\"Good\",\"Bad\"], yticklabels=[\"Good\",\"Bad\"])\n",
    "plt.title(\"Normalized confusion matrix XGBoost test set\", fontsize=18)\n",
    "plt.ylabel(\"Predicted label\")\n",
    "plt.xlabel(\"True label\")\n",
    "plt.show()\n",
    "\n",
    "from sklearn.metrics import confusion_matrix\n",
    "print(confusion_matrix(y_test, predictions_CV))\n",
    "print(\"Conditional Positives:\", y_test.sum())\n",
    "\n",
    "cm_xgb"
   ]
  },
  {
   "cell_type": "code",
   "execution_count": 101,
   "metadata": {},
   "outputs": [],
   "source": [
    "# calculate the FPR and TPR for all thresholds of the classification\n",
    "probs = xgb_grid_xgb.predict_proba(X_test_matrix)\n",
    "probs_rf = grid_search_rf.predict_proba(X_test_matrix)\n",
    "probs_brf = grid_search_brf.predict_proba(X_test_matrix)\n",
    "\n",
    "preds = probs[:,1]\n",
    "preds_rf = probs_rf[:,1]\n",
    "preds_brf = probs_brf[:,1]\n",
    "\n",
    "fpr, tpr, threshold = metrics.roc_curve(y_test, preds)\n",
    "roc_auc = metrics.auc(fpr, tpr)\n",
    "fpr_rf, tpr_rf, threshold_rf = metrics.roc_curve(y_test, preds_rf)\n",
    "roc_auc_rf = metrics.auc(fpr_rf, tpr_rf)\n",
    "fpr_brf, tpr_brf, threshold_brf = metrics.roc_curve(y_test, preds_brf)\n",
    "roc_auc_brf = metrics.auc(fpr_brf, tpr_brf)"
   ]
  },
  {
   "cell_type": "code",
   "execution_count": 102,
   "metadata": {},
   "outputs": [
    {
     "data": {
      "image/png": "[encoded data removed]",
      "text/plain": [
       "<Figure size 720x432 with 1 Axes>"
      ]
     },
     "metadata": {},
     "output_type": "display_data"
    }
   ],
   "source": [
    "plt.figure(figsize=(10,6))\n",
    "\n",
    "plt.title('Receiver Operating Characteristic',  fontsize=25)\n",
    "plt.plot(fpr, tpr, 'darkblue', label = 'ROC AUC XGB score = %0.3f' % roc_auc)\n",
    "plt.plot(fpr_rf, tpr_rf, 'darkgreen', label = 'ROC AUC RF score = %0.3f' % roc_auc_rf)\n",
    "plt.plot(fpr_brf, tpr_brf, 'darkorange', label = 'ROC AUC BRF score = %0.3f' % roc_auc_brf)\n",
    "\n",
    "plt.legend(loc = 'lower right')\n",
    "plt.plot([0, 1], [0, 1],'k--', 'r')\n",
    "plt.xlim([-0.02, 1])\n",
    "plt.ylim([0, 1.02])\n",
    "plt.ylabel('True Positive Rate',  fontsize=15)\n",
    "plt.xlabel('False Positive Rate',  fontsize=15)\n",
    "plt.show()"
   ]
  },
  {
   "cell_type": "markdown",
   "metadata": {},
   "source": [
    "## Comparison"
   ]
  },
  {
   "cell_type": "code",
   "execution_count": 103,
   "metadata": {},
   "outputs": [],
   "source": [
    "# import numpy as np\n",
    "# import matplotlib.pyplot as plt\n",
    " \n",
    "# plt.figure(figsize=(10,6))\n",
    "# height = [acc_rf, acc_rfCV, acc_xgb, acc_xgbCV]\n",
    "# bars = ('RF', 'RF with CV', 'XGB', 'XGB with CV')\n",
    "# y_pos = np.arange(len(bars))\n",
    " \n",
    "# # Create bars\n",
    "# plt.bar(y_pos, height, color=['green', 'darkgreen', 'blue', 'darkblue'])\n",
    " \n",
    "# # Create names on the x-axis\n",
    "# plt.xticks(y_pos, bars)\n",
    "# plt.ylim([min(height)*0.99,max(height)*1.01])\n",
    "# barplt = plt.hlines(max(height), xmin=-0.5, xmax=3.5, linestyles='dashed' , color=\"c\", label=round(max(height),5))\n",
    "\n",
    "# # Show graphic\n",
    "# plt.legend(handles=[barplt], fontsize=14)\n",
    "# plt.title(\"Accuarcy\", fontsize=25)\n",
    "# plt.show()\n"
   ]
  },
  {
   "cell_type": "code",
   "execution_count": 104,
   "metadata": {},
   "outputs": [
    {
     "data": {
      "image/png": "[encoded data removed]",
      "text/plain": [
       "<Figure size 720x432 with 1 Axes>"
      ]
     },
     "metadata": {},
     "output_type": "display_data"
    }
   ],
   "source": [
    "import numpy as np\n",
    "import matplotlib.pyplot as plt\n",
    " \n",
    "plt.figure(figsize=(10,6))\n",
    "height = [acc_brfCV, acc_rfCV, acc_xgbCV]\n",
    "bars = ('BRF with CV', 'RF with CV', 'XGB with CV')\n",
    "y_pos = np.arange(len(bars))\n",
    " \n",
    "# Create bars\n",
    "plt.bar(y_pos, height, color=['darkorange', 'darkgreen', 'darkblue'])\n",
    " \n",
    "# Create names on the x-axis\n",
    "plt.xticks(y_pos, bars)\n",
    "plt.ylim([min(height)*0.99,max(height)*1.01])\n",
    "barplt = plt.hlines(max(height), xmin=-0.45, xmax=2.45 , linestyles='dashed' , color=\"k\", label=round(max(height),5))\n",
    "\n",
    "# Show graphic\n",
    "plt.legend(handles=[barplt], fontsize=14)\n",
    "plt.title(\"Accuarcy\", fontsize=25)\n",
    "plt.show()\n"
   ]
  },
  {
   "cell_type": "code",
   "execution_count": 105,
   "metadata": {},
   "outputs": [],
   "source": [
    "# # import numpy as np\n",
    "# import matplotlib.pyplot as plt\n",
    " \n",
    "# plt.figure(figsize=(10,6))\n",
    "# height = [auc_rf, auc_rfCV, auc_xgb, auc_xgbCV]\n",
    "# bars = ('RF', 'RF with CV', 'XGB', 'XGB with CV')\n",
    "# y_pos = np.arange(len(bars))\n",
    " \n",
    "# # Create bars\n",
    "# plt.bar(y_pos, height, color=['green', 'darkgreen', 'blue', 'darkblue'])\n",
    " \n",
    "# # Create names on the x-axis\n",
    "# plt.xticks(y_pos, bars)\n",
    "# plt.ylim([min(height)*0.99,max(height)*1.01])\n",
    "# barplt = plt.hlines(max(height), xmin=-0.5, xmax=3.5, linestyles='dashed' , color=\"c\", label=round(max(height),5))\n",
    "\n",
    "# # Show graphic\n",
    "# plt.legend(handles=[barplt], fontsize=14)\n",
    "# plt.title(\"AUC\", fontsize=25)\n",
    "# plt.show()\n"
   ]
  },
  {
   "cell_type": "code",
   "execution_count": 106,
   "metadata": {},
   "outputs": [
    {
     "data": {
      "image/png": "[encoded data removed]",
      "text/plain": [
       "<Figure size 720x432 with 1 Axes>"
      ]
     },
     "metadata": {},
     "output_type": "display_data"
    }
   ],
   "source": [
    "import numpy as np\n",
    "import matplotlib.pyplot as plt\n",
    " \n",
    "plt.figure(figsize=(10,6))\n",
    "height = [auc_brfCV, auc_rfCV, auc_xgbCV]\n",
    "bars = ('BRF with CV', 'RF with CV', 'XGB with CV')\n",
    "y_pos = np.arange(len(bars))\n",
    " \n",
    "# Create bars\n",
    "plt.bar(y_pos, height, color=['darkorange', 'darkgreen', 'darkblue'])\n",
    " \n",
    "# Create names on the x-axis\n",
    "plt.xticks(y_pos, bars)\n",
    "plt.ylim([min(height)*0.99,max(height)*1.01])\n",
    "barplt = plt.hlines(max(height), xmin=-0.45, xmax=2.45, linestyles='dashed' , color=\"k\", label=round(max(height),5))\n",
    "\n",
    "# Show graphic\n",
    "plt.legend(handles=[barplt], fontsize=14)\n",
    "plt.title(\"AUC\", fontsize=25)\n",
    "plt.show()\n"
   ]
  },
  {
   "cell_type": "markdown",
   "metadata": {},
   "source": [
    "##### Confusion matrix"
   ]
  },
  {
   "cell_type": "code",
   "execution_count": null,
   "metadata": {},
   "outputs": [],
   "source": [
    "def plot_confusion_matrix(cm, classes,\n",
    "                          normalize=False,\n",
    "                          title='Confusion matrix',\n",
    "                          cmap=plt.cm.Blues):\n",
    "    \"\"\"\n",
    "    This function prints and plots the confusion matrix.\n",
    "    Normalization can be applied by setting `normalize=True`.\n",
    "    \"\"\"\n",
    "    plt.imshow(cm, interpolation='nearest', cmap=cmap)\n",
    "    plt.title(title)\n",
    "    plt.colorbar()\n",
    "    tick_marks = np.arange(len(classes))\n",
    "    plt.xticks(tick_marks, classes, rotation=45)\n",
    "    plt.ytick\n",
    "    s(tick_marks, classes)\n",
    "\n",
    "    if normalize:\n",
    "        cm = cm.astype('float') / cm.sum(axis=1)[:, np.newaxis]\n",
    "        print(\"Normalized confusion matrix\")\n",
    "    else:\n",
    "        print('Confusion matrix, without normalization')\n",
    "\n",
    "    print(cm)\n",
    "\n",
    "    thresh = cm.max() / 2.\n",
    "    for i, j in itertools.product(range(cm.shape[0]), range(cm.shape[1])):\n",
    "        plt.text(j, i, format(cm[i, j], '.2f'),\n",
    "                 horizontalalignment=\"center\",\n",
    "                 color=\"white\" if cm[i, j] > thresh else \"black\")\n",
    "\n",
    "    plt.tight_layout()\n",
    "    plt.ylabel('True label')\n",
    "    plt.xlabel('Predicted label')\n",
    "\n"
   ]
  },
  {
   "cell_type": "markdown",
   "metadata": {},
   "source": [
    "# Fit Train and Test and predict over Validation"
   ]
  },
  {
   "cell_type": "code",
   "execution_count": 107,
   "metadata": {},
   "outputs": [
    {
     "name": "stdout",
     "output_type": "stream",
     "text": [
      "Size of Train set (25340, 58)\n",
      "Size of Test set (7276, 58)\n",
      "Size of Validation set (3585, 58)\n",
      "\n",
      "Size of new Train set (32616, 58)\n",
      "Size of Validation set (3585, 58)\n"
     ]
    }
   ],
   "source": [
    "print(\"Size of Train set\", X_train.shape)\n",
    "print(\"Size of Test set\", X_test.shape)\n",
    "print(\"Size of Validation set\", X_val.shape)\n",
    "\n",
    "Xframes = [X_train, X_test]\n",
    "yframes = [y_train, y_test]\n",
    "\n",
    "X_result_train = pd.concat(Xframes)\n",
    "y_result_train = pd.concat(yframes)\n",
    "\n",
    "print(\"\\nSize of new Train set\", X_result_train.shape)\n",
    "print(\"Size of Validation set\", X_val.shape)\n"
   ]
  },
  {
   "cell_type": "code",
   "execution_count": 108,
   "metadata": {},
   "outputs": [],
   "source": [
    "# FOR EXPLAINABILITY\n",
    "X_result_matrix = X_result_train.values\n",
    "y_result_matrix = y_result_train.values\n",
    "X_val_matrix  = X_val.values\n",
    "y_val_matrix  = y_val.values"
   ]
  },
  {
   "cell_type": "code",
   "execution_count": 109,
   "metadata": {},
   "outputs": [
    {
     "name": "stdout",
     "output_type": "stream",
     "text": [
      "Fitting 5 folds for each of 6 candidates, totalling 30 fits\n"
     ]
    },
    {
     "name": "stderr",
     "output_type": "stream",
     "text": [
      "[Parallel(n_jobs=10)]: Using backend LokyBackend with 10 concurrent workers.\n",
      "[Parallel(n_jobs=10)]: Done  30 out of  30 | elapsed: 11.8min finished\n"
     ]
    },
    {
     "data": {
      "text/plain": [
       "GridSearchCV(cv=5, estimator=XGBClassifier(), n_jobs=10,\n",
       "             param_grid={'learning_rate': [0.05, 0.1, 0.2],\n",
       "                         'n_estimators': [2500],\n",
       "                         'objective': ['binary:logistic'],\n",
       "                         'scale_pos_weight': [2, 5]},\n",
       "             refit='AUC',\n",
       "             scoring={'AUC': 'roc_auc',\n",
       "                      'accuracy': make_scorer(accuracy_score)},\n",
       "             verbose=True)"
      ]
     },
     "execution_count": 109,
     "metadata": {},
     "output_type": "execute_result"
    }
   ],
   "source": [
    "# A parameter grid for XGBoost\n",
    "xgb_param = {  \n",
    "        'objective':['binary:logistic'],\n",
    "        'learning_rate': [0.05, 0.1, 0.2],\n",
    "#         'max_depth': [5, 10],\n",
    "#         'min_child_weight': [1, 5, 10],\n",
    "#         'subsample': [0.6, 0.8, 1.0],\n",
    "        'n_estimators': [2500],\n",
    "        'scale_pos_weight':[2, 5]\n",
    "        }\n",
    "\n",
    "xgb_grid_val = GridSearchCV(XGBClassifier(), xgb_param, cv=5,\n",
    "                    n_jobs = 10, scoring=scoring, refit='AUC', verbose=True)\n",
    "xgb_grid_val.fit(X_result_matrix, y_result_matrix)"
   ]
  },
  {
   "cell_type": "code",
   "execution_count": 110,
   "metadata": {},
   "outputs": [
    {
     "data": {
      "text/plain": [
       "XGBClassifier(learning_rate=0.2, n_estimators=2500, scale_pos_weight=2)"
      ]
     },
     "execution_count": 110,
     "metadata": {},
     "output_type": "execute_result"
    }
   ],
   "source": [
    "xgb_grid_val.best_estimator_"
   ]
  },
  {
   "cell_type": "code",
   "execution_count": 111,
   "metadata": {
    "scrolled": false
   },
   "outputs": [
    {
     "name": "stdout",
     "output_type": "stream",
     "text": [
      "Accuracy : 0.94282\n",
      "AUC: 0.973318\n",
      "F1 Score: 0.833469\n",
      "\n",
      "Accuracy if all bad leads: 0.8222\n",
      "Accuracy improved: 0.12061\n",
      "\n",
      "\n"
     ]
    },
    {
     "data": {
      "image/png": "[encoded data removed]",
      "text/plain": [
       "<Figure size 1080x864 with 1 Axes>"
      ]
     },
     "metadata": {},
     "output_type": "display_data"
    },
    {
     "name": "stdout",
     "output_type": "stream",
     "text": [
      "                               Features  Importance\n",
      "16                              Segment    0.125703\n",
      "17                          Sub Segment    0.117751\n",
      "46                  Camp_Website / Apps    0.094336\n",
      "51                       Phone_or_Email    0.092889\n",
      "34                  Activ_Reached Calls    0.091487\n",
      "13                     Lead Record Type    0.036518\n",
      "12                           Lead Owner    0.027902\n",
      "9                               Country    0.024108\n",
      "19                         Product List    0.023596\n",
      "39               Camp_Digital Marketing    0.021453\n",
      "21                         Prod. Family    0.017729\n",
      "24                             End Date    0.017673\n",
      "22                           Created By    0.017412\n",
      "41                          Camp_Events    0.016421\n",
      "32                            Activ_EDM    0.015577\n",
      "11                           Sub Region    0.015150\n",
      "15               Response Creation Date    0.013719\n",
      "40                Camp_Direct Marketing    0.013139\n",
      "18                     Reseller Account    0.011983\n",
      "25                        Campaign Type    0.011336\n",
      "37                         Camp Touches    0.010686\n",
      "7                                 Phone    0.010599\n",
      "29                           ResponseId    0.009948\n",
      "20                             Products    0.009599\n",
      "45    Camp_Sales and Partner Enablement    0.009446\n",
      "33                          Activ_Email    0.009391\n",
      "23                        Campaign Name    0.008697\n",
      "36                        Activ Touches    0.008556\n",
      "26                           Phone_desc    0.008503\n",
      "48                        Count_account    0.008193\n",
      "53                                Month    0.007580\n",
      "31                Activ_Attempted Calls    0.007151\n",
      "47                         GlsDr_Income    0.006186\n",
      "55                              Quarter    0.006179\n",
      "28         LnkdIn_Glsdr_HP_Standardized    0.006126\n",
      "35  Activ_re-opened on additional touch    0.006030\n",
      "14                               Street    0.005615\n",
      "5                                 Title    0.005510\n",
      "27        HP_and_LnkdIn_Glsdr_Verticals    0.005056\n",
      "4                     LkdIn_Translation    0.004573\n",
      "8                        State/Province    0.004418\n",
      "1                        LkdIn_Web_Name    0.004347\n",
      "6                                 Email    0.004239\n",
      "3                     LkdIn_Specialties    0.004187\n",
      "50           LnkdIn_and_Glsdr_Employees    0.004155\n",
      "43                           Camp_Media    0.003806\n",
      "2                    LkdIn_Headquarters    0.003620\n",
      "0                               Company    0.003565\n",
      "49                          3D_Company?    0.002611\n",
      "52                      Lnkdin_or_Glsdr    0.002199\n",
      "44               Camp_Media: Paid Print    0.002037\n",
      "38          Camp_Content and Production    0.001312\n",
      "42              Camp_External Relations    0.000000\n",
      "30             Partner Cleansed Account    0.000000\n",
      "54                                 Year    0.000000\n",
      "10                               Region    0.000000\n",
      "56                          Fiscal_Year    0.000000\n",
      "57                           FY Correct    0.000000\n",
      "['Segment', 'Sub Segment', 'Camp_Website / Apps', 'Phone_or_Email', 'Activ_Reached Calls', 'Lead Record Type', 'Lead Owner', 'Country', 'Product List', 'Camp_Digital Marketing', 'Prod. Family', 'End Date', 'Created By', 'Camp_Events', 'Activ_EDM', 'Sub Region', 'Response Creation Date', 'Camp_Direct Marketing', 'Reseller Account', 'Campaign Type', 'Camp Touches', 'Phone', 'ResponseId', 'Products', 'Camp_Sales and Partner Enablement', 'Activ_Email', 'Campaign Name', 'Activ Touches', 'Phone_desc', 'Count_account', 'Month', 'Activ_Attempted Calls', 'GlsDr_Income', 'Quarter', 'LnkdIn_Glsdr_HP_Standardized', 'Activ_re-opened on additional touch', 'Street', 'Title', 'HP_and_LnkdIn_Glsdr_Verticals', 'LkdIn_Translation', 'State/Province', 'LkdIn_Web_Name', 'Email', 'LkdIn_Specialties', 'LnkdIn_and_Glsdr_Employees', 'Camp_Media', 'LkdIn_Headquarters', 'Company', '3D_Company?', 'Lnkdin_or_Glsdr', 'Camp_Media: Paid Print', 'Camp_Content and Production', 'Camp_External Relations', 'Partner Cleansed Account', 'Year', 'Region', 'Fiscal_Year', 'FY Correct']\n"
     ]
    },
    {
     "data": {
      "text/plain": [
       "array([[2867,   83],\n",
       "       [ 122,  513]], dtype=int64)"
      ]
     },
     "execution_count": 111,
     "metadata": {},
     "output_type": "execute_result"
    }
   ],
   "source": [
    "\"Start Predicting\"\n",
    "pred_results = xgb_grid_val.predict(X_val_matrix)\n",
    "pred_proba_results = xgb_grid_val.predict_proba(X_val_matrix)[:, 1]\n",
    "\n",
    "acc_xgbCV = metrics.accuracy_score(y_val, pred_results)\n",
    "auc_xgbCV = metrics.roc_auc_score(y_val, pred_proba_results)\n",
    "\n",
    "print(\"Accuracy : %.5g\" % metrics.accuracy_score(y_val, pred_results ))\n",
    "print(\"AUC: %f\" % metrics.roc_auc_score(y_val, pred_proba_results))\n",
    "print(\"F1 Score: %f\" % metrics.f1_score(y_val, pred_results ))\n",
    "\n",
    "print(\"\\nAccuracy if all bad leads:\",round(1-y_result_train.sum()/len(y_result_train),5))\n",
    "print(\"Accuracy improved:\",round((metrics.accuracy_score(y_val, pred_results )-(1-y_result_train.sum()/len(y_result_train))),5))\n",
    "print(\"\\n\")\n",
    "\n",
    "\n",
    "### FEATURE IMPORTANCE\n",
    "feat_imp = xgb_grid_val.best_estimator_.feature_importances_\n",
    "feat = X_result_train.columns.tolist()\n",
    "res_df = pd.DataFrame({'Features': feat, 'Importance': feat_imp}).sort_values(by='Importance', ascending=False)\n",
    "res_df.plot('Features', 'Importance', kind='barh', title='Feature Importances',figsize=(15,12))\n",
    "plt.xlabel('Feature Importance Score')\n",
    "plt.gca().invert_yaxis()\n",
    "plt.show()\n",
    "print(res_df)\n",
    "print(res_df[\"Features\"].tolist())\n",
    "\n",
    "\n",
    "from sklearn.metrics import confusion_matrix\n",
    "confusion_matrix(y_val, pred_results)"
   ]
  },
  {
   "cell_type": "code",
   "execution_count": 155,
   "metadata": {},
   "outputs": [
    {
     "data": {
      "image/png": "[encoded data removed]",
      "text/plain": [
       "<Figure size 576x432 with 2 Axes>"
      ]
     },
     "metadata": {},
     "output_type": "display_data"
    },
    {
     "name": "stdout",
     "output_type": "stream",
     "text": [
      "[[2867   83]\n",
      " [ 122  513]]\n"
     ]
    },
    {
     "data": {
      "text/plain": [
       "array([[ 513,   83],\n",
       "       [ 122, 2867]], dtype=int64)"
      ]
     },
     "execution_count": 155,
     "metadata": {},
     "output_type": "execute_result"
    }
   ],
   "source": [
    "plt.figure(figsize=(8,6))\n",
    "cm_final_xgb = confusion_matrix(y_val, pred_results)\n",
    "cm_final_xgb[:,[0, 1]] = cm_final_xgb[:,[1, 0]]\n",
    "cm_final_xgb[[0, 1],:] = cm_final_xgb[[1, 0],:]\n",
    "a = cm_final_xgb[0][1]\n",
    "cm_final_xgb[0][1] = cm_final_xgb[1][0]\n",
    "cm_final_xgb[1][0]= a\n",
    "sns.heatmap(cm_final_xgb.astype('float') / cm_final_xgb.sum(axis=0) [np.newaxis,:], annot=True, cmap=plt.cm.Blues, \n",
    "            xticklabels=[\"Good\",\"Bad\"], yticklabels=[\"Good\",\"Bad\"])\n",
    "plt.title(\"Normalized confusion matrix XGBoost test set\", fontsize=18)\n",
    "plt.ylabel(\"Predicted label\")\n",
    "plt.xlabel(\"True label\")\n",
    "\n",
    "plt.show()\n",
    "\n",
    "from sklearn.metrics import confusion_matrix\n",
    "print(confusion_matrix(y_val, pred_results))\n",
    "cm_final_xgb"
   ]
  },
  {
   "cell_type": "code",
   "execution_count": 154,
   "metadata": {},
   "outputs": [
    {
     "data": {
      "text/plain": [
       "635"
      ]
     },
     "execution_count": 154,
     "metadata": {},
     "output_type": "execute_result"
    }
   ],
   "source": [
    "y_val.sum()"
   ]
  },
  {
   "cell_type": "code",
   "execution_count": 136,
   "metadata": {},
   "outputs": [
    {
     "data": {
      "text/plain": [
       "2950"
      ]
     },
     "execution_count": 136,
     "metadata": {},
     "output_type": "execute_result"
    }
   ],
   "source": [
    "y_val[y_val==0].count()"
   ]
  },
  {
   "cell_type": "code",
   "execution_count": null,
   "metadata": {},
   "outputs": [],
   "source": []
  },
  {
   "cell_type": "code",
   "execution_count": null,
   "metadata": {},
   "outputs": [],
   "source": [
    "wrong = []\n",
    "for i in range(len(y_val)):\n",
    "    if y_val.iloc[i]==1 and pred_results[i]==0:\n",
    "#         print('Predicted:', round(pred_proba_results[i],4), \"Target:\", y_val.iloc[i])\n",
    "        wrong.append(X_val.iloc[i])\n",
    "pd.DataFrame(wrong)"
   ]
  },
  {
   "cell_type": "markdown",
   "metadata": {},
   "source": [
    "## Pickle"
   ]
  },
  {
   "cell_type": "code",
   "execution_count": null,
   "metadata": {},
   "outputs": [],
   "source": [
    "# pickle.dump(xgb_grid_val, open(f\"pickle/xgb_grid_val_{date_string}\", \"wb\"))\n",
    "# xgb_model_loaded = pickle.load(open(\"pickle/xgb_grid_val_2020-07-09-10h\", \"rb\"))\n"
   ]
  },
  {
   "cell_type": "code",
   "execution_count": null,
   "metadata": {},
   "outputs": [],
   "source": [
    "import pickle\n",
    "# pickle.dump(xgb_grid_val, open(\"xgboost_{date_string}\", \"wb\"))\n",
    "# # load\n",
    "xgb_model_loaded = pickle.load(open(\"pickle/xgboost_pickle_2020-07-10-11h_0_94504\", \"rb\"))\n",
    "# xgb_model_loaded2 = pickle.load(open(\"xgb_grid_val_27_06\", \"rb\"))\n",
    "\n",
    "# columns_df_26_06 = ['Company', 'LkdIn_Web_Name', 'LkdIn_Industry', 'LkdIn_Company_size', 'LkdIn_Headquarters', 'LkdIn_Specialties', 'LkdIn_Translation', 'Campaign Type', 'Coments Verticals', 'Created On', 'Dummy ISR or Reseller', 'Email', 'First Name', 'Industry', 'Phone', 'Primary Campaign', 'Purchaser Role', 'Record Created On', 'Subregion', 'True ISR', 'GlsDr_Company size', 'GlsDr_Industry', 'LinkedIn_Industry', 'Company_grouped', 'Phone_desc', 'HP_and_LnkdIn_Verticals', 'Days since it was created', 'Estimated Budget', 'FY Correct', 'FYQ Created On Correct', 'HP Lead ID', 'Number of Touches Campaign', 'Timeframe to Buy', 'Touches', 'GlsDr_Income', 'Count_account', '3D_Company?', 'LnkdIn_and_Glsdr_Employees', 'Phone_or_Email', 'Lnkdin_or_Glsdr']\n",
    "columns_df_26_06 = X_train.columns\n",
    "len(columns_df_26_06)"
   ]
  },
  {
   "cell_type": "code",
   "execution_count": null,
   "metadata": {},
   "outputs": [],
   "source": []
  },
  {
   "cell_type": "code",
   "execution_count": null,
   "metadata": {
    "scrolled": false
   },
   "outputs": [],
   "source": [
    "\"Start Predicting\"\n",
    "pred_results = xgb_model_loaded.predict(X_val_matrix)\n",
    "pred_proba_results = xgb_model_loaded.predict_proba(X_val_matrix)[:, 1]\n",
    "\n",
    "acc_xgbCV = metrics.accuracy_score(y_val, pred_results)\n",
    "auc_xgbCV = metrics.roc_auc_score(y_val, pred_proba_results)\n",
    "\n",
    "print(\"Accuracy : %.5g\" % metrics.accuracy_score(y_val, pred_results ))\n",
    "print(\"AUC: %f\" % metrics.roc_auc_score(y_val, pred_proba_results))\n",
    "print(\"F1 Score: %f\" % metrics.f1_score(y_val, pred_results ))\n",
    "\n",
    "print(\"\\nAccuracy if all bad leads:\",round(1-y_result_train.sum()/len(y_result_train),5))\n",
    "print(\"Accuracy improved:\",round((metrics.accuracy_score(y_val, pred_results )-(1-y_result_train.sum()/len(y_result_train))),5))\n",
    "print(\"\\n\")\n",
    "\n",
    "\n",
    "### FEATURE IMPORTANCE\n",
    "feat_imp = xgb_model_loaded.best_estimator_.feature_importances_\n",
    "feat = X_result_train.columns.tolist()\n",
    "res_df = pd.DataFrame({'Features': feat, 'Importance': feat_imp}).sort_values(by='Importance', ascending=False)\n",
    "res_df.plot('Features', 'Importance', kind='barh', title='Feature Importances',figsize=(15,12))\n",
    "plt.xlabel('Feature Importance Score')\n",
    "plt.gca().invert_yaxis()\n",
    "plt.show()\n",
    "print(res_df)\n",
    "print(res_df[\"Features\"].tolist())\n",
    "\n",
    "\n",
    "from sklearn.metrics import confusion_matrix\n",
    "confusion_matrix(y_val, pred_results)\n",
    "\n",
    "plt.figure(figsize=(8,6))\n",
    "cm = confusion_matrix(y_val, pred_results)\n",
    "sns.heatmap(cm.astype('float') / cm.sum(axis=1)[:, np.newaxis], annot=True, cmap=plt.cm.Blues, \n",
    "            xticklabels=[\"Bad\",\"Good\"], yticklabels=[\"Bad\",\"Good\"])\n",
    "plt.title(\"Normalized confusion matrix\", fontsize=18)\n",
    "plt.show()"
   ]
  },
  {
   "cell_type": "code",
   "execution_count": null,
   "metadata": {},
   "outputs": [],
   "source": []
  },
  {
   "cell_type": "code",
   "execution_count": null,
   "metadata": {},
   "outputs": [],
   "source": [
    "# data_val = X_val[X_val.columns.intersection(columns_df_07_05)]\n",
    "# FOR EXPLAINABILITY\n",
    "X_train_matrix = X_train.values\n",
    "y_train_matrix = y_train.values\n",
    "X_test_matrix  = X_test.values\n",
    "y_test_matrix  = y_test.values\n",
    "\n",
    "print(set(X_data_predict.columns).difference(columns_df_26_06))\n",
    "print(set(columns_df_26_06).difference(X_data_predict.columns))"
   ]
  },
  {
   "cell_type": "code",
   "execution_count": null,
   "metadata": {},
   "outputs": [],
   "source": [
    "# pred_results = xgb_model_loaded.predict(X_val_matrix)\n",
    "# pred_proba_results = xgb_model_loaded.predict_proba(X_val_matrix)[:, 1]\n",
    "\n",
    "# acc_xgbCV = metrics.accuracy_score(y_val, pred_results)\n",
    "# auc_xgbCV = metrics.roc_auc_score(y_val, pred_proba_results)\n",
    "\n",
    "# print(\"Accuracy : %.5g\" % metrics.accuracy_score(y_val, pred_results ))\n",
    "# print(\"AUC: %f\" % metrics.roc_auc_score(y_val, pred_proba_results))\n",
    "\n"
   ]
  },
  {
   "cell_type": "code",
   "execution_count": null,
   "metadata": {},
   "outputs": [],
   "source": [
    "data_predict_matrix = X_data_predict.values\n",
    "X_data_predict\n",
    "# y_pred_new = xgb_model_loaded.predict_proba(data_predict_matrix)\n",
    "# y_pred_new"
   ]
  },
  {
   "cell_type": "markdown",
   "metadata": {},
   "source": [
    "# Explain every entry"
   ]
  },
  {
   "cell_type": "code",
   "execution_count": null,
   "metadata": {},
   "outputs": [],
   "source": [
    "def strip_html(htmldoc, strip_tags = ['html','meta','head','body'], outfile=None, verbose=False):\n",
    "    \"\"\"Strip out HTML boilerplate tags but perserve inner content\n",
    "    \n",
    "    Only will strip out the first occurrence of each tag, if multiple occurrences\n",
    "    are desired, function must be modified.\n",
    "    \n",
    "    Args:\n",
    "        htmldoc : str \n",
    "            HTML markup to process\n",
    "        strip_tags : list[str]\n",
    "            list of tags to be stripped out, including any attribute information\n",
    "        outfile : str, optional (default: None)\n",
    "            filename to output stripped html, if None parsed string is returned\n",
    "        verbose : boolean (default: False)\n",
    "            if True, prints removed tags and filepath\n",
    "    \"\"\"\n",
    "    \n",
    "    from bs4 import BeautifulSoup\n",
    "    soup = BeautifulSoup(htmldoc)\n",
    "    \n",
    "    for tag in strip_tags:\n",
    "        rmtag = soup.find(tag)\n",
    "        if rmtag is not None:\n",
    "            rmtag.unwrap()\n",
    "            if verbose: print(tag,'tags removed')\n",
    "    \n",
    "    stripped = soup.prettify()\n",
    "    if outfile is not None:\n",
    "        with open(outfile, 'w', encoding='utf-8') as f:\n",
    "            f.write(stripped)\n",
    "        if verbose: \n",
    "            print(f'file saved to: {outfile}')\n",
    "    else:\n",
    "        return stripped"
   ]
  },
  {
   "cell_type": "code",
   "execution_count": null,
   "metadata": {},
   "outputs": [],
   "source": [
    "X_result_train.columns"
   ]
  },
  {
   "cell_type": "code",
   "execution_count": null,
   "metadata": {},
   "outputs": [],
   "source": [
    "from IPython.display import Image, display_html\n",
    "from lime.lime_tabular import LimeTabularExplainer\n",
    "\n",
    "lead_nb = 2\n",
    "\n",
    "limeparams = dict(\n",
    "    training_data = X_result_train.values, \n",
    "    training_labels = y_result_train.values, \n",
    "    feature_names = list(X_result_train.columns), \n",
    "    class_names = ['Disqualified','Good']\n",
    ")\n",
    "lte = LimeTabularExplainer(**limeparams)\n",
    "print('Reference:', y_val.iloc[lead_nb])\n",
    "print('Predicted:', pred_results[lead_nb], round(pred_proba_results[lead_nb],5))\n",
    "\n",
    "lte_expl = lte.explain_instance(X_val.iloc[lead_nb], xgb_model_loaded.predict_proba, num_features=15)\n",
    "# display_html(strip_html(lte_expl.as_html()), raw=True)\n",
    "lte_expl.as_list()"
   ]
  },
  {
   "cell_type": "code",
   "execution_count": null,
   "metadata": {},
   "outputs": [],
   "source": [
    "print(\"Total Responses to predict:\",len(X_data_predict))\n",
    "print(\"Total Responses:\",len(X_data))"
   ]
  },
  {
   "cell_type": "code",
   "execution_count": null,
   "metadata": {
    "scrolled": true
   },
   "outputs": [],
   "source": [
    "from tqdm.notebook import tqdm\n",
    "\n",
    "explanations = []\n",
    "for i in tqdm(range(0,len(X_data_predict))):\n",
    "    lte_expl = lte.explain_instance(X_data_predict.iloc[i], \n",
    "                                    xgb_model_loaded.predict_proba, \n",
    "                                    num_features=5, \n",
    "                                    num_samples=250)\n",
    "    explanations.append(lte_expl.as_list())\n",
    "#     print(i , \"/\" , len(X_data_predict), end=\"\\r\")"
   ]
  },
  {
   "cell_type": "code",
   "execution_count": null,
   "metadata": {},
   "outputs": [],
   "source": [
    "pd.DataFrame(explanations)"
   ]
  },
  {
   "cell_type": "code",
   "execution_count": null,
   "metadata": {},
   "outputs": [],
   "source": [
    "# X_predict_matrix = X_data_predict.values\n",
    "y_pred_train = xgb_model_loaded.predict_proba(X_data_train.values)\n",
    "y_pred_new = xgb_model_loaded.predict_proba(X_data_predict.values)"
   ]
  },
  {
   "cell_type": "code",
   "execution_count": null,
   "metadata": {},
   "outputs": [],
   "source": [
    "# X_data_predict\n",
    "# X_data_train"
   ]
  },
  {
   "cell_type": "code",
   "execution_count": null,
   "metadata": {},
   "outputs": [],
   "source": [
    "result_new_score = pd.DataFrame(np.vstack((X_data_predict[\"ResponseId\"], y_pred_new[:, 1])).T, \n",
    "                      columns=[\"ResponseId\",\"Pred Prob\"])  #1 is good\n",
    "\n",
    "result_new_score['Explainability'] = pd.Series(explanations, index=result_new_score.index)\n",
    "result_new_score['ResponseId'] = result_new_score['ResponseId'].astype(int)\n",
    "result_new_score[['Explain_1', 'Explain_2', 'Explain_3', 'Explain_4', 'Explain_5']] = pd.DataFrame(result_new_score['Explainability'].tolist(), \n",
    "                                                                                                       index=result_new_score.index)\n",
    "result_new_score"
   ]
  },
  {
   "cell_type": "code",
   "execution_count": null,
   "metadata": {},
   "outputs": [],
   "source": [
    "result_train_score = pd.DataFrame(np.vstack((X_data_train[\"ResponseId\"], y_pred_train[:, 1])).T, \n",
    "                      columns=[\"ResponseId\",\"Pred Prob\"])  #1 is good\n",
    "\n",
    "result_all_score = pd.concat([result_new_score,result_train_score], sort=False)\n",
    "\n",
    "\n",
    "result_all_score['ResponseId'] = '3DMCR-R' + result_all_score['ResponseId'].astype(str)\n",
    "result_all_score"
   ]
  },
  {
   "cell_type": "code",
   "execution_count": null,
   "metadata": {},
   "outputs": [],
   "source": [
    "import time\n",
    "date_string = time.strftime(\"%Y-%m-%d-%Hh\")\n",
    "result_all_score.to_excel(\"Lead_Scores_Machine_Learning.xlsx\")\n",
    "result_all_score.to_excel(f'backups_scrape/Lead_Scores_Machine_Learning{date_string}.xlsx')"
   ]
  },
  {
   "cell_type": "code",
   "execution_count": null,
   "metadata": {},
   "outputs": [],
   "source": [
    "# result_val.sort_values(by=['Pred Prob'], ascending=False)\n",
    "# leads_result = result_val.merge(X, left_on='ResponseId', right_on='ResponseId', how='left')\n",
    "# leads_result['ResponseId'] = '3DMCR-R' + leads_result['ResponseId'].astype(str)\n",
    "# leads_result = leads_result.sort_values(by='Pred Prob', ascending=False)\n",
    "# # leads_result.drop('Explainability',axis=1)"
   ]
  },
  {
   "cell_type": "code",
   "execution_count": null,
   "metadata": {},
   "outputs": [],
   "source": []
  }
 ],
 "metadata": {
  "kernelspec": {
   "display_name": "Python 3",
   "language": "python",
   "name": "python3"
  },
  "language_info": {
   "codemirror_mode": {
    "name": "ipython",
    "version": 3
   },
   "file_extension": ".py",
   "mimetype": "text/x-python",
   "name": "python",
   "nbconvert_exporter": "python",
   "pygments_lexer": "ipython3",
   "version": "3.7.4"
  }
 },
 "nbformat": 4,
 "nbformat_minor": 2
}
