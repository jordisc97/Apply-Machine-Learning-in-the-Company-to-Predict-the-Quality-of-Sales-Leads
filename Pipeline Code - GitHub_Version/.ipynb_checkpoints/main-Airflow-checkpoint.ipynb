{
 "cells": [
  {
   "cell_type": "code",
   "execution_count": 12,
   "metadata": {},
   "outputs": [],
   "source": [
    "import os, random, sys, time, datetime\n",
    "from Dataset_creation import dataset_creation\n",
    "from Linkedin_Scraping import linkedin_scraping\n",
    "from Glassdoor_Scraping import glassdoor_scraping\n",
    "from Translate_and_create_file import create_file_ml\n",
    "from Predict_Qualified_Salesforce import clean_dataset_ml\n",
    "from datetime import timedelta\n",
    "import datetime as dt\n",
    "from datetime import datetime\n",
    "\n",
    "import airflow\n",
    "from airflow import DAG\n",
    "from airflow.operators import BashOperator, PythonOperator\n",
    "\n",
    "import warnings\n",
    "warnings.filterwarnings(\"ignore\")"
   ]
  },
  {
   "cell_type": "code",
   "execution_count": 14,
   "metadata": {},
   "outputs": [],
   "source": [
    "default_args = {\n",
    "    'owner': 'Jordi SC',\n",
    "    'depends_on_past': False,\n",
    "    'start_date': datetime(2020, 7, 13),\n",
    "    'email_on_failure': False,\n",
    "    'email_on_retry': False,\n",
    "    'retries': 1,\n",
    "    'retry_delay': timedelta(minutes=1)\n",
    "}\n",
    "\n",
    "dag = DAG('Predict_Lead_Score_Jordi_SoleCasaramona',\n",
    "          default_args=default_args,\n",
    "          description=\"Predict Lead Score Jordi SC TFM\",\n",
    "          schedule_interval=timedelta(days=1))"
   ]
  },
  {
   "cell_type": "code",
   "execution_count": 3,
   "metadata": {},
   "outputs": [
    {
     "name": "stdout",
     "output_type": "stream",
     "text": [
      "Number of rows in Leads: 40234\n",
      "Number of rows in Activities: 31616\n",
      "Number of rows in Campaigns: 46498\n",
      "File NewData.xlsx created on 2020-07-13-09h\n"
     ]
    }
   ],
   "source": [
    "def task_1(**context):\n",
    "    ######################################################\n",
    "    #                        1                           #\n",
    "    # Create the dataset . #\n",
    "    ######################################################\n",
    "dataset_creation()"
   ]
  },
  {
   "cell_type": "code",
   "execution_count": 4,
   "metadata": {},
   "outputs": [
    {
     "name": "stdout",
     "output_type": "stream",
     "text": [
      "[2020-07-13 09:26:01,489] {utils.py:129} INFO - Note: NumExpr detected 12 cores but \"NUMEXPR_MAX_THREADS\" not set, so enforcing safe limit of 8.\n",
      "[2020-07-13 09:26:01,499] {utils.py:141} INFO - NumExpr defaulting to 8 threads.\n",
      "New Leads in Linkedin Scraping Translated: 15\n",
      "Linkedin Scraping Translated and its backups saved correctly at:ous 2020-07-13-09h\n"
     ]
    }
   ],
   "source": [
    "linkedin_scraping()"
   ]
  },
  {
   "cell_type": "code",
   "execution_count": 6,
   "metadata": {},
   "outputs": [
    {
     "name": "stdout",
     "output_type": "stream",
     "text": [
      "New Leads in Glassdoor Scraping Revenue: 15\n",
      "Glassdoor Scraping Revenue and its backups saved correctly onr tous 2020-07-13-09h\n"
     ]
    }
   ],
   "source": [
    "glassdoor_scraping()"
   ]
  },
  {
   "cell_type": "code",
   "execution_count": 7,
   "metadata": {},
   "outputs": [
    {
     "name": "stdout",
     "output_type": "stream",
     "text": [
      "LinkedIn Scraping is being translated\n",
      "New Leads: 15\n",
      "Leads that need to be translated: 5\n",
      "1 - 20.0 % completed.\n",
      "2 - 40.0 % completed.\n",
      "3 - 60.0 % completed.\n",
      "4 - 80.0 % completed.\n",
      "5 - 100.0 % completed.\n",
      "\n",
      "Glassdoor Scraping is being translated\n",
      "New Leads: 15\n",
      "'float' object is not iterable\n",
      "1 - 14.29 % completed.\n",
      "2 - 28.57 % completed.\n",
      "3 - 42.86 % completed.\n",
      "4 - 57.14 % completed.\n",
      "5 - 71.43 % completed.\n",
      "6 - 85.71 % completed.\n",
      "\n",
      "Merging the files...\n",
      "Saving the results on: 2020-07-13-09h\n"
     ]
    }
   ],
   "source": [
    "create_file_ml()"
   ]
  },
  {
   "cell_type": "code",
   "execution_count": null,
   "metadata": {},
   "outputs": [
    {
     "name": "stdout",
     "output_type": "stream",
     "text": [
      "Disqualified Leads: 73.4 %\n",
      "Good Leads: 14.07 %\n",
      "\n",
      "Total Number of Leads: 40234\n",
      "X_data_train: (35194, 58)\n",
      "X_data_predict: (5040, 58)\n",
      "Using model: xgboost_pickle_2020-07-10-11h_0_94504\n",
      "\n",
      "Calculating the explainability:\n"
     ]
    },
    {
     "data": {
      "application/vnd.jupyter.widget-view+json": {
       "model_id": "b974f023bd5d4d14a8dc7b72cb006ff4",
       "version_major": 2,
       "version_minor": 0
      },
      "text/plain": [
       "HBox(children=(IntProgress(value=0, max=5040), HTML(value='')))"
      ]
     },
     "metadata": {},
     "output_type": "display_data"
    }
   ],
   "source": [
    "clean_dataset_ml(train_xgb = False, model_used = 'xgboost_pickle_2020-07-10-11h_0_94504', number_samples = 200)"
   ]
  },
  {
   "cell_type": "code",
   "execution_count": null,
   "metadata": {},
   "outputs": [],
   "source": []
  }
 ],
 "metadata": {
  "kernelspec": {
   "display_name": "Python 3",
   "language": "python",
   "name": "python3"
  },
  "language_info": {
   "codemirror_mode": {
    "name": "ipython",
    "version": 3
   },
   "file_extension": ".py",
   "mimetype": "text/x-python",
   "name": "python",
   "nbconvert_exporter": "python",
   "pygments_lexer": "ipython3",
   "version": "3.7.4"
  }
 },
 "nbformat": 4,
 "nbformat_minor": 2
}
