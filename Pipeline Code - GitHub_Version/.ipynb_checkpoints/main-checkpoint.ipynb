{
 "cells": [
  {
   "cell_type": "code",
   "execution_count": 15,
   "metadata": {},
   "outputs": [
    {
     "name": "stdout",
     "output_type": "stream",
     "text": [
      "Wall time: 140 ms\n",
      "Parser   : 153 ms\n"
     ]
    }
   ],
   "source": [
    "%%time \n",
    "import os, random, sys, time, datetime\n",
    "from Dataset_creation import dataset_creation\n",
    "from Linkedin_Scraping import linkedin_scraping\n",
    "from Glassdoor_Scraping import glassdoor_scraping\n",
    "from Translate_and_create_file import create_file_ml\n",
    "from Predict_Qualified_Salesforce import clean_dataset_ml\n",
    "from datetime import timedelta\n",
    "\n",
    "import warnings\n",
    "warnings.filterwarnings(\"ignore\")"
   ]
  },
  {
   "cell_type": "code",
   "execution_count": 16,
   "metadata": {},
   "outputs": [
    {
     "name": "stdout",
     "output_type": "stream",
     "text": [
      "Number of rows in Leads: 41498\n",
      "Number of rows in Activities: 32574\n",
      "Number of rows in Campaigns: 48273\n",
      "File NewData.xlsx created on 2020-08-07-09h\n",
      "Wall time: 3min 43s\n"
     ]
    }
   ],
   "source": [
    "%%time\n",
    "dataset_creation()"
   ]
  },
  {
   "cell_type": "code",
   "execution_count": 17,
   "metadata": {},
   "outputs": [
    {
     "name": "stdout",
     "output_type": "stream",
     "text": [
      "New Leads in Linkedin Scraping Translated: 18\n",
      "Linkedin Scraping Translated and its backups saved correctly at: 2020-08-07-09h\n",
      "Wall time: 9min 24s\n"
     ]
    }
   ],
   "source": [
    "%%time\n",
    "linkedin_scraping()"
   ]
  },
  {
   "cell_type": "code",
   "execution_count": 18,
   "metadata": {},
   "outputs": [
    {
     "name": "stdout",
     "output_type": "stream",
     "text": [
      "New Leads in Glassdoor Scraping Revenue: 18\n",
      "Glassdoor Scraping Revenue and its backups saved correctly on 2020-08-07-09h\n",
      "Wall time: 6min 27s\n"
     ]
    }
   ],
   "source": [
    "%%time\n",
    "glassdoor_scraping()"
   ]
  },
  {
   "cell_type": "code",
   "execution_count": 19,
   "metadata": {},
   "outputs": [
    {
     "name": "stdout",
     "output_type": "stream",
     "text": [
      "LinkedIn Scraping is being translated\n",
      "New Leads: 18\n",
      "Leads that need to be translated: 0\n",
      "\n",
      "Glassdoor Scraping is being translated\n",
      "New Leads: 18\n",
      "Leads that need to be translated: 1\n",
      "'float' object is not iterable\n",
      "\n",
      "Merging the files...\n",
      "Saving the results on: 2020-08-07-09h\n",
      "Wall time: 4min 45s\n"
     ]
    }
   ],
   "source": [
    "%%time\n",
    "create_file_ml()"
   ]
  },
  {
   "cell_type": "code",
   "execution_count": 20,
   "metadata": {},
   "outputs": [
    {
     "name": "stdout",
     "output_type": "stream",
     "text": [
      "Disqualified Leads: 71.73 %\n",
      "Good Leads: 15.5 %\n",
      "\n",
      "Total Number of Leads: 41498\n",
      "X_data_train: (36201, 58)\n",
      "X_data_predict: (5297, 58)\n",
      "Using model: xgboost_pickle_2020-08-06-10h_0_94749\n",
      "\n",
      "Calculating the explainability:\n"
     ]
    },
    {
     "data": {
      "application/vnd.jupyter.widget-view+json": {
       "model_id": "005a7876fb754dceb1ea1306156e44a2",
       "version_major": 2,
       "version_minor": 0
      },
      "text/plain": [
       "HBox(children=(IntProgress(value=0, max=5297), HTML(value='')))"
      ]
     },
     "metadata": {},
     "output_type": "display_data"
    },
    {
     "name": "stdout",
     "output_type": "stream",
     "text": [
      "\n",
      "Lead_Scores_Machine_Learning excel and its backups saved correctly at: 2020-08-06-10h\n",
      "Wall time: 1h 12min 13s\n"
     ]
    }
   ],
   "source": [
    "%%time\n",
    "clean_dataset_ml(train_xgb = False, model_used = 'xgboost_pickle_2020-08-06-10h_0_94749', number_samples = 150)"
   ]
  },
  {
   "cell_type": "code",
   "execution_count": null,
   "metadata": {},
   "outputs": [],
   "source": []
  }
 ],
 "metadata": {
  "kernelspec": {
   "display_name": "Python 3",
   "language": "python",
   "name": "python3"
  },
  "language_info": {
   "codemirror_mode": {
    "name": "ipython",
    "version": 3
   },
   "file_extension": ".py",
   "mimetype": "text/x-python",
   "name": "python",
   "nbconvert_exporter": "python",
   "pygments_lexer": "ipython3",
   "version": "3.7.4"
  }
 },
 "nbformat": 4,
 "nbformat_minor": 2
}
